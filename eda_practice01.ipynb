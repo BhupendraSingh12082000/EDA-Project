{
 "cells": [
  {
   "cell_type": "markdown",
   "id": "2cec253b-f885-4f12-a5de-0f9b65ca68fe",
   "metadata": {},
   "source": [
    "# 1.import libraries "
   ]
  },
  {
   "cell_type": "code",
   "execution_count": 1,
   "id": "2f2e39a5-d69c-45ea-84b4-d875dab4507c",
   "metadata": {},
   "outputs": [],
   "source": [
    "import pandas as pd\n",
    "import numpy as np"
   ]
  },
  {
   "cell_type": "markdown",
   "id": "165d55c5-ce06-4007-bac9-4b9b98ffed84",
   "metadata": {},
   "source": [
    "### 2.loading dataset :- date.csv"
   ]
  },
  {
   "cell_type": "code",
   "execution_count": 2,
   "id": "7f093912-6652-42f1-bbfb-d01dfa3cb163",
   "metadata": {},
   "outputs": [],
   "source": [
    "df = pd.read_csv(\"data.csv\",encoding = 'ISO-8859-1')"
   ]
  },
  {
   "cell_type": "markdown",
   "id": "8d98ac3f-26d8-4f57-af15-83fe340a7b98",
   "metadata": {},
   "source": [
    "### 3.Checking rows and columns"
   ]
  },
  {
   "cell_type": "code",
   "execution_count": 3,
   "id": "62ad2bc0-78c6-4e8f-b58c-e3c55f680108",
   "metadata": {},
   "outputs": [
    {
     "data": {
      "text/plain": [
       "(541909, 8)"
      ]
     },
     "execution_count": 3,
     "metadata": {},
     "output_type": "execute_result"
    }
   ],
   "source": [
    "df.shape"
   ]
  },
  {
   "cell_type": "markdown",
   "id": "38e22f81-a2fa-448d-98ce-fa7915737ad0",
   "metadata": {},
   "source": [
    "### 4. Accessing top 5 rows\n"
   ]
  },
  {
   "cell_type": "code",
   "execution_count": 4,
   "id": "b27b952a-472a-42c6-8aa7-ece9991ff004",
   "metadata": {},
   "outputs": [
    {
     "data": {
      "text/html": [
       "<div>\n",
       "<style scoped>\n",
       "    .dataframe tbody tr th:only-of-type {\n",
       "        vertical-align: middle;\n",
       "    }\n",
       "\n",
       "    .dataframe tbody tr th {\n",
       "        vertical-align: top;\n",
       "    }\n",
       "\n",
       "    .dataframe thead th {\n",
       "        text-align: right;\n",
       "    }\n",
       "</style>\n",
       "<table border=\"1\" class=\"dataframe\">\n",
       "  <thead>\n",
       "    <tr style=\"text-align: right;\">\n",
       "      <th></th>\n",
       "      <th>InvoiceNo</th>\n",
       "      <th>StockCode</th>\n",
       "      <th>Description</th>\n",
       "      <th>Quantity</th>\n",
       "      <th>InvoiceDate</th>\n",
       "      <th>UnitPrice</th>\n",
       "      <th>CustomerID</th>\n",
       "      <th>Country</th>\n",
       "    </tr>\n",
       "  </thead>\n",
       "  <tbody>\n",
       "    <tr>\n",
       "      <th>0</th>\n",
       "      <td>536365</td>\n",
       "      <td>85123A</td>\n",
       "      <td>WHITE HANGING HEART T-LIGHT HOLDER</td>\n",
       "      <td>6</td>\n",
       "      <td>12/1/2010 8:26</td>\n",
       "      <td>2.55</td>\n",
       "      <td>17850.0</td>\n",
       "      <td>United Kingdom</td>\n",
       "    </tr>\n",
       "    <tr>\n",
       "      <th>1</th>\n",
       "      <td>536365</td>\n",
       "      <td>71053</td>\n",
       "      <td>WHITE METAL LANTERN</td>\n",
       "      <td>6</td>\n",
       "      <td>12/1/2010 8:26</td>\n",
       "      <td>3.39</td>\n",
       "      <td>17850.0</td>\n",
       "      <td>United Kingdom</td>\n",
       "    </tr>\n",
       "    <tr>\n",
       "      <th>2</th>\n",
       "      <td>536365</td>\n",
       "      <td>84406B</td>\n",
       "      <td>CREAM CUPID HEARTS COAT HANGER</td>\n",
       "      <td>8</td>\n",
       "      <td>12/1/2010 8:26</td>\n",
       "      <td>2.75</td>\n",
       "      <td>17850.0</td>\n",
       "      <td>United Kingdom</td>\n",
       "    </tr>\n",
       "    <tr>\n",
       "      <th>3</th>\n",
       "      <td>536365</td>\n",
       "      <td>84029G</td>\n",
       "      <td>KNITTED UNION FLAG HOT WATER BOTTLE</td>\n",
       "      <td>6</td>\n",
       "      <td>12/1/2010 8:26</td>\n",
       "      <td>3.39</td>\n",
       "      <td>17850.0</td>\n",
       "      <td>United Kingdom</td>\n",
       "    </tr>\n",
       "    <tr>\n",
       "      <th>4</th>\n",
       "      <td>536365</td>\n",
       "      <td>84029E</td>\n",
       "      <td>RED WOOLLY HOTTIE WHITE HEART.</td>\n",
       "      <td>6</td>\n",
       "      <td>12/1/2010 8:26</td>\n",
       "      <td>3.39</td>\n",
       "      <td>17850.0</td>\n",
       "      <td>United Kingdom</td>\n",
       "    </tr>\n",
       "  </tbody>\n",
       "</table>\n",
       "</div>"
      ],
      "text/plain": [
       "  InvoiceNo StockCode                          Description  Quantity  \\\n",
       "0    536365    85123A   WHITE HANGING HEART T-LIGHT HOLDER         6   \n",
       "1    536365     71053                  WHITE METAL LANTERN         6   \n",
       "2    536365    84406B       CREAM CUPID HEARTS COAT HANGER         8   \n",
       "3    536365    84029G  KNITTED UNION FLAG HOT WATER BOTTLE         6   \n",
       "4    536365    84029E       RED WOOLLY HOTTIE WHITE HEART.         6   \n",
       "\n",
       "      InvoiceDate  UnitPrice  CustomerID         Country  \n",
       "0  12/1/2010 8:26       2.55     17850.0  United Kingdom  \n",
       "1  12/1/2010 8:26       3.39     17850.0  United Kingdom  \n",
       "2  12/1/2010 8:26       2.75     17850.0  United Kingdom  \n",
       "3  12/1/2010 8:26       3.39     17850.0  United Kingdom  \n",
       "4  12/1/2010 8:26       3.39     17850.0  United Kingdom  "
      ]
     },
     "execution_count": 4,
     "metadata": {},
     "output_type": "execute_result"
    }
   ],
   "source": [
    "df.head()"
   ]
  },
  {
   "cell_type": "markdown",
   "id": "7e75ccf8-5e26-4451-91f0-b2e5b3743bc9",
   "metadata": {},
   "source": [
    "### 5. Accessing bottom 5 rows"
   ]
  },
  {
   "cell_type": "code",
   "execution_count": 5,
   "id": "bbfe8607-db92-4e79-95d0-14dab7a45f64",
   "metadata": {},
   "outputs": [
    {
     "data": {
      "text/html": [
       "<div>\n",
       "<style scoped>\n",
       "    .dataframe tbody tr th:only-of-type {\n",
       "        vertical-align: middle;\n",
       "    }\n",
       "\n",
       "    .dataframe tbody tr th {\n",
       "        vertical-align: top;\n",
       "    }\n",
       "\n",
       "    .dataframe thead th {\n",
       "        text-align: right;\n",
       "    }\n",
       "</style>\n",
       "<table border=\"1\" class=\"dataframe\">\n",
       "  <thead>\n",
       "    <tr style=\"text-align: right;\">\n",
       "      <th></th>\n",
       "      <th>InvoiceNo</th>\n",
       "      <th>StockCode</th>\n",
       "      <th>Description</th>\n",
       "      <th>Quantity</th>\n",
       "      <th>InvoiceDate</th>\n",
       "      <th>UnitPrice</th>\n",
       "      <th>CustomerID</th>\n",
       "      <th>Country</th>\n",
       "    </tr>\n",
       "  </thead>\n",
       "  <tbody>\n",
       "    <tr>\n",
       "      <th>541904</th>\n",
       "      <td>581587</td>\n",
       "      <td>22613</td>\n",
       "      <td>PACK OF 20 SPACEBOY NAPKINS</td>\n",
       "      <td>12</td>\n",
       "      <td>12/9/2011 12:50</td>\n",
       "      <td>0.85</td>\n",
       "      <td>12680.0</td>\n",
       "      <td>France</td>\n",
       "    </tr>\n",
       "    <tr>\n",
       "      <th>541905</th>\n",
       "      <td>581587</td>\n",
       "      <td>22899</td>\n",
       "      <td>CHILDREN'S APRON DOLLY GIRL</td>\n",
       "      <td>6</td>\n",
       "      <td>12/9/2011 12:50</td>\n",
       "      <td>2.10</td>\n",
       "      <td>12680.0</td>\n",
       "      <td>France</td>\n",
       "    </tr>\n",
       "    <tr>\n",
       "      <th>541906</th>\n",
       "      <td>581587</td>\n",
       "      <td>23254</td>\n",
       "      <td>CHILDRENS CUTLERY DOLLY GIRL</td>\n",
       "      <td>4</td>\n",
       "      <td>12/9/2011 12:50</td>\n",
       "      <td>4.15</td>\n",
       "      <td>12680.0</td>\n",
       "      <td>France</td>\n",
       "    </tr>\n",
       "    <tr>\n",
       "      <th>541907</th>\n",
       "      <td>581587</td>\n",
       "      <td>23255</td>\n",
       "      <td>CHILDRENS CUTLERY CIRCUS PARADE</td>\n",
       "      <td>4</td>\n",
       "      <td>12/9/2011 12:50</td>\n",
       "      <td>4.15</td>\n",
       "      <td>12680.0</td>\n",
       "      <td>France</td>\n",
       "    </tr>\n",
       "    <tr>\n",
       "      <th>541908</th>\n",
       "      <td>581587</td>\n",
       "      <td>22138</td>\n",
       "      <td>BAKING SET 9 PIECE RETROSPOT</td>\n",
       "      <td>3</td>\n",
       "      <td>12/9/2011 12:50</td>\n",
       "      <td>4.95</td>\n",
       "      <td>12680.0</td>\n",
       "      <td>France</td>\n",
       "    </tr>\n",
       "  </tbody>\n",
       "</table>\n",
       "</div>"
      ],
      "text/plain": [
       "       InvoiceNo StockCode                      Description  Quantity  \\\n",
       "541904    581587     22613      PACK OF 20 SPACEBOY NAPKINS        12   \n",
       "541905    581587     22899     CHILDREN'S APRON DOLLY GIRL          6   \n",
       "541906    581587     23254    CHILDRENS CUTLERY DOLLY GIRL          4   \n",
       "541907    581587     23255  CHILDRENS CUTLERY CIRCUS PARADE         4   \n",
       "541908    581587     22138    BAKING SET 9 PIECE RETROSPOT          3   \n",
       "\n",
       "            InvoiceDate  UnitPrice  CustomerID Country  \n",
       "541904  12/9/2011 12:50       0.85     12680.0  France  \n",
       "541905  12/9/2011 12:50       2.10     12680.0  France  \n",
       "541906  12/9/2011 12:50       4.15     12680.0  France  \n",
       "541907  12/9/2011 12:50       4.15     12680.0  France  \n",
       "541908  12/9/2011 12:50       4.95     12680.0  France  "
      ]
     },
     "execution_count": 5,
     "metadata": {},
     "output_type": "execute_result"
    }
   ],
   "source": [
    "df.tail()"
   ]
  },
  {
   "cell_type": "markdown",
   "id": "2b9a4351-1f84-4cb7-b444-a15285ccb0e5",
   "metadata": {},
   "source": [
    "### 6. Accessing Total Columns Names\n"
   ]
  },
  {
   "cell_type": "code",
   "execution_count": 6,
   "id": "c180c7d6-4645-4369-ba15-4d6b68e8483c",
   "metadata": {},
   "outputs": [
    {
     "data": {
      "text/plain": [
       "Index(['InvoiceNo', 'StockCode', 'Description', 'Quantity', 'InvoiceDate',\n",
       "       'UnitPrice', 'CustomerID', 'Country'],\n",
       "      dtype='object')"
      ]
     },
     "execution_count": 6,
     "metadata": {},
     "output_type": "execute_result"
    }
   ],
   "source": [
    "df.columns"
   ]
  },
  {
   "cell_type": "markdown",
   "id": "a0b1044c-9c80-4210-91d8-e79bf5caa391",
   "metadata": {},
   "source": [
    "### 7. Accessing columns one by one by using for loop\n"
   ]
  },
  {
   "cell_type": "code",
   "execution_count": 7,
   "id": "58137c7a-73ad-412a-90d3-fc51a2bba1f8",
   "metadata": {},
   "outputs": [
    {
     "name": "stdout",
     "output_type": "stream",
     "text": [
      "InvoiceNo\n",
      "StockCode\n",
      "Description\n",
      "Quantity\n",
      "InvoiceDate\n",
      "UnitPrice\n",
      "CustomerID\n",
      "Country\n"
     ]
    }
   ],
   "source": [
    "for column in df.columns:\n",
    "    print(column)\n"
   ]
  },
  {
   "cell_type": "markdown",
   "id": "74f8ffb5-4cec-4d28-9d1d-454984fa0a69",
   "metadata": {},
   "source": [
    "### 8. Renaming column names(inplace parameter)\n"
   ]
  },
  {
   "cell_type": "code",
   "execution_count": 8,
   "id": "a95976fb-b8ec-48a2-b4e0-20d44370cbca",
   "metadata": {},
   "outputs": [],
   "source": [
    "d = {\n",
    "        'InvoiceNo': 'invoice_num',\n",
    "        'StockCode' : 'stock_code',\n",
    "        'Description' : 'description',\n",
    "        'Quantity' : 'quantity',\n",
    "        'InvoiceDate' : 'invoice_date',\n",
    "        'UnitPrice' : 'unit_price',\n",
    "        'CustomerID' : 'cust_id',\n",
    "        'Country' : 'country'\n",
    "}"
   ]
  },
  {
   "cell_type": "code",
   "execution_count": 9,
   "id": "54acb725-ea8a-4ed3-a107-0e20d2620c34",
   "metadata": {},
   "outputs": [
    {
     "data": {
      "text/plain": [
       "{'InvoiceNo': 'invoice_num',\n",
       " 'StockCode': 'stock_code',\n",
       " 'Description': 'description',\n",
       " 'Quantity': 'quantity',\n",
       " 'InvoiceDate': 'invoice_date',\n",
       " 'UnitPrice': 'unit_price',\n",
       " 'CustomerID': 'cust_id',\n",
       " 'Country': 'country'}"
      ]
     },
     "execution_count": 9,
     "metadata": {},
     "output_type": "execute_result"
    }
   ],
   "source": [
    "#print(d)\n",
    "d"
   ]
  },
  {
   "cell_type": "code",
   "execution_count": 10,
   "id": "2cb09261-be82-4397-abf9-0f746fe3a039",
   "metadata": {},
   "outputs": [],
   "source": [
    "df.rename(columns = d , inplace = True)\n"
   ]
  },
  {
   "cell_type": "markdown",
   "id": "bfce8205-853a-4f94-a341-01981dfaade4",
   "metadata": {},
   "source": [
    "### 9. After Changing Checking name of the columns\n"
   ]
  },
  {
   "cell_type": "code",
   "execution_count": 11,
   "id": "2e2c8046-fcd1-4f51-8253-b82717553d0f",
   "metadata": {},
   "outputs": [
    {
     "data": {
      "text/plain": [
       "Index(['invoice_num', 'stock_code', 'description', 'quantity', 'invoice_date',\n",
       "       'unit_price', 'cust_id', 'country'],\n",
       "      dtype='object')"
      ]
     },
     "execution_count": 11,
     "metadata": {},
     "output_type": "execute_result"
    }
   ],
   "source": [
    "df.columns"
   ]
  },
  {
   "cell_type": "markdown",
   "id": "82af293f-066e-4de9-b5ad-a5b3ede132da",
   "metadata": {},
   "source": [
    "### 10. After Changing Checking columns names data types"
   ]
  },
  {
   "cell_type": "code",
   "execution_count": 12,
   "id": "279ea5d2-f4f6-43ec-9f05-579f41747f86",
   "metadata": {},
   "outputs": [
    {
     "data": {
      "text/plain": [
       "invoice_num      object\n",
       "stock_code       object\n",
       "description      object\n",
       "quantity          int64\n",
       "invoice_date     object\n",
       "unit_price      float64\n",
       "cust_id         float64\n",
       "country          object\n",
       "dtype: object"
      ]
     },
     "execution_count": 12,
     "metadata": {},
     "output_type": "execute_result"
    }
   ],
   "source": [
    "df.dtypes"
   ]
  },
  {
   "cell_type": "markdown",
   "id": "1850c737-ecb7-4a63-83ab-f9b103098db1",
   "metadata": {},
   "source": [
    "### 11. Getting DataFrame information"
   ]
  },
  {
   "cell_type": "code",
   "execution_count": 13,
   "id": "6a7e71f1-9cda-4ba8-9827-81065c5e558d",
   "metadata": {},
   "outputs": [
    {
     "name": "stdout",
     "output_type": "stream",
     "text": [
      "<class 'pandas.core.frame.DataFrame'>\n",
      "RangeIndex: 541909 entries, 0 to 541908\n",
      "Data columns (total 8 columns):\n",
      " #   Column        Non-Null Count   Dtype  \n",
      "---  ------        --------------   -----  \n",
      " 0   invoice_num   541909 non-null  object \n",
      " 1   stock_code    541909 non-null  object \n",
      " 2   description   540455 non-null  object \n",
      " 3   quantity      541909 non-null  int64  \n",
      " 4   invoice_date  541909 non-null  object \n",
      " 5   unit_price    541909 non-null  float64\n",
      " 6   cust_id       406829 non-null  float64\n",
      " 7   country       541909 non-null  object \n",
      "dtypes: float64(2), int64(1), object(5)\n",
      "memory usage: 33.1+ MB\n"
     ]
    }
   ],
   "source": [
    "df.info()"
   ]
  },
  {
   "cell_type": "markdown",
   "id": "2acdb512-5e2d-4a3c-8612-511caac394b5",
   "metadata": {},
   "source": [
    "### 12. Checking Missing Value Row wise"
   ]
  },
  {
   "cell_type": "code",
   "execution_count": 14,
   "id": "7136db43-deab-410c-b22e-9e7761625c4f",
   "metadata": {},
   "outputs": [
    {
     "data": {
      "text/html": [
       "<div>\n",
       "<style scoped>\n",
       "    .dataframe tbody tr th:only-of-type {\n",
       "        vertical-align: middle;\n",
       "    }\n",
       "\n",
       "    .dataframe tbody tr th {\n",
       "        vertical-align: top;\n",
       "    }\n",
       "\n",
       "    .dataframe thead th {\n",
       "        text-align: right;\n",
       "    }\n",
       "</style>\n",
       "<table border=\"1\" class=\"dataframe\">\n",
       "  <thead>\n",
       "    <tr style=\"text-align: right;\">\n",
       "      <th></th>\n",
       "      <th>invoice_num</th>\n",
       "      <th>stock_code</th>\n",
       "      <th>description</th>\n",
       "      <th>quantity</th>\n",
       "      <th>invoice_date</th>\n",
       "      <th>unit_price</th>\n",
       "      <th>cust_id</th>\n",
       "      <th>country</th>\n",
       "    </tr>\n",
       "  </thead>\n",
       "  <tbody>\n",
       "    <tr>\n",
       "      <th>0</th>\n",
       "      <td>False</td>\n",
       "      <td>False</td>\n",
       "      <td>False</td>\n",
       "      <td>False</td>\n",
       "      <td>False</td>\n",
       "      <td>False</td>\n",
       "      <td>False</td>\n",
       "      <td>False</td>\n",
       "    </tr>\n",
       "    <tr>\n",
       "      <th>1</th>\n",
       "      <td>False</td>\n",
       "      <td>False</td>\n",
       "      <td>False</td>\n",
       "      <td>False</td>\n",
       "      <td>False</td>\n",
       "      <td>False</td>\n",
       "      <td>False</td>\n",
       "      <td>False</td>\n",
       "    </tr>\n",
       "    <tr>\n",
       "      <th>2</th>\n",
       "      <td>False</td>\n",
       "      <td>False</td>\n",
       "      <td>False</td>\n",
       "      <td>False</td>\n",
       "      <td>False</td>\n",
       "      <td>False</td>\n",
       "      <td>False</td>\n",
       "      <td>False</td>\n",
       "    </tr>\n",
       "    <tr>\n",
       "      <th>3</th>\n",
       "      <td>False</td>\n",
       "      <td>False</td>\n",
       "      <td>False</td>\n",
       "      <td>False</td>\n",
       "      <td>False</td>\n",
       "      <td>False</td>\n",
       "      <td>False</td>\n",
       "      <td>False</td>\n",
       "    </tr>\n",
       "    <tr>\n",
       "      <th>4</th>\n",
       "      <td>False</td>\n",
       "      <td>False</td>\n",
       "      <td>False</td>\n",
       "      <td>False</td>\n",
       "      <td>False</td>\n",
       "      <td>False</td>\n",
       "      <td>False</td>\n",
       "      <td>False</td>\n",
       "    </tr>\n",
       "  </tbody>\n",
       "</table>\n",
       "</div>"
      ],
      "text/plain": [
       "   invoice_num  stock_code  description  quantity  invoice_date  unit_price  \\\n",
       "0        False       False        False     False         False       False   \n",
       "1        False       False        False     False         False       False   \n",
       "2        False       False        False     False         False       False   \n",
       "3        False       False        False     False         False       False   \n",
       "4        False       False        False     False         False       False   \n",
       "\n",
       "   cust_id  country  \n",
       "0    False    False  \n",
       "1    False    False  \n",
       "2    False    False  \n",
       "3    False    False  \n",
       "4    False    False  "
      ]
     },
     "execution_count": 14,
     "metadata": {},
     "output_type": "execute_result"
    }
   ],
   "source": [
    "df.isnull().head()"
   ]
  },
  {
   "cell_type": "markdown",
   "id": "fdea8319-c27f-4817-af7c-6a0f4ef644cb",
   "metadata": {},
   "source": [
    "### 13.Checking Missing value count on each column"
   ]
  },
  {
   "cell_type": "code",
   "execution_count": 15,
   "id": "531be40a-6c18-4a28-9295-e02f8a120908",
   "metadata": {},
   "outputs": [
    {
     "data": {
      "text/plain": [
       "invoice_num          0\n",
       "stock_code           0\n",
       "description       1454\n",
       "quantity             0\n",
       "invoice_date         0\n",
       "unit_price           0\n",
       "cust_id         135080\n",
       "country              0\n",
       "dtype: int64"
      ]
     },
     "execution_count": 15,
     "metadata": {},
     "output_type": "execute_result"
    }
   ],
   "source": [
    "df.isnull().sum()"
   ]
  },
  {
   "cell_type": "markdown",
   "id": "efdc86cc-ad36-4eb1-959d-4fb5e08346d4",
   "metadata": {},
   "source": [
    "### 14. Checking Missing value in Ascending Order Apply sorting"
   ]
  },
  {
   "cell_type": "code",
   "execution_count": 16,
   "id": "428b60e9-2ae7-4bee-8ff9-d0642d9e9dd9",
   "metadata": {},
   "outputs": [
    {
     "data": {
      "text/plain": [
       "invoice_num          0\n",
       "stock_code           0\n",
       "quantity             0\n",
       "invoice_date         0\n",
       "unit_price           0\n",
       "country              0\n",
       "description       1454\n",
       "cust_id         135080\n",
       "dtype: int64"
      ]
     },
     "execution_count": 16,
     "metadata": {},
     "output_type": "execute_result"
    }
   ],
   "source": [
    "df.isnull().sum().sort_values()"
   ]
  },
  {
   "cell_type": "markdown",
   "id": "07648fc7-581d-4071-b289-81d43c2ba333",
   "metadata": {},
   "source": [
    "### 15. Checking Misssing values In Descending Order"
   ]
  },
  {
   "cell_type": "code",
   "execution_count": 17,
   "id": "21bb5abe-0ce6-4f15-8b8a-569f766fde7d",
   "metadata": {},
   "outputs": [
    {
     "data": {
      "text/plain": [
       "cust_id         135080\n",
       "description       1454\n",
       "invoice_num          0\n",
       "stock_code           0\n",
       "quantity             0\n",
       "invoice_date         0\n",
       "unit_price           0\n",
       "country              0\n",
       "dtype: int64"
      ]
     },
     "execution_count": 17,
     "metadata": {},
     "output_type": "execute_result"
    }
   ],
   "source": [
    "df.isnull().sum().sort_values(ascending = False)"
   ]
  },
  {
   "cell_type": "markdown",
   "id": "afaa4de9-0eb2-4c3d-ab9d-05db1092a276",
   "metadata": {},
   "source": [
    "### 16. Checking invoice_date column data type\n"
   ]
  },
  {
   "cell_type": "code",
   "execution_count": 18,
   "id": "b2fa6862-b679-4449-8d9c-2175ca4ede29",
   "metadata": {},
   "outputs": [
    {
     "data": {
      "text/plain": [
       "invoice_num      object\n",
       "stock_code       object\n",
       "description      object\n",
       "quantity          int64\n",
       "invoice_date     object\n",
       "unit_price      float64\n",
       "cust_id         float64\n",
       "country          object\n",
       "dtype: object"
      ]
     },
     "execution_count": 18,
     "metadata": {},
     "output_type": "execute_result"
    }
   ],
   "source": [
    "df.dtypes"
   ]
  },
  {
   "cell_type": "markdown",
   "id": "c4bccb4b-7daa-4903-b424-d1f9db858c51",
   "metadata": {},
   "source": [
    "### 17. Accessing intial data and focus on invoice_date  column"
   ]
  },
  {
   "cell_type": "code",
   "execution_count": 19,
   "id": "d3a8bd27-5ff3-4caa-843d-297e8e309b33",
   "metadata": {},
   "outputs": [
    {
     "data": {
      "text/html": [
       "<div>\n",
       "<style scoped>\n",
       "    .dataframe tbody tr th:only-of-type {\n",
       "        vertical-align: middle;\n",
       "    }\n",
       "\n",
       "    .dataframe tbody tr th {\n",
       "        vertical-align: top;\n",
       "    }\n",
       "\n",
       "    .dataframe thead th {\n",
       "        text-align: right;\n",
       "    }\n",
       "</style>\n",
       "<table border=\"1\" class=\"dataframe\">\n",
       "  <thead>\n",
       "    <tr style=\"text-align: right;\">\n",
       "      <th></th>\n",
       "      <th>invoice_num</th>\n",
       "      <th>stock_code</th>\n",
       "      <th>description</th>\n",
       "      <th>quantity</th>\n",
       "      <th>invoice_date</th>\n",
       "      <th>unit_price</th>\n",
       "      <th>cust_id</th>\n",
       "      <th>country</th>\n",
       "    </tr>\n",
       "  </thead>\n",
       "  <tbody>\n",
       "    <tr>\n",
       "      <th>0</th>\n",
       "      <td>536365</td>\n",
       "      <td>85123A</td>\n",
       "      <td>WHITE HANGING HEART T-LIGHT HOLDER</td>\n",
       "      <td>6</td>\n",
       "      <td>12/1/2010 8:26</td>\n",
       "      <td>2.55</td>\n",
       "      <td>17850.0</td>\n",
       "      <td>United Kingdom</td>\n",
       "    </tr>\n",
       "    <tr>\n",
       "      <th>1</th>\n",
       "      <td>536365</td>\n",
       "      <td>71053</td>\n",
       "      <td>WHITE METAL LANTERN</td>\n",
       "      <td>6</td>\n",
       "      <td>12/1/2010 8:26</td>\n",
       "      <td>3.39</td>\n",
       "      <td>17850.0</td>\n",
       "      <td>United Kingdom</td>\n",
       "    </tr>\n",
       "    <tr>\n",
       "      <th>2</th>\n",
       "      <td>536365</td>\n",
       "      <td>84406B</td>\n",
       "      <td>CREAM CUPID HEARTS COAT HANGER</td>\n",
       "      <td>8</td>\n",
       "      <td>12/1/2010 8:26</td>\n",
       "      <td>2.75</td>\n",
       "      <td>17850.0</td>\n",
       "      <td>United Kingdom</td>\n",
       "    </tr>\n",
       "    <tr>\n",
       "      <th>3</th>\n",
       "      <td>536365</td>\n",
       "      <td>84029G</td>\n",
       "      <td>KNITTED UNION FLAG HOT WATER BOTTLE</td>\n",
       "      <td>6</td>\n",
       "      <td>12/1/2010 8:26</td>\n",
       "      <td>3.39</td>\n",
       "      <td>17850.0</td>\n",
       "      <td>United Kingdom</td>\n",
       "    </tr>\n",
       "    <tr>\n",
       "      <th>4</th>\n",
       "      <td>536365</td>\n",
       "      <td>84029E</td>\n",
       "      <td>RED WOOLLY HOTTIE WHITE HEART.</td>\n",
       "      <td>6</td>\n",
       "      <td>12/1/2010 8:26</td>\n",
       "      <td>3.39</td>\n",
       "      <td>17850.0</td>\n",
       "      <td>United Kingdom</td>\n",
       "    </tr>\n",
       "  </tbody>\n",
       "</table>\n",
       "</div>"
      ],
      "text/plain": [
       "  invoice_num stock_code                          description  quantity  \\\n",
       "0      536365     85123A   WHITE HANGING HEART T-LIGHT HOLDER         6   \n",
       "1      536365      71053                  WHITE METAL LANTERN         6   \n",
       "2      536365     84406B       CREAM CUPID HEARTS COAT HANGER         8   \n",
       "3      536365     84029G  KNITTED UNION FLAG HOT WATER BOTTLE         6   \n",
       "4      536365     84029E       RED WOOLLY HOTTIE WHITE HEART.         6   \n",
       "\n",
       "     invoice_date  unit_price  cust_id         country  \n",
       "0  12/1/2010 8:26        2.55  17850.0  United Kingdom  \n",
       "1  12/1/2010 8:26        3.39  17850.0  United Kingdom  \n",
       "2  12/1/2010 8:26        2.75  17850.0  United Kingdom  \n",
       "3  12/1/2010 8:26        3.39  17850.0  United Kingdom  \n",
       "4  12/1/2010 8:26        3.39  17850.0  United Kingdom  "
      ]
     },
     "execution_count": 19,
     "metadata": {},
     "output_type": "execute_result"
    }
   ],
   "source": [
    "df.head()"
   ]
  },
  {
   "cell_type": "markdown",
   "id": "6e76a986-77f4-4d5a-83b7-6718a0a8e882",
   "metadata": {},
   "source": [
    "### 18. Covert invoice_date Data Type into  datetime Data Type"
   ]
  },
  {
   "cell_type": "code",
   "execution_count": 20,
   "id": "decc3522-2194-4415-ab03-ff571a0a4d81",
   "metadata": {},
   "outputs": [],
   "source": [
    "#df.invoice_date = pd.to_datetime(df.invoice_date , format = '%m%d%Y %H:%M')        # -->  we can also use this\n",
    "\n",
    "df['invoice_date'] = pd.to_datetime(df['invoice_date'], format='%m/%d/%Y %H:%M')\n"
   ]
  },
  {
   "cell_type": "markdown",
   "id": "fe0826ec-5b15-496a-8e88-37a999a83064",
   "metadata": {},
   "source": [
    "### 19. Rechecking type of invoice_date"
   ]
  },
  {
   "cell_type": "code",
   "execution_count": 21,
   "id": "92af05fd-296b-49fa-96c3-60ebd020b781",
   "metadata": {},
   "outputs": [
    {
     "data": {
      "text/plain": [
       "invoice_num             object\n",
       "stock_code              object\n",
       "description             object\n",
       "quantity                 int64\n",
       "invoice_date    datetime64[ns]\n",
       "unit_price             float64\n",
       "cust_id                float64\n",
       "country                 object\n",
       "dtype: object"
      ]
     },
     "execution_count": 21,
     "metadata": {},
     "output_type": "execute_result"
    }
   ],
   "source": [
    "df.dtypes"
   ]
  },
  {
   "cell_type": "markdown",
   "id": "f566cafc-5a98-4e92-bb2c-6bf3a2c183e3",
   "metadata": {},
   "source": [
    "### 20. Checking_invoice columns after convert datetime data type"
   ]
  },
  {
   "cell_type": "code",
   "execution_count": 22,
   "id": "0df1e175-8733-4f4a-8c5e-6bd7b56df1dd",
   "metadata": {},
   "outputs": [
    {
     "data": {
      "text/html": [
       "<div>\n",
       "<style scoped>\n",
       "    .dataframe tbody tr th:only-of-type {\n",
       "        vertical-align: middle;\n",
       "    }\n",
       "\n",
       "    .dataframe tbody tr th {\n",
       "        vertical-align: top;\n",
       "    }\n",
       "\n",
       "    .dataframe thead th {\n",
       "        text-align: right;\n",
       "    }\n",
       "</style>\n",
       "<table border=\"1\" class=\"dataframe\">\n",
       "  <thead>\n",
       "    <tr style=\"text-align: right;\">\n",
       "      <th></th>\n",
       "      <th>invoice_num</th>\n",
       "      <th>stock_code</th>\n",
       "      <th>description</th>\n",
       "      <th>quantity</th>\n",
       "      <th>invoice_date</th>\n",
       "      <th>unit_price</th>\n",
       "      <th>cust_id</th>\n",
       "      <th>country</th>\n",
       "    </tr>\n",
       "  </thead>\n",
       "  <tbody>\n",
       "    <tr>\n",
       "      <th>0</th>\n",
       "      <td>536365</td>\n",
       "      <td>85123A</td>\n",
       "      <td>WHITE HANGING HEART T-LIGHT HOLDER</td>\n",
       "      <td>6</td>\n",
       "      <td>2010-12-01 08:26:00</td>\n",
       "      <td>2.55</td>\n",
       "      <td>17850.0</td>\n",
       "      <td>United Kingdom</td>\n",
       "    </tr>\n",
       "    <tr>\n",
       "      <th>1</th>\n",
       "      <td>536365</td>\n",
       "      <td>71053</td>\n",
       "      <td>WHITE METAL LANTERN</td>\n",
       "      <td>6</td>\n",
       "      <td>2010-12-01 08:26:00</td>\n",
       "      <td>3.39</td>\n",
       "      <td>17850.0</td>\n",
       "      <td>United Kingdom</td>\n",
       "    </tr>\n",
       "    <tr>\n",
       "      <th>2</th>\n",
       "      <td>536365</td>\n",
       "      <td>84406B</td>\n",
       "      <td>CREAM CUPID HEARTS COAT HANGER</td>\n",
       "      <td>8</td>\n",
       "      <td>2010-12-01 08:26:00</td>\n",
       "      <td>2.75</td>\n",
       "      <td>17850.0</td>\n",
       "      <td>United Kingdom</td>\n",
       "    </tr>\n",
       "    <tr>\n",
       "      <th>3</th>\n",
       "      <td>536365</td>\n",
       "      <td>84029G</td>\n",
       "      <td>KNITTED UNION FLAG HOT WATER BOTTLE</td>\n",
       "      <td>6</td>\n",
       "      <td>2010-12-01 08:26:00</td>\n",
       "      <td>3.39</td>\n",
       "      <td>17850.0</td>\n",
       "      <td>United Kingdom</td>\n",
       "    </tr>\n",
       "    <tr>\n",
       "      <th>4</th>\n",
       "      <td>536365</td>\n",
       "      <td>84029E</td>\n",
       "      <td>RED WOOLLY HOTTIE WHITE HEART.</td>\n",
       "      <td>6</td>\n",
       "      <td>2010-12-01 08:26:00</td>\n",
       "      <td>3.39</td>\n",
       "      <td>17850.0</td>\n",
       "      <td>United Kingdom</td>\n",
       "    </tr>\n",
       "  </tbody>\n",
       "</table>\n",
       "</div>"
      ],
      "text/plain": [
       "  invoice_num stock_code                          description  quantity  \\\n",
       "0      536365     85123A   WHITE HANGING HEART T-LIGHT HOLDER         6   \n",
       "1      536365      71053                  WHITE METAL LANTERN         6   \n",
       "2      536365     84406B       CREAM CUPID HEARTS COAT HANGER         8   \n",
       "3      536365     84029G  KNITTED UNION FLAG HOT WATER BOTTLE         6   \n",
       "4      536365     84029E       RED WOOLLY HOTTIE WHITE HEART.         6   \n",
       "\n",
       "         invoice_date  unit_price  cust_id         country  \n",
       "0 2010-12-01 08:26:00        2.55  17850.0  United Kingdom  \n",
       "1 2010-12-01 08:26:00        3.39  17850.0  United Kingdom  \n",
       "2 2010-12-01 08:26:00        2.75  17850.0  United Kingdom  \n",
       "3 2010-12-01 08:26:00        3.39  17850.0  United Kingdom  \n",
       "4 2010-12-01 08:26:00        3.39  17850.0  United Kingdom  "
      ]
     },
     "execution_count": 22,
     "metadata": {},
     "output_type": "execute_result"
    }
   ],
   "source": [
    "df.head()"
   ]
  },
  {
   "cell_type": "markdown",
   "id": "33e7cbe6-1bea-4b83-b6fa-c90bfe257aaa",
   "metadata": {},
   "source": [
    "### 21. Let us check description column"
   ]
  },
  {
   "cell_type": "code",
   "execution_count": 23,
   "id": "6faae4d2-966b-4194-bc50-4a246c1b50db",
   "metadata": {},
   "outputs": [
    {
     "data": {
      "text/plain": [
       "0          WHITE HANGING HEART T-LIGHT HOLDER\n",
       "1                         WHITE METAL LANTERN\n",
       "2              CREAM CUPID HEARTS COAT HANGER\n",
       "3         KNITTED UNION FLAG HOT WATER BOTTLE\n",
       "4              RED WOOLLY HOTTIE WHITE HEART.\n",
       "                         ...                 \n",
       "541904            PACK OF 20 SPACEBOY NAPKINS\n",
       "541905           CHILDREN'S APRON DOLLY GIRL \n",
       "541906          CHILDRENS CUTLERY DOLLY GIRL \n",
       "541907        CHILDRENS CUTLERY CIRCUS PARADE\n",
       "541908          BAKING SET 9 PIECE RETROSPOT \n",
       "Name: description, Length: 541909, dtype: object"
      ]
     },
     "execution_count": 23,
     "metadata": {},
     "output_type": "execute_result"
    }
   ],
   "source": [
    "# df.description        ---> both are same\n",
    "df['description']"
   ]
  },
  {
   "cell_type": "markdown",
   "id": "52e6882d-ba2d-42ad-94a1-5a8d1826588b",
   "metadata": {},
   "source": [
    "### 22. Convert description values from upper case to lower case"
   ]
  },
  {
   "cell_type": "code",
   "execution_count": 24,
   "id": "5534f01a-32cd-401b-a57b-2c312d506785",
   "metadata": {},
   "outputs": [
    {
     "data": {
      "text/plain": [
       "0          white hanging heart t-light holder\n",
       "1                         white metal lantern\n",
       "2              cream cupid hearts coat hanger\n",
       "3         knitted union flag hot water bottle\n",
       "4              red woolly hottie white heart.\n",
       "                         ...                 \n",
       "541904            pack of 20 spaceboy napkins\n",
       "541905           children's apron dolly girl \n",
       "541906          childrens cutlery dolly girl \n",
       "541907        childrens cutlery circus parade\n",
       "541908          baking set 9 piece retrospot \n",
       "Name: description, Length: 541909, dtype: object"
      ]
     },
     "execution_count": 24,
     "metadata": {},
     "output_type": "execute_result"
    }
   ],
   "source": [
    "df.description.str.lower()"
   ]
  },
  {
   "cell_type": "markdown",
   "id": "3507a9ce-7121-49ad-8e42-f2f30781860e",
   "metadata": {},
   "source": [
    "### 23. Accessing first five rows"
   ]
  },
  {
   "cell_type": "code",
   "execution_count": 25,
   "id": "d5508604-4e8a-4c45-b6d2-01eaf34d42e5",
   "metadata": {},
   "outputs": [
    {
     "data": {
      "text/html": [
       "<div>\n",
       "<style scoped>\n",
       "    .dataframe tbody tr th:only-of-type {\n",
       "        vertical-align: middle;\n",
       "    }\n",
       "\n",
       "    .dataframe tbody tr th {\n",
       "        vertical-align: top;\n",
       "    }\n",
       "\n",
       "    .dataframe thead th {\n",
       "        text-align: right;\n",
       "    }\n",
       "</style>\n",
       "<table border=\"1\" class=\"dataframe\">\n",
       "  <thead>\n",
       "    <tr style=\"text-align: right;\">\n",
       "      <th></th>\n",
       "      <th>invoice_num</th>\n",
       "      <th>stock_code</th>\n",
       "      <th>description</th>\n",
       "      <th>quantity</th>\n",
       "      <th>invoice_date</th>\n",
       "      <th>unit_price</th>\n",
       "      <th>cust_id</th>\n",
       "      <th>country</th>\n",
       "    </tr>\n",
       "  </thead>\n",
       "  <tbody>\n",
       "    <tr>\n",
       "      <th>0</th>\n",
       "      <td>536365</td>\n",
       "      <td>85123A</td>\n",
       "      <td>WHITE HANGING HEART T-LIGHT HOLDER</td>\n",
       "      <td>6</td>\n",
       "      <td>2010-12-01 08:26:00</td>\n",
       "      <td>2.55</td>\n",
       "      <td>17850.0</td>\n",
       "      <td>United Kingdom</td>\n",
       "    </tr>\n",
       "    <tr>\n",
       "      <th>1</th>\n",
       "      <td>536365</td>\n",
       "      <td>71053</td>\n",
       "      <td>WHITE METAL LANTERN</td>\n",
       "      <td>6</td>\n",
       "      <td>2010-12-01 08:26:00</td>\n",
       "      <td>3.39</td>\n",
       "      <td>17850.0</td>\n",
       "      <td>United Kingdom</td>\n",
       "    </tr>\n",
       "    <tr>\n",
       "      <th>2</th>\n",
       "      <td>536365</td>\n",
       "      <td>84406B</td>\n",
       "      <td>CREAM CUPID HEARTS COAT HANGER</td>\n",
       "      <td>8</td>\n",
       "      <td>2010-12-01 08:26:00</td>\n",
       "      <td>2.75</td>\n",
       "      <td>17850.0</td>\n",
       "      <td>United Kingdom</td>\n",
       "    </tr>\n",
       "    <tr>\n",
       "      <th>3</th>\n",
       "      <td>536365</td>\n",
       "      <td>84029G</td>\n",
       "      <td>KNITTED UNION FLAG HOT WATER BOTTLE</td>\n",
       "      <td>6</td>\n",
       "      <td>2010-12-01 08:26:00</td>\n",
       "      <td>3.39</td>\n",
       "      <td>17850.0</td>\n",
       "      <td>United Kingdom</td>\n",
       "    </tr>\n",
       "    <tr>\n",
       "      <th>4</th>\n",
       "      <td>536365</td>\n",
       "      <td>84029E</td>\n",
       "      <td>RED WOOLLY HOTTIE WHITE HEART.</td>\n",
       "      <td>6</td>\n",
       "      <td>2010-12-01 08:26:00</td>\n",
       "      <td>3.39</td>\n",
       "      <td>17850.0</td>\n",
       "      <td>United Kingdom</td>\n",
       "    </tr>\n",
       "  </tbody>\n",
       "</table>\n",
       "</div>"
      ],
      "text/plain": [
       "  invoice_num stock_code                          description  quantity  \\\n",
       "0      536365     85123A   WHITE HANGING HEART T-LIGHT HOLDER         6   \n",
       "1      536365      71053                  WHITE METAL LANTERN         6   \n",
       "2      536365     84406B       CREAM CUPID HEARTS COAT HANGER         8   \n",
       "3      536365     84029G  KNITTED UNION FLAG HOT WATER BOTTLE         6   \n",
       "4      536365     84029E       RED WOOLLY HOTTIE WHITE HEART.         6   \n",
       "\n",
       "         invoice_date  unit_price  cust_id         country  \n",
       "0 2010-12-01 08:26:00        2.55  17850.0  United Kingdom  \n",
       "1 2010-12-01 08:26:00        3.39  17850.0  United Kingdom  \n",
       "2 2010-12-01 08:26:00        2.75  17850.0  United Kingdom  \n",
       "3 2010-12-01 08:26:00        3.39  17850.0  United Kingdom  \n",
       "4 2010-12-01 08:26:00        3.39  17850.0  United Kingdom  "
      ]
     },
     "execution_count": 25,
     "metadata": {},
     "output_type": "execute_result"
    }
   ],
   "source": [
    "df.head()"
   ]
  },
  {
   "cell_type": "markdown",
   "id": "a282236e-8b37-4dab-b0c0-932a4660085f",
   "metadata": {},
   "source": [
    "### 24. convert description column all values  upper to lower case"
   ]
  },
  {
   "cell_type": "code",
   "execution_count": 26,
   "id": "0cec881e-42c3-43ad-be6e-e525a2d972f8",
   "metadata": {},
   "outputs": [
    {
     "data": {
      "text/html": [
       "<div>\n",
       "<style scoped>\n",
       "    .dataframe tbody tr th:only-of-type {\n",
       "        vertical-align: middle;\n",
       "    }\n",
       "\n",
       "    .dataframe tbody tr th {\n",
       "        vertical-align: top;\n",
       "    }\n",
       "\n",
       "    .dataframe thead th {\n",
       "        text-align: right;\n",
       "    }\n",
       "</style>\n",
       "<table border=\"1\" class=\"dataframe\">\n",
       "  <thead>\n",
       "    <tr style=\"text-align: right;\">\n",
       "      <th></th>\n",
       "      <th>invoice_num</th>\n",
       "      <th>stock_code</th>\n",
       "      <th>description</th>\n",
       "      <th>quantity</th>\n",
       "      <th>invoice_date</th>\n",
       "      <th>unit_price</th>\n",
       "      <th>cust_id</th>\n",
       "      <th>country</th>\n",
       "    </tr>\n",
       "  </thead>\n",
       "  <tbody>\n",
       "    <tr>\n",
       "      <th>0</th>\n",
       "      <td>536365</td>\n",
       "      <td>85123A</td>\n",
       "      <td>white hanging heart t-light holder</td>\n",
       "      <td>6</td>\n",
       "      <td>2010-12-01 08:26:00</td>\n",
       "      <td>2.55</td>\n",
       "      <td>17850.0</td>\n",
       "      <td>United Kingdom</td>\n",
       "    </tr>\n",
       "    <tr>\n",
       "      <th>1</th>\n",
       "      <td>536365</td>\n",
       "      <td>71053</td>\n",
       "      <td>white metal lantern</td>\n",
       "      <td>6</td>\n",
       "      <td>2010-12-01 08:26:00</td>\n",
       "      <td>3.39</td>\n",
       "      <td>17850.0</td>\n",
       "      <td>United Kingdom</td>\n",
       "    </tr>\n",
       "    <tr>\n",
       "      <th>2</th>\n",
       "      <td>536365</td>\n",
       "      <td>84406B</td>\n",
       "      <td>cream cupid hearts coat hanger</td>\n",
       "      <td>8</td>\n",
       "      <td>2010-12-01 08:26:00</td>\n",
       "      <td>2.75</td>\n",
       "      <td>17850.0</td>\n",
       "      <td>United Kingdom</td>\n",
       "    </tr>\n",
       "    <tr>\n",
       "      <th>3</th>\n",
       "      <td>536365</td>\n",
       "      <td>84029G</td>\n",
       "      <td>knitted union flag hot water bottle</td>\n",
       "      <td>6</td>\n",
       "      <td>2010-12-01 08:26:00</td>\n",
       "      <td>3.39</td>\n",
       "      <td>17850.0</td>\n",
       "      <td>United Kingdom</td>\n",
       "    </tr>\n",
       "    <tr>\n",
       "      <th>4</th>\n",
       "      <td>536365</td>\n",
       "      <td>84029E</td>\n",
       "      <td>red woolly hottie white heart.</td>\n",
       "      <td>6</td>\n",
       "      <td>2010-12-01 08:26:00</td>\n",
       "      <td>3.39</td>\n",
       "      <td>17850.0</td>\n",
       "      <td>United Kingdom</td>\n",
       "    </tr>\n",
       "  </tbody>\n",
       "</table>\n",
       "</div>"
      ],
      "text/plain": [
       "  invoice_num stock_code                          description  quantity  \\\n",
       "0      536365     85123A   white hanging heart t-light holder         6   \n",
       "1      536365      71053                  white metal lantern         6   \n",
       "2      536365     84406B       cream cupid hearts coat hanger         8   \n",
       "3      536365     84029G  knitted union flag hot water bottle         6   \n",
       "4      536365     84029E       red woolly hottie white heart.         6   \n",
       "\n",
       "         invoice_date  unit_price  cust_id         country  \n",
       "0 2010-12-01 08:26:00        2.55  17850.0  United Kingdom  \n",
       "1 2010-12-01 08:26:00        3.39  17850.0  United Kingdom  \n",
       "2 2010-12-01 08:26:00        2.75  17850.0  United Kingdom  \n",
       "3 2010-12-01 08:26:00        3.39  17850.0  United Kingdom  \n",
       "4 2010-12-01 08:26:00        3.39  17850.0  United Kingdom  "
      ]
     },
     "execution_count": 26,
     "metadata": {},
     "output_type": "execute_result"
    }
   ],
   "source": [
    "df['description'] = df.description.str.lower()\n",
    "df.head()"
   ]
  },
  {
   "cell_type": "markdown",
   "id": "4bd16bcb-fa3c-497e-b2c0-2a55735fb4df",
   "metadata": {},
   "source": [
    "# Missing values\n"
   ]
  },
  {
   "cell_type": "markdown",
   "id": "b2aee392-be84-4270-b543-fb889571cd6f",
   "metadata": {},
   "source": [
    "### 25. Checking missing values: Row wise: Apply sorting, descending to ascending"
   ]
  },
  {
   "cell_type": "code",
   "execution_count": 27,
   "id": "7e6373d3-5300-4eaf-b44a-808d58e2c664",
   "metadata": {},
   "outputs": [
    {
     "data": {
      "text/html": [
       "<div>\n",
       "<style scoped>\n",
       "    .dataframe tbody tr th:only-of-type {\n",
       "        vertical-align: middle;\n",
       "    }\n",
       "\n",
       "    .dataframe tbody tr th {\n",
       "        vertical-align: top;\n",
       "    }\n",
       "\n",
       "    .dataframe thead th {\n",
       "        text-align: right;\n",
       "    }\n",
       "</style>\n",
       "<table border=\"1\" class=\"dataframe\">\n",
       "  <thead>\n",
       "    <tr style=\"text-align: right;\">\n",
       "      <th></th>\n",
       "      <th>invoice_num</th>\n",
       "      <th>stock_code</th>\n",
       "      <th>description</th>\n",
       "      <th>quantity</th>\n",
       "      <th>invoice_date</th>\n",
       "      <th>unit_price</th>\n",
       "      <th>cust_id</th>\n",
       "      <th>country</th>\n",
       "    </tr>\n",
       "  </thead>\n",
       "  <tbody>\n",
       "    <tr>\n",
       "      <th>0</th>\n",
       "      <td>False</td>\n",
       "      <td>False</td>\n",
       "      <td>False</td>\n",
       "      <td>False</td>\n",
       "      <td>False</td>\n",
       "      <td>False</td>\n",
       "      <td>False</td>\n",
       "      <td>False</td>\n",
       "    </tr>\n",
       "    <tr>\n",
       "      <th>1</th>\n",
       "      <td>False</td>\n",
       "      <td>False</td>\n",
       "      <td>False</td>\n",
       "      <td>False</td>\n",
       "      <td>False</td>\n",
       "      <td>False</td>\n",
       "      <td>False</td>\n",
       "      <td>False</td>\n",
       "    </tr>\n",
       "    <tr>\n",
       "      <th>2</th>\n",
       "      <td>False</td>\n",
       "      <td>False</td>\n",
       "      <td>False</td>\n",
       "      <td>False</td>\n",
       "      <td>False</td>\n",
       "      <td>False</td>\n",
       "      <td>False</td>\n",
       "      <td>False</td>\n",
       "    </tr>\n",
       "    <tr>\n",
       "      <th>3</th>\n",
       "      <td>False</td>\n",
       "      <td>False</td>\n",
       "      <td>False</td>\n",
       "      <td>False</td>\n",
       "      <td>False</td>\n",
       "      <td>False</td>\n",
       "      <td>False</td>\n",
       "      <td>False</td>\n",
       "    </tr>\n",
       "    <tr>\n",
       "      <th>4</th>\n",
       "      <td>False</td>\n",
       "      <td>False</td>\n",
       "      <td>False</td>\n",
       "      <td>False</td>\n",
       "      <td>False</td>\n",
       "      <td>False</td>\n",
       "      <td>False</td>\n",
       "      <td>False</td>\n",
       "    </tr>\n",
       "  </tbody>\n",
       "</table>\n",
       "</div>"
      ],
      "text/plain": [
       "   invoice_num  stock_code  description  quantity  invoice_date  unit_price  \\\n",
       "0        False       False        False     False         False       False   \n",
       "1        False       False        False     False         False       False   \n",
       "2        False       False        False     False         False       False   \n",
       "3        False       False        False     False         False       False   \n",
       "4        False       False        False     False         False       False   \n",
       "\n",
       "   cust_id  country  \n",
       "0    False    False  \n",
       "1    False    False  \n",
       "2    False    False  \n",
       "3    False    False  \n",
       "4    False    False  "
      ]
     },
     "execution_count": 27,
     "metadata": {},
     "output_type": "execute_result"
    }
   ],
   "source": [
    "df.isnull().head()"
   ]
  },
  {
   "cell_type": "code",
   "execution_count": 28,
   "id": "60ab71b5-c25c-4dab-88f6-240444b36d07",
   "metadata": {},
   "outputs": [
    {
     "data": {
      "text/plain": [
       "cust_id         135080\n",
       "description       1454\n",
       "invoice_num          0\n",
       "stock_code           0\n",
       "quantity             0\n",
       "invoice_date         0\n",
       "unit_price           0\n",
       "country              0\n",
       "dtype: int64"
      ]
     },
     "execution_count": 28,
     "metadata": {},
     "output_type": "execute_result"
    }
   ],
   "source": [
    "df.isnull().sum().sort_values(ascending = False)"
   ]
  },
  {
   "cell_type": "markdown",
   "id": "5e5153cb-8190-4277-ba74-8d0591f94c6e",
   "metadata": {},
   "source": [
    "### 26. Handle missing values/Dropping missing values\n"
   ]
  },
  {
   "cell_type": "code",
   "execution_count": 29,
   "id": "7af4a409-2424-4cce-aadb-f9fad78d22c3",
   "metadata": {},
   "outputs": [],
   "source": [
    "df_new = df.dropna()            # dropna() method , delete all NaN values"
   ]
  },
  {
   "cell_type": "code",
   "execution_count": 30,
   "id": "3632e918-9200-4ae9-98dc-e1f42c63d08e",
   "metadata": {},
   "outputs": [
    {
     "data": {
      "text/plain": [
       "invoice_num     0\n",
       "stock_code      0\n",
       "description     0\n",
       "quantity        0\n",
       "invoice_date    0\n",
       "unit_price      0\n",
       "cust_id         0\n",
       "country         0\n",
       "dtype: int64"
      ]
     },
     "execution_count": 30,
     "metadata": {},
     "output_type": "execute_result"
    }
   ],
   "source": [
    "df_new.isnull().sum()"
   ]
  },
  {
   "cell_type": "markdown",
   "id": "e1fae777-946b-443d-80b6-8b4718b12dbd",
   "metadata": {},
   "source": [
    "### 27.After Dropping - info()  method "
   ]
  },
  {
   "cell_type": "code",
   "execution_count": 31,
   "id": "1f9fa0b7-34c6-41bc-be34-52fedb98aba7",
   "metadata": {},
   "outputs": [
    {
     "name": "stdout",
     "output_type": "stream",
     "text": [
      "<class 'pandas.core.frame.DataFrame'>\n",
      "RangeIndex: 541909 entries, 0 to 541908\n",
      "Data columns (total 8 columns):\n",
      " #   Column        Non-Null Count   Dtype         \n",
      "---  ------        --------------   -----         \n",
      " 0   invoice_num   541909 non-null  object        \n",
      " 1   stock_code    541909 non-null  object        \n",
      " 2   description   540455 non-null  object        \n",
      " 3   quantity      541909 non-null  int64         \n",
      " 4   invoice_date  541909 non-null  datetime64[ns]\n",
      " 5   unit_price    541909 non-null  float64       \n",
      " 6   cust_id       406829 non-null  float64       \n",
      " 7   country       541909 non-null  object        \n",
      "dtypes: datetime64[ns](1), float64(2), int64(1), object(4)\n",
      "memory usage: 33.1+ MB\n"
     ]
    }
   ],
   "source": [
    "df.info()"
   ]
  },
  {
   "cell_type": "code",
   "execution_count": 32,
   "id": "0909c33c-bf18-46a6-8681-53934bbb1dd5",
   "metadata": {},
   "outputs": [
    {
     "data": {
      "text/html": [
       "<div>\n",
       "<style scoped>\n",
       "    .dataframe tbody tr th:only-of-type {\n",
       "        vertical-align: middle;\n",
       "    }\n",
       "\n",
       "    .dataframe tbody tr th {\n",
       "        vertical-align: top;\n",
       "    }\n",
       "\n",
       "    .dataframe thead th {\n",
       "        text-align: right;\n",
       "    }\n",
       "</style>\n",
       "<table border=\"1\" class=\"dataframe\">\n",
       "  <thead>\n",
       "    <tr style=\"text-align: right;\">\n",
       "      <th></th>\n",
       "      <th>invoice_num</th>\n",
       "      <th>stock_code</th>\n",
       "      <th>description</th>\n",
       "      <th>quantity</th>\n",
       "      <th>invoice_date</th>\n",
       "      <th>unit_price</th>\n",
       "      <th>cust_id</th>\n",
       "      <th>country</th>\n",
       "    </tr>\n",
       "  </thead>\n",
       "  <tbody>\n",
       "    <tr>\n",
       "      <th>0</th>\n",
       "      <td>536365</td>\n",
       "      <td>85123A</td>\n",
       "      <td>white hanging heart t-light holder</td>\n",
       "      <td>6</td>\n",
       "      <td>2010-12-01 08:26:00</td>\n",
       "      <td>2.55</td>\n",
       "      <td>17850.0</td>\n",
       "      <td>United Kingdom</td>\n",
       "    </tr>\n",
       "    <tr>\n",
       "      <th>1</th>\n",
       "      <td>536365</td>\n",
       "      <td>71053</td>\n",
       "      <td>white metal lantern</td>\n",
       "      <td>6</td>\n",
       "      <td>2010-12-01 08:26:00</td>\n",
       "      <td>3.39</td>\n",
       "      <td>17850.0</td>\n",
       "      <td>United Kingdom</td>\n",
       "    </tr>\n",
       "    <tr>\n",
       "      <th>2</th>\n",
       "      <td>536365</td>\n",
       "      <td>84406B</td>\n",
       "      <td>cream cupid hearts coat hanger</td>\n",
       "      <td>8</td>\n",
       "      <td>2010-12-01 08:26:00</td>\n",
       "      <td>2.75</td>\n",
       "      <td>17850.0</td>\n",
       "      <td>United Kingdom</td>\n",
       "    </tr>\n",
       "    <tr>\n",
       "      <th>3</th>\n",
       "      <td>536365</td>\n",
       "      <td>84029G</td>\n",
       "      <td>knitted union flag hot water bottle</td>\n",
       "      <td>6</td>\n",
       "      <td>2010-12-01 08:26:00</td>\n",
       "      <td>3.39</td>\n",
       "      <td>17850.0</td>\n",
       "      <td>United Kingdom</td>\n",
       "    </tr>\n",
       "    <tr>\n",
       "      <th>4</th>\n",
       "      <td>536365</td>\n",
       "      <td>84029E</td>\n",
       "      <td>red woolly hottie white heart.</td>\n",
       "      <td>6</td>\n",
       "      <td>2010-12-01 08:26:00</td>\n",
       "      <td>3.39</td>\n",
       "      <td>17850.0</td>\n",
       "      <td>United Kingdom</td>\n",
       "    </tr>\n",
       "  </tbody>\n",
       "</table>\n",
       "</div>"
      ],
      "text/plain": [
       "  invoice_num stock_code                          description  quantity  \\\n",
       "0      536365     85123A   white hanging heart t-light holder         6   \n",
       "1      536365      71053                  white metal lantern         6   \n",
       "2      536365     84406B       cream cupid hearts coat hanger         8   \n",
       "3      536365     84029G  knitted union flag hot water bottle         6   \n",
       "4      536365     84029E       red woolly hottie white heart.         6   \n",
       "\n",
       "         invoice_date  unit_price  cust_id         country  \n",
       "0 2010-12-01 08:26:00        2.55  17850.0  United Kingdom  \n",
       "1 2010-12-01 08:26:00        3.39  17850.0  United Kingdom  \n",
       "2 2010-12-01 08:26:00        2.75  17850.0  United Kingdom  \n",
       "3 2010-12-01 08:26:00        3.39  17850.0  United Kingdom  \n",
       "4 2010-12-01 08:26:00        3.39  17850.0  United Kingdom  "
      ]
     },
     "execution_count": 32,
     "metadata": {},
     "output_type": "execute_result"
    }
   ],
   "source": [
    "df.head()"
   ]
  },
  {
   "cell_type": "code",
   "execution_count": 33,
   "id": "017823c5-4a5c-4a1c-a8dd-a0232f3dc5d6",
   "metadata": {},
   "outputs": [
    {
     "data": {
      "text/html": [
       "<div>\n",
       "<style scoped>\n",
       "    .dataframe tbody tr th:only-of-type {\n",
       "        vertical-align: middle;\n",
       "    }\n",
       "\n",
       "    .dataframe tbody tr th {\n",
       "        vertical-align: top;\n",
       "    }\n",
       "\n",
       "    .dataframe thead th {\n",
       "        text-align: right;\n",
       "    }\n",
       "</style>\n",
       "<table border=\"1\" class=\"dataframe\">\n",
       "  <thead>\n",
       "    <tr style=\"text-align: right;\">\n",
       "      <th></th>\n",
       "      <th>invoice_num</th>\n",
       "      <th>stock_code</th>\n",
       "      <th>description</th>\n",
       "      <th>quantity</th>\n",
       "      <th>invoice_date</th>\n",
       "      <th>unit_price</th>\n",
       "      <th>cust_id</th>\n",
       "      <th>country</th>\n",
       "    </tr>\n",
       "  </thead>\n",
       "  <tbody>\n",
       "    <tr>\n",
       "      <th>0</th>\n",
       "      <td>536365</td>\n",
       "      <td>85123A</td>\n",
       "      <td>white hanging heart t-light holder</td>\n",
       "      <td>6</td>\n",
       "      <td>2010-12-01 08:26:00</td>\n",
       "      <td>2.55</td>\n",
       "      <td>17850.0</td>\n",
       "      <td>United Kingdom</td>\n",
       "    </tr>\n",
       "    <tr>\n",
       "      <th>1</th>\n",
       "      <td>536365</td>\n",
       "      <td>71053</td>\n",
       "      <td>white metal lantern</td>\n",
       "      <td>6</td>\n",
       "      <td>2010-12-01 08:26:00</td>\n",
       "      <td>3.39</td>\n",
       "      <td>17850.0</td>\n",
       "      <td>United Kingdom</td>\n",
       "    </tr>\n",
       "    <tr>\n",
       "      <th>2</th>\n",
       "      <td>536365</td>\n",
       "      <td>84406B</td>\n",
       "      <td>cream cupid hearts coat hanger</td>\n",
       "      <td>8</td>\n",
       "      <td>2010-12-01 08:26:00</td>\n",
       "      <td>2.75</td>\n",
       "      <td>17850.0</td>\n",
       "      <td>United Kingdom</td>\n",
       "    </tr>\n",
       "    <tr>\n",
       "      <th>3</th>\n",
       "      <td>536365</td>\n",
       "      <td>84029G</td>\n",
       "      <td>knitted union flag hot water bottle</td>\n",
       "      <td>6</td>\n",
       "      <td>2010-12-01 08:26:00</td>\n",
       "      <td>3.39</td>\n",
       "      <td>17850.0</td>\n",
       "      <td>United Kingdom</td>\n",
       "    </tr>\n",
       "    <tr>\n",
       "      <th>4</th>\n",
       "      <td>536365</td>\n",
       "      <td>84029E</td>\n",
       "      <td>red woolly hottie white heart.</td>\n",
       "      <td>6</td>\n",
       "      <td>2010-12-01 08:26:00</td>\n",
       "      <td>3.39</td>\n",
       "      <td>17850.0</td>\n",
       "      <td>United Kingdom</td>\n",
       "    </tr>\n",
       "  </tbody>\n",
       "</table>\n",
       "</div>"
      ],
      "text/plain": [
       "  invoice_num stock_code                          description  quantity  \\\n",
       "0      536365     85123A   white hanging heart t-light holder         6   \n",
       "1      536365      71053                  white metal lantern         6   \n",
       "2      536365     84406B       cream cupid hearts coat hanger         8   \n",
       "3      536365     84029G  knitted union flag hot water bottle         6   \n",
       "4      536365     84029E       red woolly hottie white heart.         6   \n",
       "\n",
       "         invoice_date  unit_price  cust_id         country  \n",
       "0 2010-12-01 08:26:00        2.55  17850.0  United Kingdom  \n",
       "1 2010-12-01 08:26:00        3.39  17850.0  United Kingdom  \n",
       "2 2010-12-01 08:26:00        2.75  17850.0  United Kingdom  \n",
       "3 2010-12-01 08:26:00        3.39  17850.0  United Kingdom  \n",
       "4 2010-12-01 08:26:00        3.39  17850.0  United Kingdom  "
      ]
     },
     "execution_count": 33,
     "metadata": {},
     "output_type": "execute_result"
    }
   ],
   "source": [
    "df_new.head()"
   ]
  },
  {
   "cell_type": "markdown",
   "id": "be7216e7-cc62-4578-b9bb-4793ddf824c3",
   "metadata": {},
   "source": [
    "## 28. Check type of cust_id data type\n"
   ]
  },
  {
   "cell_type": "code",
   "execution_count": 34,
   "id": "f24434e0-e89e-442b-b9d4-41d67f5b62c3",
   "metadata": {},
   "outputs": [
    {
     "data": {
      "text/plain": [
       "invoice_num             object\n",
       "stock_code              object\n",
       "description             object\n",
       "quantity                 int64\n",
       "invoice_date    datetime64[ns]\n",
       "unit_price             float64\n",
       "cust_id                float64\n",
       "country                 object\n",
       "dtype: object"
      ]
     },
     "execution_count": 34,
     "metadata": {},
     "output_type": "execute_result"
    }
   ],
   "source": [
    "df_new.dtypes        # ----->  customer id never be float"
   ]
  },
  {
   "cell_type": "markdown",
   "id": "51c03487-7f85-4385-be7d-6e3a73978a31",
   "metadata": {},
   "source": [
    "### 29. Converting Customer Id :-  float into integer data type"
   ]
  },
  {
   "cell_type": "markdown",
   "id": "847ce865-6c43-4621-b055-93b5b52be895",
   "metadata": {},
   "source": [
    "- ####  Accessing cust_id"
   ]
  },
  {
   "cell_type": "code",
   "execution_count": 35,
   "id": "0bbfbe74-546a-4f57-977a-fd5d8516cfe6",
   "metadata": {},
   "outputs": [
    {
     "data": {
      "text/plain": [
       "0         17850.0\n",
       "1         17850.0\n",
       "2         17850.0\n",
       "3         17850.0\n",
       "4         17850.0\n",
       "           ...   \n",
       "541904    12680.0\n",
       "541905    12680.0\n",
       "541906    12680.0\n",
       "541907    12680.0\n",
       "541908    12680.0\n",
       "Name: cust_id, Length: 406829, dtype: float64"
      ]
     },
     "execution_count": 35,
     "metadata": {},
     "output_type": "execute_result"
    }
   ],
   "source": [
    "df_new['cust_id']      # df['cust_id']  and  df_new['cust_id']      -->  both are different"
   ]
  },
  {
   "cell_type": "markdown",
   "id": "f7edeaa4-04ec-4dbf-88ef-ef3a8a132775",
   "metadata": {},
   "source": [
    "- ### Ignoring warnings in jupyter"
   ]
  },
  {
   "cell_type": "code",
   "execution_count": 36,
   "id": "9d3f2b6b-53ee-455d-b54c-eaec112e5c6a",
   "metadata": {},
   "outputs": [],
   "source": [
    "import warnings\n",
    "warnings.filterwarnings('ignore')"
   ]
  },
  {
   "cell_type": "code",
   "execution_count": 37,
   "id": "649de371-34e3-4030-a217-ae7dad3036de",
   "metadata": {},
   "outputs": [],
   "source": [
    "df_new['cust_id'] = df_new['cust_id'].astype('int64')"
   ]
  },
  {
   "cell_type": "code",
   "execution_count": 38,
   "id": "b37e112f-e5b2-436a-8cab-21aa5659d822",
   "metadata": {},
   "outputs": [
    {
     "data": {
      "text/html": [
       "<div>\n",
       "<style scoped>\n",
       "    .dataframe tbody tr th:only-of-type {\n",
       "        vertical-align: middle;\n",
       "    }\n",
       "\n",
       "    .dataframe tbody tr th {\n",
       "        vertical-align: top;\n",
       "    }\n",
       "\n",
       "    .dataframe thead th {\n",
       "        text-align: right;\n",
       "    }\n",
       "</style>\n",
       "<table border=\"1\" class=\"dataframe\">\n",
       "  <thead>\n",
       "    <tr style=\"text-align: right;\">\n",
       "      <th></th>\n",
       "      <th>invoice_num</th>\n",
       "      <th>stock_code</th>\n",
       "      <th>description</th>\n",
       "      <th>quantity</th>\n",
       "      <th>invoice_date</th>\n",
       "      <th>unit_price</th>\n",
       "      <th>cust_id</th>\n",
       "      <th>country</th>\n",
       "    </tr>\n",
       "  </thead>\n",
       "  <tbody>\n",
       "    <tr>\n",
       "      <th>0</th>\n",
       "      <td>536365</td>\n",
       "      <td>85123A</td>\n",
       "      <td>white hanging heart t-light holder</td>\n",
       "      <td>6</td>\n",
       "      <td>2010-12-01 08:26:00</td>\n",
       "      <td>2.55</td>\n",
       "      <td>17850.0</td>\n",
       "      <td>United Kingdom</td>\n",
       "    </tr>\n",
       "    <tr>\n",
       "      <th>1</th>\n",
       "      <td>536365</td>\n",
       "      <td>71053</td>\n",
       "      <td>white metal lantern</td>\n",
       "      <td>6</td>\n",
       "      <td>2010-12-01 08:26:00</td>\n",
       "      <td>3.39</td>\n",
       "      <td>17850.0</td>\n",
       "      <td>United Kingdom</td>\n",
       "    </tr>\n",
       "    <tr>\n",
       "      <th>2</th>\n",
       "      <td>536365</td>\n",
       "      <td>84406B</td>\n",
       "      <td>cream cupid hearts coat hanger</td>\n",
       "      <td>8</td>\n",
       "      <td>2010-12-01 08:26:00</td>\n",
       "      <td>2.75</td>\n",
       "      <td>17850.0</td>\n",
       "      <td>United Kingdom</td>\n",
       "    </tr>\n",
       "    <tr>\n",
       "      <th>3</th>\n",
       "      <td>536365</td>\n",
       "      <td>84029G</td>\n",
       "      <td>knitted union flag hot water bottle</td>\n",
       "      <td>6</td>\n",
       "      <td>2010-12-01 08:26:00</td>\n",
       "      <td>3.39</td>\n",
       "      <td>17850.0</td>\n",
       "      <td>United Kingdom</td>\n",
       "    </tr>\n",
       "    <tr>\n",
       "      <th>4</th>\n",
       "      <td>536365</td>\n",
       "      <td>84029E</td>\n",
       "      <td>red woolly hottie white heart.</td>\n",
       "      <td>6</td>\n",
       "      <td>2010-12-01 08:26:00</td>\n",
       "      <td>3.39</td>\n",
       "      <td>17850.0</td>\n",
       "      <td>United Kingdom</td>\n",
       "    </tr>\n",
       "  </tbody>\n",
       "</table>\n",
       "</div>"
      ],
      "text/plain": [
       "  invoice_num stock_code                          description  quantity  \\\n",
       "0      536365     85123A   white hanging heart t-light holder         6   \n",
       "1      536365      71053                  white metal lantern         6   \n",
       "2      536365     84406B       cream cupid hearts coat hanger         8   \n",
       "3      536365     84029G  knitted union flag hot water bottle         6   \n",
       "4      536365     84029E       red woolly hottie white heart.         6   \n",
       "\n",
       "         invoice_date  unit_price  cust_id         country  \n",
       "0 2010-12-01 08:26:00        2.55  17850.0  United Kingdom  \n",
       "1 2010-12-01 08:26:00        3.39  17850.0  United Kingdom  \n",
       "2 2010-12-01 08:26:00        2.75  17850.0  United Kingdom  \n",
       "3 2010-12-01 08:26:00        3.39  17850.0  United Kingdom  \n",
       "4 2010-12-01 08:26:00        3.39  17850.0  United Kingdom  "
      ]
     },
     "execution_count": 38,
     "metadata": {},
     "output_type": "execute_result"
    }
   ],
   "source": [
    "df.head()\n"
   ]
  },
  {
   "cell_type": "markdown",
   "id": "653050aa-24e9-4c39-b5e1-53a76e12ab13",
   "metadata": {},
   "source": [
    "- ### Re-checking cust_id column"
   ]
  },
  {
   "cell_type": "code",
   "execution_count": 39,
   "id": "d5da03f4-f9ae-4414-8a5f-c71ec6f72df3",
   "metadata": {},
   "outputs": [
    {
     "data": {
      "text/html": [
       "<div>\n",
       "<style scoped>\n",
       "    .dataframe tbody tr th:only-of-type {\n",
       "        vertical-align: middle;\n",
       "    }\n",
       "\n",
       "    .dataframe tbody tr th {\n",
       "        vertical-align: top;\n",
       "    }\n",
       "\n",
       "    .dataframe thead th {\n",
       "        text-align: right;\n",
       "    }\n",
       "</style>\n",
       "<table border=\"1\" class=\"dataframe\">\n",
       "  <thead>\n",
       "    <tr style=\"text-align: right;\">\n",
       "      <th></th>\n",
       "      <th>invoice_num</th>\n",
       "      <th>stock_code</th>\n",
       "      <th>description</th>\n",
       "      <th>quantity</th>\n",
       "      <th>invoice_date</th>\n",
       "      <th>unit_price</th>\n",
       "      <th>cust_id</th>\n",
       "      <th>country</th>\n",
       "    </tr>\n",
       "  </thead>\n",
       "  <tbody>\n",
       "    <tr>\n",
       "      <th>0</th>\n",
       "      <td>536365</td>\n",
       "      <td>85123A</td>\n",
       "      <td>white hanging heart t-light holder</td>\n",
       "      <td>6</td>\n",
       "      <td>2010-12-01 08:26:00</td>\n",
       "      <td>2.55</td>\n",
       "      <td>17850</td>\n",
       "      <td>United Kingdom</td>\n",
       "    </tr>\n",
       "    <tr>\n",
       "      <th>1</th>\n",
       "      <td>536365</td>\n",
       "      <td>71053</td>\n",
       "      <td>white metal lantern</td>\n",
       "      <td>6</td>\n",
       "      <td>2010-12-01 08:26:00</td>\n",
       "      <td>3.39</td>\n",
       "      <td>17850</td>\n",
       "      <td>United Kingdom</td>\n",
       "    </tr>\n",
       "    <tr>\n",
       "      <th>2</th>\n",
       "      <td>536365</td>\n",
       "      <td>84406B</td>\n",
       "      <td>cream cupid hearts coat hanger</td>\n",
       "      <td>8</td>\n",
       "      <td>2010-12-01 08:26:00</td>\n",
       "      <td>2.75</td>\n",
       "      <td>17850</td>\n",
       "      <td>United Kingdom</td>\n",
       "    </tr>\n",
       "    <tr>\n",
       "      <th>3</th>\n",
       "      <td>536365</td>\n",
       "      <td>84029G</td>\n",
       "      <td>knitted union flag hot water bottle</td>\n",
       "      <td>6</td>\n",
       "      <td>2010-12-01 08:26:00</td>\n",
       "      <td>3.39</td>\n",
       "      <td>17850</td>\n",
       "      <td>United Kingdom</td>\n",
       "    </tr>\n",
       "    <tr>\n",
       "      <th>4</th>\n",
       "      <td>536365</td>\n",
       "      <td>84029E</td>\n",
       "      <td>red woolly hottie white heart.</td>\n",
       "      <td>6</td>\n",
       "      <td>2010-12-01 08:26:00</td>\n",
       "      <td>3.39</td>\n",
       "      <td>17850</td>\n",
       "      <td>United Kingdom</td>\n",
       "    </tr>\n",
       "  </tbody>\n",
       "</table>\n",
       "</div>"
      ],
      "text/plain": [
       "  invoice_num stock_code                          description  quantity  \\\n",
       "0      536365     85123A   white hanging heart t-light holder         6   \n",
       "1      536365      71053                  white metal lantern         6   \n",
       "2      536365     84406B       cream cupid hearts coat hanger         8   \n",
       "3      536365     84029G  knitted union flag hot water bottle         6   \n",
       "4      536365     84029E       red woolly hottie white heart.         6   \n",
       "\n",
       "         invoice_date  unit_price  cust_id         country  \n",
       "0 2010-12-01 08:26:00        2.55    17850  United Kingdom  \n",
       "1 2010-12-01 08:26:00        3.39    17850  United Kingdom  \n",
       "2 2010-12-01 08:26:00        2.75    17850  United Kingdom  \n",
       "3 2010-12-01 08:26:00        3.39    17850  United Kingdom  \n",
       "4 2010-12-01 08:26:00        3.39    17850  United Kingdom  "
      ]
     },
     "execution_count": 39,
     "metadata": {},
     "output_type": "execute_result"
    }
   ],
   "source": [
    "df_new.head()"
   ]
  },
  {
   "cell_type": "markdown",
   "id": "db81d0d8-a19d-4576-8367-f505b8b4ebee",
   "metadata": {},
   "source": [
    "- ###  Re-Accessing cust_id "
   ]
  },
  {
   "cell_type": "code",
   "execution_count": 40,
   "id": "a13e8eee-431f-4eb5-8509-a4e0fe6374a8",
   "metadata": {},
   "outputs": [
    {
     "data": {
      "text/plain": [
       "0         17850\n",
       "1         17850\n",
       "2         17850\n",
       "3         17850\n",
       "4         17850\n",
       "          ...  \n",
       "541904    12680\n",
       "541905    12680\n",
       "541906    12680\n",
       "541907    12680\n",
       "541908    12680\n",
       "Name: cust_id, Length: 406829, dtype: int64"
      ]
     },
     "execution_count": 40,
     "metadata": {},
     "output_type": "execute_result"
    }
   ],
   "source": [
    "df_new.cust_id"
   ]
  },
  {
   "cell_type": "markdown",
   "id": "54408ab8-8905-4e68-82b9-b7491fe8d455",
   "metadata": {},
   "source": [
    "###  30. New DataFrame information"
   ]
  },
  {
   "cell_type": "code",
   "execution_count": 41,
   "id": "4da14c8f-8558-436a-9e10-44f681d102bd",
   "metadata": {},
   "outputs": [
    {
     "name": "stdout",
     "output_type": "stream",
     "text": [
      "<class 'pandas.core.frame.DataFrame'>\n",
      "Index: 406829 entries, 0 to 541908\n",
      "Data columns (total 8 columns):\n",
      " #   Column        Non-Null Count   Dtype         \n",
      "---  ------        --------------   -----         \n",
      " 0   invoice_num   406829 non-null  object        \n",
      " 1   stock_code    406829 non-null  object        \n",
      " 2   description   406829 non-null  object        \n",
      " 3   quantity      406829 non-null  int64         \n",
      " 4   invoice_date  406829 non-null  datetime64[ns]\n",
      " 5   unit_price    406829 non-null  float64       \n",
      " 6   cust_id       406829 non-null  int64         \n",
      " 7   country       406829 non-null  object        \n",
      "dtypes: datetime64[ns](1), float64(1), int64(2), object(4)\n",
      "memory usage: 27.9+ MB\n"
     ]
    }
   ],
   "source": [
    "df_new.info()"
   ]
  },
  {
   "cell_type": "markdown",
   "id": "5ab14c03-e613-49d6-9555-22a489710073",
   "metadata": {},
   "source": [
    "# 31. DataFrame Description"
   ]
  },
  {
   "cell_type": "code",
   "execution_count": 42,
   "id": "99acfd26-922c-4d0e-b183-403c6bf61307",
   "metadata": {},
   "outputs": [
    {
     "data": {
      "text/html": [
       "<div>\n",
       "<style scoped>\n",
       "    .dataframe tbody tr th:only-of-type {\n",
       "        vertical-align: middle;\n",
       "    }\n",
       "\n",
       "    .dataframe tbody tr th {\n",
       "        vertical-align: top;\n",
       "    }\n",
       "\n",
       "    .dataframe thead th {\n",
       "        text-align: right;\n",
       "    }\n",
       "</style>\n",
       "<table border=\"1\" class=\"dataframe\">\n",
       "  <thead>\n",
       "    <tr style=\"text-align: right;\">\n",
       "      <th></th>\n",
       "      <th>quantity</th>\n",
       "      <th>invoice_date</th>\n",
       "      <th>unit_price</th>\n",
       "      <th>cust_id</th>\n",
       "    </tr>\n",
       "  </thead>\n",
       "  <tbody>\n",
       "    <tr>\n",
       "      <th>count</th>\n",
       "      <td>406829.000000</td>\n",
       "      <td>406829</td>\n",
       "      <td>406829.000000</td>\n",
       "      <td>406829.000000</td>\n",
       "    </tr>\n",
       "    <tr>\n",
       "      <th>mean</th>\n",
       "      <td>12.061303</td>\n",
       "      <td>2011-07-10 16:30:57.879207424</td>\n",
       "      <td>3.460471</td>\n",
       "      <td>15287.690570</td>\n",
       "    </tr>\n",
       "    <tr>\n",
       "      <th>min</th>\n",
       "      <td>-80995.000000</td>\n",
       "      <td>2010-12-01 08:26:00</td>\n",
       "      <td>0.000000</td>\n",
       "      <td>12346.000000</td>\n",
       "    </tr>\n",
       "    <tr>\n",
       "      <th>25%</th>\n",
       "      <td>2.000000</td>\n",
       "      <td>2011-04-06 15:02:00</td>\n",
       "      <td>1.250000</td>\n",
       "      <td>13953.000000</td>\n",
       "    </tr>\n",
       "    <tr>\n",
       "      <th>50%</th>\n",
       "      <td>5.000000</td>\n",
       "      <td>2011-07-31 11:48:00</td>\n",
       "      <td>1.950000</td>\n",
       "      <td>15152.000000</td>\n",
       "    </tr>\n",
       "    <tr>\n",
       "      <th>75%</th>\n",
       "      <td>12.000000</td>\n",
       "      <td>2011-10-20 13:06:00</td>\n",
       "      <td>3.750000</td>\n",
       "      <td>16791.000000</td>\n",
       "    </tr>\n",
       "    <tr>\n",
       "      <th>max</th>\n",
       "      <td>80995.000000</td>\n",
       "      <td>2011-12-09 12:50:00</td>\n",
       "      <td>38970.000000</td>\n",
       "      <td>18287.000000</td>\n",
       "    </tr>\n",
       "    <tr>\n",
       "      <th>std</th>\n",
       "      <td>248.693370</td>\n",
       "      <td>NaN</td>\n",
       "      <td>69.315162</td>\n",
       "      <td>1713.600303</td>\n",
       "    </tr>\n",
       "  </tbody>\n",
       "</table>\n",
       "</div>"
      ],
      "text/plain": [
       "            quantity                   invoice_date     unit_price  \\\n",
       "count  406829.000000                         406829  406829.000000   \n",
       "mean       12.061303  2011-07-10 16:30:57.879207424       3.460471   \n",
       "min    -80995.000000            2010-12-01 08:26:00       0.000000   \n",
       "25%         2.000000            2011-04-06 15:02:00       1.250000   \n",
       "50%         5.000000            2011-07-31 11:48:00       1.950000   \n",
       "75%        12.000000            2011-10-20 13:06:00       3.750000   \n",
       "max     80995.000000            2011-12-09 12:50:00   38970.000000   \n",
       "std       248.693370                            NaN      69.315162   \n",
       "\n",
       "             cust_id  \n",
       "count  406829.000000  \n",
       "mean    15287.690570  \n",
       "min     12346.000000  \n",
       "25%     13953.000000  \n",
       "50%     15152.000000  \n",
       "75%     16791.000000  \n",
       "max     18287.000000  \n",
       "std      1713.600303  "
      ]
     },
     "execution_count": 42,
     "metadata": {},
     "output_type": "execute_result"
    }
   ],
   "source": [
    "df_new.describe()"
   ]
  },
  {
   "cell_type": "markdown",
   "id": "209932e1-65a6-4730-bf9b-504c3306d02b",
   "metadata": {},
   "source": [
    "### 32.Round the value in dataframe"
   ]
  },
  {
   "cell_type": "code",
   "execution_count": 43,
   "id": "8b969b1a-e45d-4cf2-ac9b-8718109cf4b5",
   "metadata": {},
   "outputs": [
    {
     "data": {
      "text/html": [
       "<div>\n",
       "<style scoped>\n",
       "    .dataframe tbody tr th:only-of-type {\n",
       "        vertical-align: middle;\n",
       "    }\n",
       "\n",
       "    .dataframe tbody tr th {\n",
       "        vertical-align: top;\n",
       "    }\n",
       "\n",
       "    .dataframe thead th {\n",
       "        text-align: right;\n",
       "    }\n",
       "</style>\n",
       "<table border=\"1\" class=\"dataframe\">\n",
       "  <thead>\n",
       "    <tr style=\"text-align: right;\">\n",
       "      <th></th>\n",
       "      <th>quantity</th>\n",
       "      <th>invoice_date</th>\n",
       "      <th>unit_price</th>\n",
       "      <th>cust_id</th>\n",
       "    </tr>\n",
       "  </thead>\n",
       "  <tbody>\n",
       "    <tr>\n",
       "      <th>count</th>\n",
       "      <td>406829.00</td>\n",
       "      <td>406829</td>\n",
       "      <td>406829.00</td>\n",
       "      <td>406829.00</td>\n",
       "    </tr>\n",
       "    <tr>\n",
       "      <th>mean</th>\n",
       "      <td>12.06</td>\n",
       "      <td>2011-07-10 16:30:57.879207424</td>\n",
       "      <td>3.46</td>\n",
       "      <td>15287.69</td>\n",
       "    </tr>\n",
       "    <tr>\n",
       "      <th>min</th>\n",
       "      <td>-80995.00</td>\n",
       "      <td>2010-12-01 08:26:00</td>\n",
       "      <td>0.00</td>\n",
       "      <td>12346.00</td>\n",
       "    </tr>\n",
       "    <tr>\n",
       "      <th>25%</th>\n",
       "      <td>2.00</td>\n",
       "      <td>2011-04-06 15:02:00</td>\n",
       "      <td>1.25</td>\n",
       "      <td>13953.00</td>\n",
       "    </tr>\n",
       "    <tr>\n",
       "      <th>50%</th>\n",
       "      <td>5.00</td>\n",
       "      <td>2011-07-31 11:48:00</td>\n",
       "      <td>1.95</td>\n",
       "      <td>15152.00</td>\n",
       "    </tr>\n",
       "    <tr>\n",
       "      <th>75%</th>\n",
       "      <td>12.00</td>\n",
       "      <td>2011-10-20 13:06:00</td>\n",
       "      <td>3.75</td>\n",
       "      <td>16791.00</td>\n",
       "    </tr>\n",
       "    <tr>\n",
       "      <th>max</th>\n",
       "      <td>80995.00</td>\n",
       "      <td>2011-12-09 12:50:00</td>\n",
       "      <td>38970.00</td>\n",
       "      <td>18287.00</td>\n",
       "    </tr>\n",
       "    <tr>\n",
       "      <th>std</th>\n",
       "      <td>248.69</td>\n",
       "      <td>NaN</td>\n",
       "      <td>69.32</td>\n",
       "      <td>1713.60</td>\n",
       "    </tr>\n",
       "  </tbody>\n",
       "</table>\n",
       "</div>"
      ],
      "text/plain": [
       "        quantity                   invoice_date  unit_price    cust_id\n",
       "count  406829.00                         406829   406829.00  406829.00\n",
       "mean       12.06  2011-07-10 16:30:57.879207424        3.46   15287.69\n",
       "min    -80995.00            2010-12-01 08:26:00        0.00   12346.00\n",
       "25%         2.00            2011-04-06 15:02:00        1.25   13953.00\n",
       "50%         5.00            2011-07-31 11:48:00        1.95   15152.00\n",
       "75%        12.00            2011-10-20 13:06:00        3.75   16791.00\n",
       "max     80995.00            2011-12-09 12:50:00    38970.00   18287.00\n",
       "std       248.69                            NaN       69.32    1713.60"
      ]
     },
     "execution_count": 43,
     "metadata": {},
     "output_type": "execute_result"
    }
   ],
   "source": [
    "df_new.describe().round(2)"
   ]
  },
  {
   "cell_type": "code",
   "execution_count": null,
   "id": "962e5c34-62cb-4c74-a001-6c63e5a56d6e",
   "metadata": {},
   "outputs": [],
   "source": [
    "\n"
   ]
  },
  {
   "cell_type": "markdown",
   "id": "e83b0065-8830-4d46-8737-8fd6287878d0",
   "metadata": {},
   "source": [
    "- # Let us do some analysis"
   ]
  },
  {
   "cell_type": "markdown",
   "id": "6a697c34-2e84-4fb9-9bec-9047bf50d458",
   "metadata": {},
   "source": [
    "### Conclusion is: quantity column having negative values  "
   ]
  },
  {
   "cell_type": "markdown",
   "id": "119feabd-48aa-4ffc-b67c-6cce0991bc0f",
   "metadata": {},
   "source": [
    "### So, we need to remove/delete negative values"
   ]
  },
  {
   "cell_type": "code",
   "execution_count": 44,
   "id": "fa4f0485-8060-4867-888f-2b7f216d93c8",
   "metadata": {},
   "outputs": [],
   "source": [
    "values = [10,20,-30,40,-60,70,80,-90]"
   ]
  },
  {
   "cell_type": "code",
   "execution_count": 45,
   "id": "0fef35ea-5922-430d-afa3-10c9791f8ad0",
   "metadata": {},
   "outputs": [
    {
     "data": {
      "text/plain": [
       "[10, 20, -30, 40, -60, 70, 80, -90]"
      ]
     },
     "execution_count": 45,
     "metadata": {},
     "output_type": "execute_result"
    }
   ],
   "source": [
    "values"
   ]
  },
  {
   "cell_type": "code",
   "execution_count": 46,
   "id": "b11026d4-373c-4f60-9e6d-456887ac59ed",
   "metadata": {},
   "outputs": [
    {
     "name": "stdout",
     "output_type": "stream",
     "text": [
      "10\n",
      "20\n",
      "40\n",
      "70\n",
      "80\n"
     ]
    }
   ],
   "source": [
    "for value in values:\n",
    "    if value >= 0:\n",
    "        print(value)"
   ]
  },
  {
   "cell_type": "markdown",
   "id": "e40fa9d1-bda6-46e4-9216-7f90f1dbb6f3",
   "metadata": {},
   "source": [
    "### 33. Remove Negative value from quantity column"
   ]
  },
  {
   "cell_type": "code",
   "execution_count": 47,
   "id": "c5fbcd2e-1b3d-4c49-a97c-8500dfb3952a",
   "metadata": {},
   "outputs": [
    {
     "data": {
      "text/plain": [
       "0         True\n",
       "1         True\n",
       "2         True\n",
       "3         True\n",
       "4         True\n",
       "          ... \n",
       "541904    True\n",
       "541905    True\n",
       "541906    True\n",
       "541907    True\n",
       "541908    True\n",
       "Name: quantity, Length: 406829, dtype: bool"
      ]
     },
     "execution_count": 47,
     "metadata": {},
     "output_type": "execute_result"
    }
   ],
   "source": [
    "df_new.quantity>0"
   ]
  },
  {
   "cell_type": "code",
   "execution_count": 48,
   "id": "bc14b48a-e866-45a5-973a-8ffee6385503",
   "metadata": {},
   "outputs": [],
   "source": [
    "con = df_new.quantity > 0"
   ]
  },
  {
   "cell_type": "code",
   "execution_count": 49,
   "id": "5f89294d-a2da-4f72-a5b0-3a3fd76d307a",
   "metadata": {},
   "outputs": [],
   "source": [
    "df_new = df_new[con]"
   ]
  },
  {
   "cell_type": "code",
   "execution_count": 50,
   "id": "6b1d8adc-1e4f-46af-ae1b-be53228c65ea",
   "metadata": {},
   "outputs": [
    {
     "data": {
      "text/html": [
       "<div>\n",
       "<style scoped>\n",
       "    .dataframe tbody tr th:only-of-type {\n",
       "        vertical-align: middle;\n",
       "    }\n",
       "\n",
       "    .dataframe tbody tr th {\n",
       "        vertical-align: top;\n",
       "    }\n",
       "\n",
       "    .dataframe thead th {\n",
       "        text-align: right;\n",
       "    }\n",
       "</style>\n",
       "<table border=\"1\" class=\"dataframe\">\n",
       "  <thead>\n",
       "    <tr style=\"text-align: right;\">\n",
       "      <th></th>\n",
       "      <th>quantity</th>\n",
       "      <th>invoice_date</th>\n",
       "      <th>unit_price</th>\n",
       "      <th>cust_id</th>\n",
       "    </tr>\n",
       "  </thead>\n",
       "  <tbody>\n",
       "    <tr>\n",
       "      <th>count</th>\n",
       "      <td>397924.00</td>\n",
       "      <td>397924</td>\n",
       "      <td>397924.00</td>\n",
       "      <td>397924.00</td>\n",
       "    </tr>\n",
       "    <tr>\n",
       "      <th>mean</th>\n",
       "      <td>13.02</td>\n",
       "      <td>2011-07-10 23:43:36.912475648</td>\n",
       "      <td>3.12</td>\n",
       "      <td>15294.32</td>\n",
       "    </tr>\n",
       "    <tr>\n",
       "      <th>min</th>\n",
       "      <td>1.00</td>\n",
       "      <td>2010-12-01 08:26:00</td>\n",
       "      <td>0.00</td>\n",
       "      <td>12346.00</td>\n",
       "    </tr>\n",
       "    <tr>\n",
       "      <th>25%</th>\n",
       "      <td>2.00</td>\n",
       "      <td>2011-04-07 11:12:00</td>\n",
       "      <td>1.25</td>\n",
       "      <td>13969.00</td>\n",
       "    </tr>\n",
       "    <tr>\n",
       "      <th>50%</th>\n",
       "      <td>6.00</td>\n",
       "      <td>2011-07-31 14:39:00</td>\n",
       "      <td>1.95</td>\n",
       "      <td>15159.00</td>\n",
       "    </tr>\n",
       "    <tr>\n",
       "      <th>75%</th>\n",
       "      <td>12.00</td>\n",
       "      <td>2011-10-20 14:33:00</td>\n",
       "      <td>3.75</td>\n",
       "      <td>16795.00</td>\n",
       "    </tr>\n",
       "    <tr>\n",
       "      <th>max</th>\n",
       "      <td>80995.00</td>\n",
       "      <td>2011-12-09 12:50:00</td>\n",
       "      <td>8142.75</td>\n",
       "      <td>18287.00</td>\n",
       "    </tr>\n",
       "    <tr>\n",
       "      <th>std</th>\n",
       "      <td>180.42</td>\n",
       "      <td>NaN</td>\n",
       "      <td>22.10</td>\n",
       "      <td>1713.17</td>\n",
       "    </tr>\n",
       "  </tbody>\n",
       "</table>\n",
       "</div>"
      ],
      "text/plain": [
       "        quantity                   invoice_date  unit_price    cust_id\n",
       "count  397924.00                         397924   397924.00  397924.00\n",
       "mean       13.02  2011-07-10 23:43:36.912475648        3.12   15294.32\n",
       "min         1.00            2010-12-01 08:26:00        0.00   12346.00\n",
       "25%         2.00            2011-04-07 11:12:00        1.25   13969.00\n",
       "50%         6.00            2011-07-31 14:39:00        1.95   15159.00\n",
       "75%        12.00            2011-10-20 14:33:00        3.75   16795.00\n",
       "max     80995.00            2011-12-09 12:50:00     8142.75   18287.00\n",
       "std       180.42                            NaN       22.10    1713.17"
      ]
     },
     "execution_count": 50,
     "metadata": {},
     "output_type": "execute_result"
    }
   ],
   "source": [
    "df_new.describe().round(2)"
   ]
  },
  {
   "cell_type": "markdown",
   "id": "b26c1d0f-b861-4773-a2c2-fd5eec29b4c6",
   "metadata": {},
   "source": [
    "### 34. Access initial Data"
   ]
  },
  {
   "cell_type": "code",
   "execution_count": 51,
   "id": "534a9663-5136-4290-9ac3-3d79691fcc16",
   "metadata": {},
   "outputs": [
    {
     "data": {
      "text/html": [
       "<div>\n",
       "<style scoped>\n",
       "    .dataframe tbody tr th:only-of-type {\n",
       "        vertical-align: middle;\n",
       "    }\n",
       "\n",
       "    .dataframe tbody tr th {\n",
       "        vertical-align: top;\n",
       "    }\n",
       "\n",
       "    .dataframe thead th {\n",
       "        text-align: right;\n",
       "    }\n",
       "</style>\n",
       "<table border=\"1\" class=\"dataframe\">\n",
       "  <thead>\n",
       "    <tr style=\"text-align: right;\">\n",
       "      <th></th>\n",
       "      <th>invoice_num</th>\n",
       "      <th>stock_code</th>\n",
       "      <th>description</th>\n",
       "      <th>quantity</th>\n",
       "      <th>invoice_date</th>\n",
       "      <th>unit_price</th>\n",
       "      <th>cust_id</th>\n",
       "      <th>country</th>\n",
       "    </tr>\n",
       "  </thead>\n",
       "  <tbody>\n",
       "    <tr>\n",
       "      <th>0</th>\n",
       "      <td>536365</td>\n",
       "      <td>85123A</td>\n",
       "      <td>white hanging heart t-light holder</td>\n",
       "      <td>6</td>\n",
       "      <td>2010-12-01 08:26:00</td>\n",
       "      <td>2.55</td>\n",
       "      <td>17850</td>\n",
       "      <td>United Kingdom</td>\n",
       "    </tr>\n",
       "    <tr>\n",
       "      <th>1</th>\n",
       "      <td>536365</td>\n",
       "      <td>71053</td>\n",
       "      <td>white metal lantern</td>\n",
       "      <td>6</td>\n",
       "      <td>2010-12-01 08:26:00</td>\n",
       "      <td>3.39</td>\n",
       "      <td>17850</td>\n",
       "      <td>United Kingdom</td>\n",
       "    </tr>\n",
       "    <tr>\n",
       "      <th>2</th>\n",
       "      <td>536365</td>\n",
       "      <td>84406B</td>\n",
       "      <td>cream cupid hearts coat hanger</td>\n",
       "      <td>8</td>\n",
       "      <td>2010-12-01 08:26:00</td>\n",
       "      <td>2.75</td>\n",
       "      <td>17850</td>\n",
       "      <td>United Kingdom</td>\n",
       "    </tr>\n",
       "    <tr>\n",
       "      <th>3</th>\n",
       "      <td>536365</td>\n",
       "      <td>84029G</td>\n",
       "      <td>knitted union flag hot water bottle</td>\n",
       "      <td>6</td>\n",
       "      <td>2010-12-01 08:26:00</td>\n",
       "      <td>3.39</td>\n",
       "      <td>17850</td>\n",
       "      <td>United Kingdom</td>\n",
       "    </tr>\n",
       "    <tr>\n",
       "      <th>4</th>\n",
       "      <td>536365</td>\n",
       "      <td>84029E</td>\n",
       "      <td>red woolly hottie white heart.</td>\n",
       "      <td>6</td>\n",
       "      <td>2010-12-01 08:26:00</td>\n",
       "      <td>3.39</td>\n",
       "      <td>17850</td>\n",
       "      <td>United Kingdom</td>\n",
       "    </tr>\n",
       "  </tbody>\n",
       "</table>\n",
       "</div>"
      ],
      "text/plain": [
       "  invoice_num stock_code                          description  quantity  \\\n",
       "0      536365     85123A   white hanging heart t-light holder         6   \n",
       "1      536365      71053                  white metal lantern         6   \n",
       "2      536365     84406B       cream cupid hearts coat hanger         8   \n",
       "3      536365     84029G  knitted union flag hot water bottle         6   \n",
       "4      536365     84029E       red woolly hottie white heart.         6   \n",
       "\n",
       "         invoice_date  unit_price  cust_id         country  \n",
       "0 2010-12-01 08:26:00        2.55    17850  United Kingdom  \n",
       "1 2010-12-01 08:26:00        3.39    17850  United Kingdom  \n",
       "2 2010-12-01 08:26:00        2.75    17850  United Kingdom  \n",
       "3 2010-12-01 08:26:00        3.39    17850  United Kingdom  \n",
       "4 2010-12-01 08:26:00        3.39    17850  United Kingdom  "
      ]
     },
     "execution_count": 51,
     "metadata": {},
     "output_type": "execute_result"
    }
   ],
   "source": [
    "df_new.head()"
   ]
  },
  {
   "cell_type": "markdown",
   "id": "2b3e10bc-f3b4-4692-ba07-0dca803b8a17",
   "metadata": {},
   "source": [
    "### 35. Accessing total number of rows and columns"
   ]
  },
  {
   "cell_type": "code",
   "execution_count": 52,
   "id": "85a14c1b-d697-4bb8-9fed-633b0e1ce64d",
   "metadata": {},
   "outputs": [
    {
     "data": {
      "text/plain": [
       "(397924, 8)"
      ]
     },
     "execution_count": 52,
     "metadata": {},
     "output_type": "execute_result"
    }
   ],
   "source": [
    "df_new.shape"
   ]
  },
  {
   "cell_type": "markdown",
   "id": "05632cc8-e306-480c-9f37-983cfc4303f7",
   "metadata": {},
   "source": [
    "### 36. Adding the column - amount_spent"
   ]
  },
  {
   "cell_type": "code",
   "execution_count": 53,
   "id": "91699bf7-31da-4003-b6a2-2eab1dfd07d6",
   "metadata": {},
   "outputs": [],
   "source": [
    "df_new['amount_spent'] = df_new['quantity'] * df_new['unit_price']"
   ]
  },
  {
   "cell_type": "code",
   "execution_count": 54,
   "id": "7f54cc74-215b-4fbb-ac7d-313114ea9943",
   "metadata": {},
   "outputs": [
    {
     "data": {
      "text/html": [
       "<div>\n",
       "<style scoped>\n",
       "    .dataframe tbody tr th:only-of-type {\n",
       "        vertical-align: middle;\n",
       "    }\n",
       "\n",
       "    .dataframe tbody tr th {\n",
       "        vertical-align: top;\n",
       "    }\n",
       "\n",
       "    .dataframe thead th {\n",
       "        text-align: right;\n",
       "    }\n",
       "</style>\n",
       "<table border=\"1\" class=\"dataframe\">\n",
       "  <thead>\n",
       "    <tr style=\"text-align: right;\">\n",
       "      <th></th>\n",
       "      <th>invoice_num</th>\n",
       "      <th>stock_code</th>\n",
       "      <th>description</th>\n",
       "      <th>quantity</th>\n",
       "      <th>invoice_date</th>\n",
       "      <th>unit_price</th>\n",
       "      <th>cust_id</th>\n",
       "      <th>country</th>\n",
       "      <th>amount_spent</th>\n",
       "    </tr>\n",
       "  </thead>\n",
       "  <tbody>\n",
       "    <tr>\n",
       "      <th>0</th>\n",
       "      <td>536365</td>\n",
       "      <td>85123A</td>\n",
       "      <td>white hanging heart t-light holder</td>\n",
       "      <td>6</td>\n",
       "      <td>2010-12-01 08:26:00</td>\n",
       "      <td>2.55</td>\n",
       "      <td>17850</td>\n",
       "      <td>United Kingdom</td>\n",
       "      <td>15.30</td>\n",
       "    </tr>\n",
       "    <tr>\n",
       "      <th>1</th>\n",
       "      <td>536365</td>\n",
       "      <td>71053</td>\n",
       "      <td>white metal lantern</td>\n",
       "      <td>6</td>\n",
       "      <td>2010-12-01 08:26:00</td>\n",
       "      <td>3.39</td>\n",
       "      <td>17850</td>\n",
       "      <td>United Kingdom</td>\n",
       "      <td>20.34</td>\n",
       "    </tr>\n",
       "    <tr>\n",
       "      <th>2</th>\n",
       "      <td>536365</td>\n",
       "      <td>84406B</td>\n",
       "      <td>cream cupid hearts coat hanger</td>\n",
       "      <td>8</td>\n",
       "      <td>2010-12-01 08:26:00</td>\n",
       "      <td>2.75</td>\n",
       "      <td>17850</td>\n",
       "      <td>United Kingdom</td>\n",
       "      <td>22.00</td>\n",
       "    </tr>\n",
       "    <tr>\n",
       "      <th>3</th>\n",
       "      <td>536365</td>\n",
       "      <td>84029G</td>\n",
       "      <td>knitted union flag hot water bottle</td>\n",
       "      <td>6</td>\n",
       "      <td>2010-12-01 08:26:00</td>\n",
       "      <td>3.39</td>\n",
       "      <td>17850</td>\n",
       "      <td>United Kingdom</td>\n",
       "      <td>20.34</td>\n",
       "    </tr>\n",
       "    <tr>\n",
       "      <th>4</th>\n",
       "      <td>536365</td>\n",
       "      <td>84029E</td>\n",
       "      <td>red woolly hottie white heart.</td>\n",
       "      <td>6</td>\n",
       "      <td>2010-12-01 08:26:00</td>\n",
       "      <td>3.39</td>\n",
       "      <td>17850</td>\n",
       "      <td>United Kingdom</td>\n",
       "      <td>20.34</td>\n",
       "    </tr>\n",
       "  </tbody>\n",
       "</table>\n",
       "</div>"
      ],
      "text/plain": [
       "  invoice_num stock_code                          description  quantity  \\\n",
       "0      536365     85123A   white hanging heart t-light holder         6   \n",
       "1      536365      71053                  white metal lantern         6   \n",
       "2      536365     84406B       cream cupid hearts coat hanger         8   \n",
       "3      536365     84029G  knitted union flag hot water bottle         6   \n",
       "4      536365     84029E       red woolly hottie white heart.         6   \n",
       "\n",
       "         invoice_date  unit_price  cust_id         country  amount_spent  \n",
       "0 2010-12-01 08:26:00        2.55    17850  United Kingdom         15.30  \n",
       "1 2010-12-01 08:26:00        3.39    17850  United Kingdom         20.34  \n",
       "2 2010-12-01 08:26:00        2.75    17850  United Kingdom         22.00  \n",
       "3 2010-12-01 08:26:00        3.39    17850  United Kingdom         20.34  \n",
       "4 2010-12-01 08:26:00        3.39    17850  United Kingdom         20.34  "
      ]
     },
     "execution_count": 54,
     "metadata": {},
     "output_type": "execute_result"
    }
   ],
   "source": [
    "df_new.head()"
   ]
  },
  {
   "cell_type": "markdown",
   "id": "f74ebbc0-1306-43bd-ac0c-dfe73b0b2337",
   "metadata": {},
   "source": [
    "### 37. Lets read the column names from DataFrame"
   ]
  },
  {
   "cell_type": "code",
   "execution_count": 55,
   "id": "8bb96925-cb1a-4ca0-92f8-c2844b04b6fe",
   "metadata": {},
   "outputs": [
    {
     "data": {
      "text/plain": [
       "Index(['invoice_num', 'stock_code', 'description', 'quantity', 'invoice_date',\n",
       "       'unit_price', 'cust_id', 'country', 'amount_spent'],\n",
       "      dtype='object')"
      ]
     },
     "execution_count": 55,
     "metadata": {},
     "output_type": "execute_result"
    }
   ],
   "source": [
    "df_new.columns"
   ]
  },
  {
   "cell_type": "code",
   "execution_count": 56,
   "id": "da6dcdfe-0092-4f0d-86ec-55dcc856ea0b",
   "metadata": {},
   "outputs": [
    {
     "name": "stdout",
     "output_type": "stream",
     "text": [
      "invoice_num\n",
      "stock_code\n",
      "description\n",
      "quantity\n",
      "invoice_date\n",
      "unit_price\n",
      "cust_id\n",
      "country\n",
      "amount_spent\n"
     ]
    }
   ],
   "source": [
    "for cols in df_new.columns:\n",
    "    print(cols)"
   ]
  },
  {
   "cell_type": "code",
   "execution_count": 57,
   "id": "49daa434-d886-4b7a-8d00-a8e19428790d",
   "metadata": {},
   "outputs": [
    {
     "data": {
      "text/plain": [
       "(541909, 8)"
      ]
     },
     "execution_count": 57,
     "metadata": {},
     "output_type": "execute_result"
    }
   ],
   "source": [
    "df.shape"
   ]
  },
  {
   "cell_type": "markdown",
   "id": "52f94d17-5e9f-4e35-ab4b-5e75f900b852",
   "metadata": {},
   "source": [
    "### 38. Rearrange columns name for more readability"
   ]
  },
  {
   "cell_type": "code",
   "execution_count": 58,
   "id": "b327a198-ef25-4dc3-be49-a709bddfea55",
   "metadata": {},
   "outputs": [],
   "source": [
    "col_order = ['invoice_num','invoice_date','stock_code','description','quantity','unit_price','amount_spent','cust_id','country']"
   ]
  },
  {
   "cell_type": "code",
   "execution_count": 59,
   "id": "cd32391a-041d-4180-b510-c89d0fa73266",
   "metadata": {},
   "outputs": [],
   "source": [
    "df_new = df_new[col_order]"
   ]
  },
  {
   "cell_type": "markdown",
   "id": "6ea2c58b-27ee-4f61-ad83-2072974ad182",
   "metadata": {},
   "source": [
    "### 39. Accessing initial Data"
   ]
  },
  {
   "cell_type": "code",
   "execution_count": 60,
   "id": "a1787a6e-d5b4-44ed-b558-593e7f69db03",
   "metadata": {},
   "outputs": [
    {
     "data": {
      "text/html": [
       "<div>\n",
       "<style scoped>\n",
       "    .dataframe tbody tr th:only-of-type {\n",
       "        vertical-align: middle;\n",
       "    }\n",
       "\n",
       "    .dataframe tbody tr th {\n",
       "        vertical-align: top;\n",
       "    }\n",
       "\n",
       "    .dataframe thead th {\n",
       "        text-align: right;\n",
       "    }\n",
       "</style>\n",
       "<table border=\"1\" class=\"dataframe\">\n",
       "  <thead>\n",
       "    <tr style=\"text-align: right;\">\n",
       "      <th></th>\n",
       "      <th>invoice_num</th>\n",
       "      <th>invoice_date</th>\n",
       "      <th>stock_code</th>\n",
       "      <th>description</th>\n",
       "      <th>quantity</th>\n",
       "      <th>unit_price</th>\n",
       "      <th>amount_spent</th>\n",
       "      <th>cust_id</th>\n",
       "      <th>country</th>\n",
       "    </tr>\n",
       "  </thead>\n",
       "  <tbody>\n",
       "    <tr>\n",
       "      <th>0</th>\n",
       "      <td>536365</td>\n",
       "      <td>2010-12-01 08:26:00</td>\n",
       "      <td>85123A</td>\n",
       "      <td>white hanging heart t-light holder</td>\n",
       "      <td>6</td>\n",
       "      <td>2.55</td>\n",
       "      <td>15.30</td>\n",
       "      <td>17850</td>\n",
       "      <td>United Kingdom</td>\n",
       "    </tr>\n",
       "    <tr>\n",
       "      <th>1</th>\n",
       "      <td>536365</td>\n",
       "      <td>2010-12-01 08:26:00</td>\n",
       "      <td>71053</td>\n",
       "      <td>white metal lantern</td>\n",
       "      <td>6</td>\n",
       "      <td>3.39</td>\n",
       "      <td>20.34</td>\n",
       "      <td>17850</td>\n",
       "      <td>United Kingdom</td>\n",
       "    </tr>\n",
       "    <tr>\n",
       "      <th>2</th>\n",
       "      <td>536365</td>\n",
       "      <td>2010-12-01 08:26:00</td>\n",
       "      <td>84406B</td>\n",
       "      <td>cream cupid hearts coat hanger</td>\n",
       "      <td>8</td>\n",
       "      <td>2.75</td>\n",
       "      <td>22.00</td>\n",
       "      <td>17850</td>\n",
       "      <td>United Kingdom</td>\n",
       "    </tr>\n",
       "    <tr>\n",
       "      <th>3</th>\n",
       "      <td>536365</td>\n",
       "      <td>2010-12-01 08:26:00</td>\n",
       "      <td>84029G</td>\n",
       "      <td>knitted union flag hot water bottle</td>\n",
       "      <td>6</td>\n",
       "      <td>3.39</td>\n",
       "      <td>20.34</td>\n",
       "      <td>17850</td>\n",
       "      <td>United Kingdom</td>\n",
       "    </tr>\n",
       "    <tr>\n",
       "      <th>4</th>\n",
       "      <td>536365</td>\n",
       "      <td>2010-12-01 08:26:00</td>\n",
       "      <td>84029E</td>\n",
       "      <td>red woolly hottie white heart.</td>\n",
       "      <td>6</td>\n",
       "      <td>3.39</td>\n",
       "      <td>20.34</td>\n",
       "      <td>17850</td>\n",
       "      <td>United Kingdom</td>\n",
       "    </tr>\n",
       "  </tbody>\n",
       "</table>\n",
       "</div>"
      ],
      "text/plain": [
       "  invoice_num        invoice_date stock_code  \\\n",
       "0      536365 2010-12-01 08:26:00     85123A   \n",
       "1      536365 2010-12-01 08:26:00      71053   \n",
       "2      536365 2010-12-01 08:26:00     84406B   \n",
       "3      536365 2010-12-01 08:26:00     84029G   \n",
       "4      536365 2010-12-01 08:26:00     84029E   \n",
       "\n",
       "                           description  quantity  unit_price  amount_spent  \\\n",
       "0   white hanging heart t-light holder         6        2.55         15.30   \n",
       "1                  white metal lantern         6        3.39         20.34   \n",
       "2       cream cupid hearts coat hanger         8        2.75         22.00   \n",
       "3  knitted union flag hot water bottle         6        3.39         20.34   \n",
       "4       red woolly hottie white heart.         6        3.39         20.34   \n",
       "\n",
       "   cust_id         country  \n",
       "0    17850  United Kingdom  \n",
       "1    17850  United Kingdom  \n",
       "2    17850  United Kingdom  \n",
       "3    17850  United Kingdom  \n",
       "4    17850  United Kingdom  "
      ]
     },
     "execution_count": 60,
     "metadata": {},
     "output_type": "execute_result"
    }
   ],
   "source": [
    "df_new.head()"
   ]
  },
  {
   "cell_type": "markdown",
   "id": "e277b966-d9a3-4962-9bdb-8a24b4056455",
   "metadata": {},
   "source": [
    "### 40. Number of rows and columns"
   ]
  },
  {
   "cell_type": "code",
   "execution_count": 61,
   "id": "25cd0e7a-0ed4-4063-a841-247cf55d164b",
   "metadata": {},
   "outputs": [
    {
     "data": {
      "text/plain": [
       "(397924, 9)"
      ]
     },
     "execution_count": 61,
     "metadata": {},
     "output_type": "execute_result"
    }
   ],
   "source": [
    "df_new.shape"
   ]
  },
  {
   "cell_type": "markdown",
   "id": "699b96f5-8028-4764-ba1d-3bf283cedd5a",
   "metadata": {},
   "source": [
    "- # Let us do analysis on invoice_date column"
   ]
  },
  {
   "cell_type": "markdown",
   "id": "0e64c1fd-a3ef-4af8-a0fe-07cda3038423",
   "metadata": {},
   "source": [
    "### 41. number of columns"
   ]
  },
  {
   "cell_type": "code",
   "execution_count": 62,
   "id": "ec7d63d6-7388-4a36-98c8-ffdf12199c47",
   "metadata": {},
   "outputs": [
    {
     "data": {
      "text/plain": [
       "9"
      ]
     },
     "execution_count": 62,
     "metadata": {},
     "output_type": "execute_result"
    }
   ],
   "source": [
    "len(df_new.columns)"
   ]
  },
  {
   "cell_type": "code",
   "execution_count": 63,
   "id": "acb11a1e-e0d1-4da4-8cb1-2903e5b8df14",
   "metadata": {},
   "outputs": [
    {
     "data": {
      "text/plain": [
       "9"
      ]
     },
     "execution_count": 63,
     "metadata": {},
     "output_type": "execute_result"
    }
   ],
   "source": [
    "df_new.shape[1]"
   ]
  },
  {
   "cell_type": "markdown",
   "id": "c23137f2-3e4e-4a16-b5ba-01084261c9a6",
   "metadata": {},
   "source": [
    "### 42. Method - 1 to access column"
   ]
  },
  {
   "cell_type": "code",
   "execution_count": 64,
   "id": "192e50e9-d40f-4d16-9bde-fad00b85ec9d",
   "metadata": {},
   "outputs": [
    {
     "data": {
      "text/plain": [
       "0        2010-12-01 08:26:00\n",
       "1        2010-12-01 08:26:00\n",
       "2        2010-12-01 08:26:00\n",
       "3        2010-12-01 08:26:00\n",
       "4        2010-12-01 08:26:00\n",
       "                 ...        \n",
       "541904   2011-12-09 12:50:00\n",
       "541905   2011-12-09 12:50:00\n",
       "541906   2011-12-09 12:50:00\n",
       "541907   2011-12-09 12:50:00\n",
       "541908   2011-12-09 12:50:00\n",
       "Name: invoice_date, Length: 397924, dtype: datetime64[ns]"
      ]
     },
     "execution_count": 64,
     "metadata": {},
     "output_type": "execute_result"
    }
   ],
   "source": [
    "df_new['invoice_date']"
   ]
  },
  {
   "cell_type": "markdown",
   "id": "cfd0c9e8-dd30-4019-9358-68dddf2f0413",
   "metadata": {},
   "source": [
    "### 43. Method-2   to access column"
   ]
  },
  {
   "cell_type": "code",
   "execution_count": 65,
   "id": "a6b1e023-9f0d-4f61-9649-2003570280b0",
   "metadata": {},
   "outputs": [
    {
     "data": {
      "text/plain": [
       "0        2010-12-01 08:26:00\n",
       "1        2010-12-01 08:26:00\n",
       "2        2010-12-01 08:26:00\n",
       "3        2010-12-01 08:26:00\n",
       "4        2010-12-01 08:26:00\n",
       "                 ...        \n",
       "541904   2011-12-09 12:50:00\n",
       "541905   2011-12-09 12:50:00\n",
       "541906   2011-12-09 12:50:00\n",
       "541907   2011-12-09 12:50:00\n",
       "541908   2011-12-09 12:50:00\n",
       "Name: invoice_date, Length: 397924, dtype: datetime64[ns]"
      ]
     },
     "execution_count": 65,
     "metadata": {},
     "output_type": "execute_result"
    }
   ],
   "source": [
    "df_new.invoice_date"
   ]
  },
  {
   "cell_type": "markdown",
   "id": "709d470d-4672-4f96-be88-959b44142770",
   "metadata": {},
   "source": [
    "### 44. Accessing year value from invoice_date"
   ]
  },
  {
   "cell_type": "code",
   "execution_count": 66,
   "id": "eac4986b-51a7-4bc7-b22e-435a7fb17958",
   "metadata": {},
   "outputs": [
    {
     "data": {
      "text/plain": [
       "0         2010\n",
       "1         2010\n",
       "2         2010\n",
       "3         2010\n",
       "4         2010\n",
       "          ... \n",
       "541904    2011\n",
       "541905    2011\n",
       "541906    2011\n",
       "541907    2011\n",
       "541908    2011\n",
       "Name: invoice_date, Length: 397924, dtype: int32"
      ]
     },
     "execution_count": 66,
     "metadata": {},
     "output_type": "execute_result"
    }
   ],
   "source": [
    "df_new['invoice_date'].dt.year"
   ]
  },
  {
   "cell_type": "markdown",
   "id": "50fb229d-b543-431a-a2fe-9db3d9e9c060",
   "metadata": {},
   "source": [
    "### 45. Accessing month value from incoice_date "
   ]
  },
  {
   "cell_type": "code",
   "execution_count": 67,
   "id": "bb833ccb-9a5e-4849-b5e1-07f0ee74e572",
   "metadata": {},
   "outputs": [
    {
     "data": {
      "text/plain": [
       "0         12\n",
       "1         12\n",
       "2         12\n",
       "3         12\n",
       "4         12\n",
       "          ..\n",
       "541904    12\n",
       "541905    12\n",
       "541906    12\n",
       "541907    12\n",
       "541908    12\n",
       "Name: invoice_date, Length: 397924, dtype: int32"
      ]
     },
     "execution_count": 67,
     "metadata": {},
     "output_type": "execute_result"
    }
   ],
   "source": [
    "df_new.invoice_date.dt.month"
   ]
  },
  {
   "cell_type": "markdown",
   "id": "72d5eee7-8736-4d2f-b1f6-51c48546fa4b",
   "metadata": {},
   "source": [
    "### 46. Accessing month name from invoice_date"
   ]
  },
  {
   "cell_type": "code",
   "execution_count": 68,
   "id": "474c3f1e-5fe6-4b96-a90b-909e0240a414",
   "metadata": {},
   "outputs": [
    {
     "data": {
      "text/plain": [
       "0         December\n",
       "1         December\n",
       "2         December\n",
       "3         December\n",
       "4         December\n",
       "            ...   \n",
       "541904    December\n",
       "541905    December\n",
       "541906    December\n",
       "541907    December\n",
       "541908    December\n",
       "Name: invoice_date, Length: 541909, dtype: object"
      ]
     },
     "execution_count": 68,
     "metadata": {},
     "output_type": "execute_result"
    }
   ],
   "source": [
    "df['invoice_date'].dt.month_name()"
   ]
  },
  {
   "cell_type": "markdown",
   "id": "ca66bbd6-b00a-4e50-8e46-c89d01f541b7",
   "metadata": {},
   "source": [
    "### 47. Accessing weekday value from invoice_date"
   ]
  },
  {
   "cell_type": "code",
   "execution_count": 69,
   "id": "757d540f-d2bc-4115-b5bb-8c8e11791fda",
   "metadata": {},
   "outputs": [
    {
     "data": {
      "text/plain": [
       "0         Wednesday\n",
       "1         Wednesday\n",
       "2         Wednesday\n",
       "3         Wednesday\n",
       "4         Wednesday\n",
       "            ...    \n",
       "541904       Friday\n",
       "541905       Friday\n",
       "541906       Friday\n",
       "541907       Friday\n",
       "541908       Friday\n",
       "Name: invoice_date, Length: 541909, dtype: object"
      ]
     },
     "execution_count": 69,
     "metadata": {},
     "output_type": "execute_result"
    }
   ],
   "source": [
    "df['invoice_date'].dt.day_name()"
   ]
  },
  {
   "cell_type": "code",
   "execution_count": 70,
   "id": "a1f6c7c2-8170-4b0f-8c76-6069d716a264",
   "metadata": {},
   "outputs": [
    {
     "data": {
      "text/plain": [
       "0         1\n",
       "1         1\n",
       "2         1\n",
       "3         1\n",
       "4         1\n",
       "         ..\n",
       "541904    9\n",
       "541905    9\n",
       "541906    9\n",
       "541907    9\n",
       "541908    9\n",
       "Name: invoice_date, Length: 541909, dtype: int32"
      ]
     },
     "execution_count": 70,
     "metadata": {},
     "output_type": "execute_result"
    }
   ],
   "source": [
    "df['invoice_date'].dt.day"
   ]
  },
  {
   "cell_type": "code",
   "execution_count": 71,
   "id": "1764725d-f909-4863-a145-bd26f318e339",
   "metadata": {},
   "outputs": [
    {
     "data": {
      "text/plain": [
       "0          2\n",
       "1          2\n",
       "2          2\n",
       "3          2\n",
       "4          2\n",
       "          ..\n",
       "541904    10\n",
       "541905    10\n",
       "541906    10\n",
       "541907    10\n",
       "541908    10\n",
       "Name: invoice_date, Length: 541909, dtype: int32"
      ]
     },
     "execution_count": 71,
     "metadata": {},
     "output_type": "execute_result"
    }
   ],
   "source": [
    "df['invoice_date'].dt.day+1"
   ]
  },
  {
   "cell_type": "code",
   "execution_count": 72,
   "id": "5b53d9d3-ba1d-4ebc-8252-ceaed0813e54",
   "metadata": {},
   "outputs": [
    {
     "data": {
      "text/plain": [
       "0         2\n",
       "1         2\n",
       "2         2\n",
       "3         2\n",
       "4         2\n",
       "         ..\n",
       "541904    4\n",
       "541905    4\n",
       "541906    4\n",
       "541907    4\n",
       "541908    4\n",
       "Name: invoice_date, Length: 541909, dtype: int32"
      ]
     },
     "execution_count": 72,
     "metadata": {},
     "output_type": "execute_result"
    }
   ],
   "source": [
    "df['invoice_date'].dt.weekday"
   ]
  },
  {
   "cell_type": "code",
   "execution_count": 73,
   "id": "4cbc26fb-0457-4850-8a38-a5658750a355",
   "metadata": {},
   "outputs": [
    {
     "data": {
      "text/html": [
       "<div>\n",
       "<style scoped>\n",
       "    .dataframe tbody tr th:only-of-type {\n",
       "        vertical-align: middle;\n",
       "    }\n",
       "\n",
       "    .dataframe tbody tr th {\n",
       "        vertical-align: top;\n",
       "    }\n",
       "\n",
       "    .dataframe thead th {\n",
       "        text-align: right;\n",
       "    }\n",
       "</style>\n",
       "<table border=\"1\" class=\"dataframe\">\n",
       "  <thead>\n",
       "    <tr style=\"text-align: right;\">\n",
       "      <th></th>\n",
       "      <th>invoice_num</th>\n",
       "      <th>invoice_date</th>\n",
       "      <th>stock_code</th>\n",
       "      <th>description</th>\n",
       "      <th>quantity</th>\n",
       "      <th>unit_price</th>\n",
       "      <th>amount_spent</th>\n",
       "      <th>cust_id</th>\n",
       "      <th>country</th>\n",
       "    </tr>\n",
       "  </thead>\n",
       "  <tbody>\n",
       "    <tr>\n",
       "      <th>0</th>\n",
       "      <td>536365</td>\n",
       "      <td>2010-12-01 08:26:00</td>\n",
       "      <td>85123A</td>\n",
       "      <td>white hanging heart t-light holder</td>\n",
       "      <td>6</td>\n",
       "      <td>2.55</td>\n",
       "      <td>15.30</td>\n",
       "      <td>17850</td>\n",
       "      <td>United Kingdom</td>\n",
       "    </tr>\n",
       "    <tr>\n",
       "      <th>1</th>\n",
       "      <td>536365</td>\n",
       "      <td>2010-12-01 08:26:00</td>\n",
       "      <td>71053</td>\n",
       "      <td>white metal lantern</td>\n",
       "      <td>6</td>\n",
       "      <td>3.39</td>\n",
       "      <td>20.34</td>\n",
       "      <td>17850</td>\n",
       "      <td>United Kingdom</td>\n",
       "    </tr>\n",
       "    <tr>\n",
       "      <th>2</th>\n",
       "      <td>536365</td>\n",
       "      <td>2010-12-01 08:26:00</td>\n",
       "      <td>84406B</td>\n",
       "      <td>cream cupid hearts coat hanger</td>\n",
       "      <td>8</td>\n",
       "      <td>2.75</td>\n",
       "      <td>22.00</td>\n",
       "      <td>17850</td>\n",
       "      <td>United Kingdom</td>\n",
       "    </tr>\n",
       "  </tbody>\n",
       "</table>\n",
       "</div>"
      ],
      "text/plain": [
       "  invoice_num        invoice_date stock_code  \\\n",
       "0      536365 2010-12-01 08:26:00     85123A   \n",
       "1      536365 2010-12-01 08:26:00      71053   \n",
       "2      536365 2010-12-01 08:26:00     84406B   \n",
       "\n",
       "                          description  quantity  unit_price  amount_spent  \\\n",
       "0  white hanging heart t-light holder         6        2.55         15.30   \n",
       "1                 white metal lantern         6        3.39         20.34   \n",
       "2      cream cupid hearts coat hanger         8        2.75         22.00   \n",
       "\n",
       "   cust_id         country  \n",
       "0    17850  United Kingdom  \n",
       "1    17850  United Kingdom  \n",
       "2    17850  United Kingdom  "
      ]
     },
     "execution_count": 73,
     "metadata": {},
     "output_type": "execute_result"
    }
   ],
   "source": [
    "df_new.head(3)"
   ]
  },
  {
   "cell_type": "markdown",
   "id": "aed2a21b-9c15-4552-926b-ac51b5744921",
   "metadata": {},
   "source": [
    "## 48. Lets insert year_month colum in 2nd position\n"
   ]
  },
  {
   "cell_type": "markdown",
   "id": "775c3d04-c893-44b2-8165-a69270d333a0",
   "metadata": {},
   "source": [
    "- ### Small Calculation"
   ]
  },
  {
   "cell_type": "code",
   "execution_count": 74,
   "id": "a1a6b032-8f82-4e87-86aa-d27b965921db",
   "metadata": {},
   "outputs": [],
   "source": [
    "y = 2010\n",
    "m = 12"
   ]
  },
  {
   "cell_type": "code",
   "execution_count": 75,
   "id": "9bc03b1f-0151-408e-a449-669bf2ef2db5",
   "metadata": {},
   "outputs": [],
   "source": [
    "y_m = 2010*100+12"
   ]
  },
  {
   "cell_type": "code",
   "execution_count": 76,
   "id": "69d1fcac-9652-43a2-9d06-7c8d5d378c16",
   "metadata": {},
   "outputs": [
    {
     "data": {
      "text/plain": [
       "201012"
      ]
     },
     "execution_count": 76,
     "metadata": {},
     "output_type": "execute_result"
    }
   ],
   "source": [
    "y_m"
   ]
  },
  {
   "cell_type": "code",
   "execution_count": 77,
   "id": "7a419bd1-d257-498e-b609-0abf3cfd49d5",
   "metadata": {},
   "outputs": [],
   "source": [
    "c1 = ['year_month']"
   ]
  },
  {
   "cell_type": "code",
   "execution_count": 78,
   "id": "15e8dfd8-6bd8-44fe-bbd3-05c46ad288e7",
   "metadata": {},
   "outputs": [],
   "source": [
    "new_val = df_new['invoice_date'].map(lambda c1: 100*(c1.year) + c1.month)"
   ]
  },
  {
   "cell_type": "code",
   "execution_count": 79,
   "id": "a5c0eeb4-658b-4856-adcd-60166dc59c67",
   "metadata": {},
   "outputs": [],
   "source": [
    "df_new.insert(loc = 2, column = 'year_month', value = new_val)"
   ]
  },
  {
   "cell_type": "code",
   "execution_count": 80,
   "id": "84a60434-12d1-4b9a-8142-12e535b89a57",
   "metadata": {},
   "outputs": [
    {
     "data": {
      "text/html": [
       "<div>\n",
       "<style scoped>\n",
       "    .dataframe tbody tr th:only-of-type {\n",
       "        vertical-align: middle;\n",
       "    }\n",
       "\n",
       "    .dataframe tbody tr th {\n",
       "        vertical-align: top;\n",
       "    }\n",
       "\n",
       "    .dataframe thead th {\n",
       "        text-align: right;\n",
       "    }\n",
       "</style>\n",
       "<table border=\"1\" class=\"dataframe\">\n",
       "  <thead>\n",
       "    <tr style=\"text-align: right;\">\n",
       "      <th></th>\n",
       "      <th>invoice_num</th>\n",
       "      <th>invoice_date</th>\n",
       "      <th>year_month</th>\n",
       "      <th>stock_code</th>\n",
       "      <th>description</th>\n",
       "      <th>quantity</th>\n",
       "      <th>unit_price</th>\n",
       "      <th>amount_spent</th>\n",
       "      <th>cust_id</th>\n",
       "      <th>country</th>\n",
       "    </tr>\n",
       "  </thead>\n",
       "  <tbody>\n",
       "    <tr>\n",
       "      <th>0</th>\n",
       "      <td>536365</td>\n",
       "      <td>2010-12-01 08:26:00</td>\n",
       "      <td>201012</td>\n",
       "      <td>85123A</td>\n",
       "      <td>white hanging heart t-light holder</td>\n",
       "      <td>6</td>\n",
       "      <td>2.55</td>\n",
       "      <td>15.30</td>\n",
       "      <td>17850</td>\n",
       "      <td>United Kingdom</td>\n",
       "    </tr>\n",
       "    <tr>\n",
       "      <th>1</th>\n",
       "      <td>536365</td>\n",
       "      <td>2010-12-01 08:26:00</td>\n",
       "      <td>201012</td>\n",
       "      <td>71053</td>\n",
       "      <td>white metal lantern</td>\n",
       "      <td>6</td>\n",
       "      <td>3.39</td>\n",
       "      <td>20.34</td>\n",
       "      <td>17850</td>\n",
       "      <td>United Kingdom</td>\n",
       "    </tr>\n",
       "    <tr>\n",
       "      <th>2</th>\n",
       "      <td>536365</td>\n",
       "      <td>2010-12-01 08:26:00</td>\n",
       "      <td>201012</td>\n",
       "      <td>84406B</td>\n",
       "      <td>cream cupid hearts coat hanger</td>\n",
       "      <td>8</td>\n",
       "      <td>2.75</td>\n",
       "      <td>22.00</td>\n",
       "      <td>17850</td>\n",
       "      <td>United Kingdom</td>\n",
       "    </tr>\n",
       "    <tr>\n",
       "      <th>3</th>\n",
       "      <td>536365</td>\n",
       "      <td>2010-12-01 08:26:00</td>\n",
       "      <td>201012</td>\n",
       "      <td>84029G</td>\n",
       "      <td>knitted union flag hot water bottle</td>\n",
       "      <td>6</td>\n",
       "      <td>3.39</td>\n",
       "      <td>20.34</td>\n",
       "      <td>17850</td>\n",
       "      <td>United Kingdom</td>\n",
       "    </tr>\n",
       "    <tr>\n",
       "      <th>4</th>\n",
       "      <td>536365</td>\n",
       "      <td>2010-12-01 08:26:00</td>\n",
       "      <td>201012</td>\n",
       "      <td>84029E</td>\n",
       "      <td>red woolly hottie white heart.</td>\n",
       "      <td>6</td>\n",
       "      <td>3.39</td>\n",
       "      <td>20.34</td>\n",
       "      <td>17850</td>\n",
       "      <td>United Kingdom</td>\n",
       "    </tr>\n",
       "  </tbody>\n",
       "</table>\n",
       "</div>"
      ],
      "text/plain": [
       "  invoice_num        invoice_date  year_month stock_code  \\\n",
       "0      536365 2010-12-01 08:26:00      201012     85123A   \n",
       "1      536365 2010-12-01 08:26:00      201012      71053   \n",
       "2      536365 2010-12-01 08:26:00      201012     84406B   \n",
       "3      536365 2010-12-01 08:26:00      201012     84029G   \n",
       "4      536365 2010-12-01 08:26:00      201012     84029E   \n",
       "\n",
       "                           description  quantity  unit_price  amount_spent  \\\n",
       "0   white hanging heart t-light holder         6        2.55         15.30   \n",
       "1                  white metal lantern         6        3.39         20.34   \n",
       "2       cream cupid hearts coat hanger         8        2.75         22.00   \n",
       "3  knitted union flag hot water bottle         6        3.39         20.34   \n",
       "4       red woolly hottie white heart.         6        3.39         20.34   \n",
       "\n",
       "   cust_id         country  \n",
       "0    17850  United Kingdom  \n",
       "1    17850  United Kingdom  \n",
       "2    17850  United Kingdom  \n",
       "3    17850  United Kingdom  \n",
       "4    17850  United Kingdom  "
      ]
     },
     "execution_count": 80,
     "metadata": {},
     "output_type": "execute_result"
    }
   ],
   "source": [
    "df_new.head()"
   ]
  },
  {
   "cell_type": "markdown",
   "id": "68cd56f0-fab4-49ae-be94-92e2757cd87e",
   "metadata": {},
   "source": [
    "### 49. Adding month column to the exisint DataFrame"
   ]
  },
  {
   "cell_type": "code",
   "execution_count": 81,
   "id": "f6451ff8-a70d-4a78-93f1-ba724731308e",
   "metadata": {},
   "outputs": [],
   "source": [
    "c2 = 'month'"
   ]
  },
  {
   "cell_type": "code",
   "execution_count": 82,
   "id": "fd8647f5-a82a-4c55-bb09-bd3dc835a2e4",
   "metadata": {},
   "outputs": [],
   "source": [
    "v2 = df_new.invoice_date.dt.month"
   ]
  },
  {
   "cell_type": "code",
   "execution_count": 83,
   "id": "db599c42-4f38-4bd5-8ad0-905c2517889f",
   "metadata": {},
   "outputs": [],
   "source": [
    "df_new.insert(loc = 3,column = c2, value = v2)"
   ]
  },
  {
   "cell_type": "code",
   "execution_count": 84,
   "id": "13ea3cbe-e444-4b8a-a4df-947bdb106d62",
   "metadata": {},
   "outputs": [
    {
     "data": {
      "text/html": [
       "<div>\n",
       "<style scoped>\n",
       "    .dataframe tbody tr th:only-of-type {\n",
       "        vertical-align: middle;\n",
       "    }\n",
       "\n",
       "    .dataframe tbody tr th {\n",
       "        vertical-align: top;\n",
       "    }\n",
       "\n",
       "    .dataframe thead th {\n",
       "        text-align: right;\n",
       "    }\n",
       "</style>\n",
       "<table border=\"1\" class=\"dataframe\">\n",
       "  <thead>\n",
       "    <tr style=\"text-align: right;\">\n",
       "      <th></th>\n",
       "      <th>invoice_num</th>\n",
       "      <th>invoice_date</th>\n",
       "      <th>year_month</th>\n",
       "      <th>month</th>\n",
       "      <th>stock_code</th>\n",
       "      <th>description</th>\n",
       "      <th>quantity</th>\n",
       "      <th>unit_price</th>\n",
       "      <th>amount_spent</th>\n",
       "      <th>cust_id</th>\n",
       "      <th>country</th>\n",
       "    </tr>\n",
       "  </thead>\n",
       "  <tbody>\n",
       "    <tr>\n",
       "      <th>0</th>\n",
       "      <td>536365</td>\n",
       "      <td>2010-12-01 08:26:00</td>\n",
       "      <td>201012</td>\n",
       "      <td>12</td>\n",
       "      <td>85123A</td>\n",
       "      <td>white hanging heart t-light holder</td>\n",
       "      <td>6</td>\n",
       "      <td>2.55</td>\n",
       "      <td>15.30</td>\n",
       "      <td>17850</td>\n",
       "      <td>United Kingdom</td>\n",
       "    </tr>\n",
       "    <tr>\n",
       "      <th>1</th>\n",
       "      <td>536365</td>\n",
       "      <td>2010-12-01 08:26:00</td>\n",
       "      <td>201012</td>\n",
       "      <td>12</td>\n",
       "      <td>71053</td>\n",
       "      <td>white metal lantern</td>\n",
       "      <td>6</td>\n",
       "      <td>3.39</td>\n",
       "      <td>20.34</td>\n",
       "      <td>17850</td>\n",
       "      <td>United Kingdom</td>\n",
       "    </tr>\n",
       "    <tr>\n",
       "      <th>2</th>\n",
       "      <td>536365</td>\n",
       "      <td>2010-12-01 08:26:00</td>\n",
       "      <td>201012</td>\n",
       "      <td>12</td>\n",
       "      <td>84406B</td>\n",
       "      <td>cream cupid hearts coat hanger</td>\n",
       "      <td>8</td>\n",
       "      <td>2.75</td>\n",
       "      <td>22.00</td>\n",
       "      <td>17850</td>\n",
       "      <td>United Kingdom</td>\n",
       "    </tr>\n",
       "    <tr>\n",
       "      <th>3</th>\n",
       "      <td>536365</td>\n",
       "      <td>2010-12-01 08:26:00</td>\n",
       "      <td>201012</td>\n",
       "      <td>12</td>\n",
       "      <td>84029G</td>\n",
       "      <td>knitted union flag hot water bottle</td>\n",
       "      <td>6</td>\n",
       "      <td>3.39</td>\n",
       "      <td>20.34</td>\n",
       "      <td>17850</td>\n",
       "      <td>United Kingdom</td>\n",
       "    </tr>\n",
       "    <tr>\n",
       "      <th>4</th>\n",
       "      <td>536365</td>\n",
       "      <td>2010-12-01 08:26:00</td>\n",
       "      <td>201012</td>\n",
       "      <td>12</td>\n",
       "      <td>84029E</td>\n",
       "      <td>red woolly hottie white heart.</td>\n",
       "      <td>6</td>\n",
       "      <td>3.39</td>\n",
       "      <td>20.34</td>\n",
       "      <td>17850</td>\n",
       "      <td>United Kingdom</td>\n",
       "    </tr>\n",
       "  </tbody>\n",
       "</table>\n",
       "</div>"
      ],
      "text/plain": [
       "  invoice_num        invoice_date  year_month  month stock_code  \\\n",
       "0      536365 2010-12-01 08:26:00      201012     12     85123A   \n",
       "1      536365 2010-12-01 08:26:00      201012     12      71053   \n",
       "2      536365 2010-12-01 08:26:00      201012     12     84406B   \n",
       "3      536365 2010-12-01 08:26:00      201012     12     84029G   \n",
       "4      536365 2010-12-01 08:26:00      201012     12     84029E   \n",
       "\n",
       "                           description  quantity  unit_price  amount_spent  \\\n",
       "0   white hanging heart t-light holder         6        2.55         15.30   \n",
       "1                  white metal lantern         6        3.39         20.34   \n",
       "2       cream cupid hearts coat hanger         8        2.75         22.00   \n",
       "3  knitted union flag hot water bottle         6        3.39         20.34   \n",
       "4       red woolly hottie white heart.         6        3.39         20.34   \n",
       "\n",
       "   cust_id         country  \n",
       "0    17850  United Kingdom  \n",
       "1    17850  United Kingdom  \n",
       "2    17850  United Kingdom  \n",
       "3    17850  United Kingdom  \n",
       "4    17850  United Kingdom  "
      ]
     },
     "execution_count": 84,
     "metadata": {},
     "output_type": "execute_result"
    }
   ],
   "source": [
    "df_new.head()"
   ]
  },
  {
   "cell_type": "markdown",
   "id": "3033c83d-0266-4290-9e9a-9f4558379f30",
   "metadata": {},
   "source": [
    "### 50. Access invoice_date column"
   ]
  },
  {
   "cell_type": "code",
   "execution_count": 86,
   "id": "3f34dfbf-3cb7-4a65-9d45-5b48e5c4bcb8",
   "metadata": {},
   "outputs": [
    {
     "data": {
      "text/plain": [
       "0        2010-12-01 08:26:00\n",
       "1        2010-12-01 08:26:00\n",
       "2        2010-12-01 08:26:00\n",
       "3        2010-12-01 08:26:00\n",
       "4        2010-12-01 08:26:00\n",
       "                 ...        \n",
       "541904   2011-12-09 12:50:00\n",
       "541905   2011-12-09 12:50:00\n",
       "541906   2011-12-09 12:50:00\n",
       "541907   2011-12-09 12:50:00\n",
       "541908   2011-12-09 12:50:00\n",
       "Name: invoice_date, Length: 397924, dtype: datetime64[ns]"
      ]
     },
     "execution_count": 86,
     "metadata": {},
     "output_type": "execute_result"
    }
   ],
   "source": [
    "df_new.invoice_date"
   ]
  },
  {
   "cell_type": "markdown",
   "id": "e0e3fbf1-dedc-42e9-b2c8-f2f6c80b8698",
   "metadata": {},
   "source": [
    "### 51.We can get day of the week"
   ]
  },
  {
   "cell_type": "code",
   "execution_count": 87,
   "id": "e50af392-56b9-4520-a12c-c660ee9d1626",
   "metadata": {},
   "outputs": [
    {
     "data": {
      "text/plain": [
       "0         2\n",
       "1         2\n",
       "2         2\n",
       "3         2\n",
       "4         2\n",
       "         ..\n",
       "541904    4\n",
       "541905    4\n",
       "541906    4\n",
       "541907    4\n",
       "541908    4\n",
       "Name: invoice_date, Length: 397924, dtype: int32"
      ]
     },
     "execution_count": 87,
     "metadata": {},
     "output_type": "execute_result"
    }
   ],
   "source": [
    "df_new.invoice_date.dt.dayofweek"
   ]
  },
  {
   "cell_type": "markdown",
   "id": "3ff67979-fdea-4540-bfc0-48ebb119cf18",
   "metadata": {},
   "source": [
    "### 52.Apply +1 to make Monday = 1.....until Sunday = 7"
   ]
  },
  {
   "cell_type": "code",
   "execution_count": 90,
   "id": "f2c9a588-fa3c-4e6e-af4a-fd349e48892b",
   "metadata": {},
   "outputs": [
    {
     "data": {
      "text/plain": [
       "0         3\n",
       "1         3\n",
       "2         3\n",
       "3         3\n",
       "4         3\n",
       "         ..\n",
       "541904    5\n",
       "541905    5\n",
       "541906    5\n",
       "541907    5\n",
       "541908    5\n",
       "Name: invoice_date, Length: 397924, dtype: int32"
      ]
     },
     "execution_count": 90,
     "metadata": {},
     "output_type": "execute_result"
    }
   ],
   "source": [
    "df_new.invoice_date.dt.dayofweek+1"
   ]
  },
  {
   "cell_type": "markdown",
   "id": "c0ac3422-69f7-4e0c-a3df-6a167ab5dbd2",
   "metadata": {},
   "source": [
    "### 53. Adding day column"
   ]
  },
  {
   "cell_type": "code",
   "execution_count": 91,
   "id": "57c6490d-3b8d-4e11-a2a5-b677805de23a",
   "metadata": {},
   "outputs": [],
   "source": [
    "c3 = 'day'"
   ]
  },
  {
   "cell_type": "code",
   "execution_count": 92,
   "id": "19ce9394-6844-4671-b1a1-bb968b6435d2",
   "metadata": {},
   "outputs": [],
   "source": [
    "v3 = df_new.invoice_date.dt.day"
   ]
  },
  {
   "cell_type": "code",
   "execution_count": 93,
   "id": "781ea650-93ed-456e-87d6-2df3029018fa",
   "metadata": {},
   "outputs": [],
   "source": [
    "df_new.insert(loc = 4, column = c3,value = v3)"
   ]
  },
  {
   "cell_type": "code",
   "execution_count": 95,
   "id": "87750b98-c91c-47c5-80ad-df28f6c21c8e",
   "metadata": {},
   "outputs": [
    {
     "data": {
      "text/html": [
       "<div>\n",
       "<style scoped>\n",
       "    .dataframe tbody tr th:only-of-type {\n",
       "        vertical-align: middle;\n",
       "    }\n",
       "\n",
       "    .dataframe tbody tr th {\n",
       "        vertical-align: top;\n",
       "    }\n",
       "\n",
       "    .dataframe thead th {\n",
       "        text-align: right;\n",
       "    }\n",
       "</style>\n",
       "<table border=\"1\" class=\"dataframe\">\n",
       "  <thead>\n",
       "    <tr style=\"text-align: right;\">\n",
       "      <th></th>\n",
       "      <th>invoice_num</th>\n",
       "      <th>invoice_date</th>\n",
       "      <th>year_month</th>\n",
       "      <th>month</th>\n",
       "      <th>day</th>\n",
       "      <th>stock_code</th>\n",
       "      <th>description</th>\n",
       "      <th>quantity</th>\n",
       "      <th>unit_price</th>\n",
       "      <th>amount_spent</th>\n",
       "      <th>cust_id</th>\n",
       "      <th>country</th>\n",
       "    </tr>\n",
       "  </thead>\n",
       "  <tbody>\n",
       "    <tr>\n",
       "      <th>0</th>\n",
       "      <td>536365</td>\n",
       "      <td>2010-12-01 08:26:00</td>\n",
       "      <td>201012</td>\n",
       "      <td>12</td>\n",
       "      <td>1</td>\n",
       "      <td>85123A</td>\n",
       "      <td>white hanging heart t-light holder</td>\n",
       "      <td>6</td>\n",
       "      <td>2.55</td>\n",
       "      <td>15.30</td>\n",
       "      <td>17850</td>\n",
       "      <td>United Kingdom</td>\n",
       "    </tr>\n",
       "    <tr>\n",
       "      <th>1</th>\n",
       "      <td>536365</td>\n",
       "      <td>2010-12-01 08:26:00</td>\n",
       "      <td>201012</td>\n",
       "      <td>12</td>\n",
       "      <td>1</td>\n",
       "      <td>71053</td>\n",
       "      <td>white metal lantern</td>\n",
       "      <td>6</td>\n",
       "      <td>3.39</td>\n",
       "      <td>20.34</td>\n",
       "      <td>17850</td>\n",
       "      <td>United Kingdom</td>\n",
       "    </tr>\n",
       "    <tr>\n",
       "      <th>2</th>\n",
       "      <td>536365</td>\n",
       "      <td>2010-12-01 08:26:00</td>\n",
       "      <td>201012</td>\n",
       "      <td>12</td>\n",
       "      <td>1</td>\n",
       "      <td>84406B</td>\n",
       "      <td>cream cupid hearts coat hanger</td>\n",
       "      <td>8</td>\n",
       "      <td>2.75</td>\n",
       "      <td>22.00</td>\n",
       "      <td>17850</td>\n",
       "      <td>United Kingdom</td>\n",
       "    </tr>\n",
       "  </tbody>\n",
       "</table>\n",
       "</div>"
      ],
      "text/plain": [
       "  invoice_num        invoice_date  year_month  month  day stock_code  \\\n",
       "0      536365 2010-12-01 08:26:00      201012     12    1     85123A   \n",
       "1      536365 2010-12-01 08:26:00      201012     12    1      71053   \n",
       "2      536365 2010-12-01 08:26:00      201012     12    1     84406B   \n",
       "\n",
       "                          description  quantity  unit_price  amount_spent  \\\n",
       "0  white hanging heart t-light holder         6        2.55         15.30   \n",
       "1                 white metal lantern         6        3.39         20.34   \n",
       "2      cream cupid hearts coat hanger         8        2.75         22.00   \n",
       "\n",
       "   cust_id         country  \n",
       "0    17850  United Kingdom  \n",
       "1    17850  United Kingdom  \n",
       "2    17850  United Kingdom  "
      ]
     },
     "execution_count": 95,
     "metadata": {},
     "output_type": "execute_result"
    }
   ],
   "source": [
    "df_new.head(3)"
   ]
  },
  {
   "cell_type": "markdown",
   "id": "0a3999e5-b71d-4ab1-bd1d-905fa3f59954",
   "metadata": {},
   "source": [
    "### 54. Adding hour column to existing DataFrame"
   ]
  },
  {
   "cell_type": "code",
   "execution_count": 96,
   "id": "c4b93fcb-ff79-43df-8a01-045053930b10",
   "metadata": {},
   "outputs": [],
   "source": [
    "c4 = 'hour'"
   ]
  },
  {
   "cell_type": "code",
   "execution_count": 98,
   "id": "d85a8186-f336-4fca-84b8-48050589096d",
   "metadata": {},
   "outputs": [],
   "source": [
    "v4 = df_new.invoice_date.dt.hour"
   ]
  },
  {
   "cell_type": "code",
   "execution_count": 99,
   "id": "afe2fe53-4e1c-4bd2-a7fd-440d77af59e8",
   "metadata": {},
   "outputs": [],
   "source": [
    "df_new.insert(loc = 5 ,column = c4,value = v4)"
   ]
  },
  {
   "cell_type": "code",
   "execution_count": 100,
   "id": "b7708d4f-48cc-4854-b5a7-6687116a7a7d",
   "metadata": {},
   "outputs": [
    {
     "data": {
      "text/html": [
       "<div>\n",
       "<style scoped>\n",
       "    .dataframe tbody tr th:only-of-type {\n",
       "        vertical-align: middle;\n",
       "    }\n",
       "\n",
       "    .dataframe tbody tr th {\n",
       "        vertical-align: top;\n",
       "    }\n",
       "\n",
       "    .dataframe thead th {\n",
       "        text-align: right;\n",
       "    }\n",
       "</style>\n",
       "<table border=\"1\" class=\"dataframe\">\n",
       "  <thead>\n",
       "    <tr style=\"text-align: right;\">\n",
       "      <th></th>\n",
       "      <th>invoice_num</th>\n",
       "      <th>invoice_date</th>\n",
       "      <th>year_month</th>\n",
       "      <th>month</th>\n",
       "      <th>day</th>\n",
       "      <th>hour</th>\n",
       "      <th>stock_code</th>\n",
       "      <th>description</th>\n",
       "      <th>quantity</th>\n",
       "      <th>unit_price</th>\n",
       "      <th>amount_spent</th>\n",
       "      <th>cust_id</th>\n",
       "      <th>country</th>\n",
       "    </tr>\n",
       "  </thead>\n",
       "  <tbody>\n",
       "    <tr>\n",
       "      <th>0</th>\n",
       "      <td>536365</td>\n",
       "      <td>2010-12-01 08:26:00</td>\n",
       "      <td>201012</td>\n",
       "      <td>12</td>\n",
       "      <td>1</td>\n",
       "      <td>8</td>\n",
       "      <td>85123A</td>\n",
       "      <td>white hanging heart t-light holder</td>\n",
       "      <td>6</td>\n",
       "      <td>2.55</td>\n",
       "      <td>15.30</td>\n",
       "      <td>17850</td>\n",
       "      <td>United Kingdom</td>\n",
       "    </tr>\n",
       "    <tr>\n",
       "      <th>1</th>\n",
       "      <td>536365</td>\n",
       "      <td>2010-12-01 08:26:00</td>\n",
       "      <td>201012</td>\n",
       "      <td>12</td>\n",
       "      <td>1</td>\n",
       "      <td>8</td>\n",
       "      <td>71053</td>\n",
       "      <td>white metal lantern</td>\n",
       "      <td>6</td>\n",
       "      <td>3.39</td>\n",
       "      <td>20.34</td>\n",
       "      <td>17850</td>\n",
       "      <td>United Kingdom</td>\n",
       "    </tr>\n",
       "  </tbody>\n",
       "</table>\n",
       "</div>"
      ],
      "text/plain": [
       "  invoice_num        invoice_date  year_month  month  day  hour stock_code  \\\n",
       "0      536365 2010-12-01 08:26:00      201012     12    1     8     85123A   \n",
       "1      536365 2010-12-01 08:26:00      201012     12    1     8      71053   \n",
       "\n",
       "                          description  quantity  unit_price  amount_spent  \\\n",
       "0  white hanging heart t-light holder         6        2.55         15.30   \n",
       "1                 white metal lantern         6        3.39         20.34   \n",
       "\n",
       "   cust_id         country  \n",
       "0    17850  United Kingdom  \n",
       "1    17850  United Kingdom  "
      ]
     },
     "execution_count": 100,
     "metadata": {},
     "output_type": "execute_result"
    }
   ],
   "source": [
    "df_new.head(2)"
   ]
  },
  {
   "cell_type": "markdown",
   "id": "df635a75-7aa9-426f-9352-20bb315cb1e9",
   "metadata": {},
   "source": [
    "### 55. display all columns once"
   ]
  },
  {
   "cell_type": "code",
   "execution_count": 101,
   "id": "74028529-0b82-434d-8b80-0449368706f0",
   "metadata": {},
   "outputs": [
    {
     "data": {
      "text/plain": [
       "Index(['invoice_num', 'invoice_date', 'year_month', 'month', 'day', 'hour',\n",
       "       'stock_code', 'description', 'quantity', 'unit_price', 'amount_spent',\n",
       "       'cust_id', 'country'],\n",
       "      dtype='object')"
      ]
     },
     "execution_count": 101,
     "metadata": {},
     "output_type": "execute_result"
    }
   ],
   "source": [
    "df_new.columns"
   ]
  },
  {
   "cell_type": "code",
   "execution_count": 102,
   "id": "0ca1ff42-02e7-4b4f-a411-cf916aac1bee",
   "metadata": {},
   "outputs": [
    {
     "data": {
      "text/plain": [
       "13"
      ]
     },
     "execution_count": 102,
     "metadata": {},
     "output_type": "execute_result"
    }
   ],
   "source": [
    "len(df_new.columns)"
   ]
  },
  {
   "cell_type": "code",
   "execution_count": 105,
   "id": "12627fd6-0b46-457a-a0aa-f68457031a75",
   "metadata": {},
   "outputs": [
    {
     "name": "stdout",
     "output_type": "stream",
     "text": [
      "invoice_num\n",
      "invoice_date\n",
      "year_month\n",
      "month\n",
      "day\n",
      "hour\n",
      "stock_code\n",
      "description\n",
      "quantity\n",
      "unit_price\n",
      "amount_spent\n",
      "cust_id\n",
      "country\n"
     ]
    }
   ],
   "source": [
    "for col in df_new.columns:\n",
    "    print(col)"
   ]
  },
  {
   "cell_type": "markdown",
   "id": "24f883b2-7393-493a-ac0f-4faea08fc096",
   "metadata": {},
   "source": [
    "- # Exploratory Data Analysis (EDA)"
   ]
  },
  {
   "cell_type": "markdown",
   "id": "2ac591a0-6f04-4f5b-b8f5-231a716bc62a",
   "metadata": {},
   "source": [
    "### 56. Accessing Customer Id & By Using groupby() Method , Apply count()"
   ]
  },
  {
   "cell_type": "code",
   "execution_count": 107,
   "id": "4c37f2b3-1194-44fd-a2cf-72723f6901c5",
   "metadata": {},
   "outputs": [
    {
     "data": {
      "text/html": [
       "<div>\n",
       "<style scoped>\n",
       "    .dataframe tbody tr th:only-of-type {\n",
       "        vertical-align: middle;\n",
       "    }\n",
       "\n",
       "    .dataframe tbody tr th {\n",
       "        vertical-align: top;\n",
       "    }\n",
       "\n",
       "    .dataframe thead th {\n",
       "        text-align: right;\n",
       "    }\n",
       "</style>\n",
       "<table border=\"1\" class=\"dataframe\">\n",
       "  <thead>\n",
       "    <tr style=\"text-align: right;\">\n",
       "      <th></th>\n",
       "      <th>invoice_num</th>\n",
       "      <th>invoice_date</th>\n",
       "      <th>year_month</th>\n",
       "      <th>month</th>\n",
       "      <th>day</th>\n",
       "      <th>hour</th>\n",
       "      <th>stock_code</th>\n",
       "      <th>description</th>\n",
       "      <th>quantity</th>\n",
       "      <th>unit_price</th>\n",
       "      <th>amount_spent</th>\n",
       "      <th>country</th>\n",
       "    </tr>\n",
       "    <tr>\n",
       "      <th>cust_id</th>\n",
       "      <th></th>\n",
       "      <th></th>\n",
       "      <th></th>\n",
       "      <th></th>\n",
       "      <th></th>\n",
       "      <th></th>\n",
       "      <th></th>\n",
       "      <th></th>\n",
       "      <th></th>\n",
       "      <th></th>\n",
       "      <th></th>\n",
       "      <th></th>\n",
       "    </tr>\n",
       "  </thead>\n",
       "  <tbody>\n",
       "    <tr>\n",
       "      <th>12346</th>\n",
       "      <td>1</td>\n",
       "      <td>1</td>\n",
       "      <td>1</td>\n",
       "      <td>1</td>\n",
       "      <td>1</td>\n",
       "      <td>1</td>\n",
       "      <td>1</td>\n",
       "      <td>1</td>\n",
       "      <td>1</td>\n",
       "      <td>1</td>\n",
       "      <td>1</td>\n",
       "      <td>1</td>\n",
       "    </tr>\n",
       "    <tr>\n",
       "      <th>12347</th>\n",
       "      <td>182</td>\n",
       "      <td>182</td>\n",
       "      <td>182</td>\n",
       "      <td>182</td>\n",
       "      <td>182</td>\n",
       "      <td>182</td>\n",
       "      <td>182</td>\n",
       "      <td>182</td>\n",
       "      <td>182</td>\n",
       "      <td>182</td>\n",
       "      <td>182</td>\n",
       "      <td>182</td>\n",
       "    </tr>\n",
       "    <tr>\n",
       "      <th>12348</th>\n",
       "      <td>31</td>\n",
       "      <td>31</td>\n",
       "      <td>31</td>\n",
       "      <td>31</td>\n",
       "      <td>31</td>\n",
       "      <td>31</td>\n",
       "      <td>31</td>\n",
       "      <td>31</td>\n",
       "      <td>31</td>\n",
       "      <td>31</td>\n",
       "      <td>31</td>\n",
       "      <td>31</td>\n",
       "    </tr>\n",
       "    <tr>\n",
       "      <th>12349</th>\n",
       "      <td>73</td>\n",
       "      <td>73</td>\n",
       "      <td>73</td>\n",
       "      <td>73</td>\n",
       "      <td>73</td>\n",
       "      <td>73</td>\n",
       "      <td>73</td>\n",
       "      <td>73</td>\n",
       "      <td>73</td>\n",
       "      <td>73</td>\n",
       "      <td>73</td>\n",
       "      <td>73</td>\n",
       "    </tr>\n",
       "    <tr>\n",
       "      <th>12350</th>\n",
       "      <td>17</td>\n",
       "      <td>17</td>\n",
       "      <td>17</td>\n",
       "      <td>17</td>\n",
       "      <td>17</td>\n",
       "      <td>17</td>\n",
       "      <td>17</td>\n",
       "      <td>17</td>\n",
       "      <td>17</td>\n",
       "      <td>17</td>\n",
       "      <td>17</td>\n",
       "      <td>17</td>\n",
       "    </tr>\n",
       "    <tr>\n",
       "      <th>...</th>\n",
       "      <td>...</td>\n",
       "      <td>...</td>\n",
       "      <td>...</td>\n",
       "      <td>...</td>\n",
       "      <td>...</td>\n",
       "      <td>...</td>\n",
       "      <td>...</td>\n",
       "      <td>...</td>\n",
       "      <td>...</td>\n",
       "      <td>...</td>\n",
       "      <td>...</td>\n",
       "      <td>...</td>\n",
       "    </tr>\n",
       "    <tr>\n",
       "      <th>18280</th>\n",
       "      <td>10</td>\n",
       "      <td>10</td>\n",
       "      <td>10</td>\n",
       "      <td>10</td>\n",
       "      <td>10</td>\n",
       "      <td>10</td>\n",
       "      <td>10</td>\n",
       "      <td>10</td>\n",
       "      <td>10</td>\n",
       "      <td>10</td>\n",
       "      <td>10</td>\n",
       "      <td>10</td>\n",
       "    </tr>\n",
       "    <tr>\n",
       "      <th>18281</th>\n",
       "      <td>7</td>\n",
       "      <td>7</td>\n",
       "      <td>7</td>\n",
       "      <td>7</td>\n",
       "      <td>7</td>\n",
       "      <td>7</td>\n",
       "      <td>7</td>\n",
       "      <td>7</td>\n",
       "      <td>7</td>\n",
       "      <td>7</td>\n",
       "      <td>7</td>\n",
       "      <td>7</td>\n",
       "    </tr>\n",
       "    <tr>\n",
       "      <th>18282</th>\n",
       "      <td>12</td>\n",
       "      <td>12</td>\n",
       "      <td>12</td>\n",
       "      <td>12</td>\n",
       "      <td>12</td>\n",
       "      <td>12</td>\n",
       "      <td>12</td>\n",
       "      <td>12</td>\n",
       "      <td>12</td>\n",
       "      <td>12</td>\n",
       "      <td>12</td>\n",
       "      <td>12</td>\n",
       "    </tr>\n",
       "    <tr>\n",
       "      <th>18283</th>\n",
       "      <td>756</td>\n",
       "      <td>756</td>\n",
       "      <td>756</td>\n",
       "      <td>756</td>\n",
       "      <td>756</td>\n",
       "      <td>756</td>\n",
       "      <td>756</td>\n",
       "      <td>756</td>\n",
       "      <td>756</td>\n",
       "      <td>756</td>\n",
       "      <td>756</td>\n",
       "      <td>756</td>\n",
       "    </tr>\n",
       "    <tr>\n",
       "      <th>18287</th>\n",
       "      <td>70</td>\n",
       "      <td>70</td>\n",
       "      <td>70</td>\n",
       "      <td>70</td>\n",
       "      <td>70</td>\n",
       "      <td>70</td>\n",
       "      <td>70</td>\n",
       "      <td>70</td>\n",
       "      <td>70</td>\n",
       "      <td>70</td>\n",
       "      <td>70</td>\n",
       "      <td>70</td>\n",
       "    </tr>\n",
       "  </tbody>\n",
       "</table>\n",
       "<p>4339 rows × 12 columns</p>\n",
       "</div>"
      ],
      "text/plain": [
       "         invoice_num  invoice_date  year_month  month  day  hour  stock_code  \\\n",
       "cust_id                                                                        \n",
       "12346              1             1           1      1    1     1           1   \n",
       "12347            182           182         182    182  182   182         182   \n",
       "12348             31            31          31     31   31    31          31   \n",
       "12349             73            73          73     73   73    73          73   \n",
       "12350             17            17          17     17   17    17          17   \n",
       "...              ...           ...         ...    ...  ...   ...         ...   \n",
       "18280             10            10          10     10   10    10          10   \n",
       "18281              7             7           7      7    7     7           7   \n",
       "18282             12            12          12     12   12    12          12   \n",
       "18283            756           756         756    756  756   756         756   \n",
       "18287             70            70          70     70   70    70          70   \n",
       "\n",
       "         description  quantity  unit_price  amount_spent  country  \n",
       "cust_id                                                            \n",
       "12346              1         1           1             1        1  \n",
       "12347            182       182         182           182      182  \n",
       "12348             31        31          31            31       31  \n",
       "12349             73        73          73            73       73  \n",
       "12350             17        17          17            17       17  \n",
       "...              ...       ...         ...           ...      ...  \n",
       "18280             10        10          10            10       10  \n",
       "18281              7         7           7             7        7  \n",
       "18282             12        12          12            12       12  \n",
       "18283            756       756         756           756      756  \n",
       "18287             70        70          70            70       70  \n",
       "\n",
       "[4339 rows x 12 columns]"
      ]
     },
     "execution_count": 107,
     "metadata": {},
     "output_type": "execute_result"
    }
   ],
   "source": [
    "df_new.groupby(by = ['cust_id']).count()"
   ]
  },
  {
   "cell_type": "markdown",
   "id": "b9c025bf-7b2f-453b-8a34-98a31728b02f",
   "metadata": {},
   "source": [
    "### 57. Accessing ['Customer Id & Country']  -->  By Using groupby() Method , Apply count()"
   ]
  },
  {
   "cell_type": "code",
   "execution_count": 108,
   "id": "767b5ad8-1f49-4d79-9069-77cc453d1a5b",
   "metadata": {},
   "outputs": [
    {
     "data": {
      "text/html": [
       "<div>\n",
       "<style scoped>\n",
       "    .dataframe tbody tr th:only-of-type {\n",
       "        vertical-align: middle;\n",
       "    }\n",
       "\n",
       "    .dataframe tbody tr th {\n",
       "        vertical-align: top;\n",
       "    }\n",
       "\n",
       "    .dataframe thead th {\n",
       "        text-align: right;\n",
       "    }\n",
       "</style>\n",
       "<table border=\"1\" class=\"dataframe\">\n",
       "  <thead>\n",
       "    <tr style=\"text-align: right;\">\n",
       "      <th></th>\n",
       "      <th></th>\n",
       "      <th>invoice_num</th>\n",
       "      <th>invoice_date</th>\n",
       "      <th>year_month</th>\n",
       "      <th>month</th>\n",
       "      <th>day</th>\n",
       "      <th>hour</th>\n",
       "      <th>stock_code</th>\n",
       "      <th>description</th>\n",
       "      <th>quantity</th>\n",
       "      <th>unit_price</th>\n",
       "      <th>amount_spent</th>\n",
       "    </tr>\n",
       "    <tr>\n",
       "      <th>cust_id</th>\n",
       "      <th>country</th>\n",
       "      <th></th>\n",
       "      <th></th>\n",
       "      <th></th>\n",
       "      <th></th>\n",
       "      <th></th>\n",
       "      <th></th>\n",
       "      <th></th>\n",
       "      <th></th>\n",
       "      <th></th>\n",
       "      <th></th>\n",
       "      <th></th>\n",
       "    </tr>\n",
       "  </thead>\n",
       "  <tbody>\n",
       "    <tr>\n",
       "      <th>12346</th>\n",
       "      <th>United Kingdom</th>\n",
       "      <td>1</td>\n",
       "      <td>1</td>\n",
       "      <td>1</td>\n",
       "      <td>1</td>\n",
       "      <td>1</td>\n",
       "      <td>1</td>\n",
       "      <td>1</td>\n",
       "      <td>1</td>\n",
       "      <td>1</td>\n",
       "      <td>1</td>\n",
       "      <td>1</td>\n",
       "    </tr>\n",
       "    <tr>\n",
       "      <th>12347</th>\n",
       "      <th>Iceland</th>\n",
       "      <td>182</td>\n",
       "      <td>182</td>\n",
       "      <td>182</td>\n",
       "      <td>182</td>\n",
       "      <td>182</td>\n",
       "      <td>182</td>\n",
       "      <td>182</td>\n",
       "      <td>182</td>\n",
       "      <td>182</td>\n",
       "      <td>182</td>\n",
       "      <td>182</td>\n",
       "    </tr>\n",
       "    <tr>\n",
       "      <th>12348</th>\n",
       "      <th>Finland</th>\n",
       "      <td>31</td>\n",
       "      <td>31</td>\n",
       "      <td>31</td>\n",
       "      <td>31</td>\n",
       "      <td>31</td>\n",
       "      <td>31</td>\n",
       "      <td>31</td>\n",
       "      <td>31</td>\n",
       "      <td>31</td>\n",
       "      <td>31</td>\n",
       "      <td>31</td>\n",
       "    </tr>\n",
       "    <tr>\n",
       "      <th>12349</th>\n",
       "      <th>Italy</th>\n",
       "      <td>73</td>\n",
       "      <td>73</td>\n",
       "      <td>73</td>\n",
       "      <td>73</td>\n",
       "      <td>73</td>\n",
       "      <td>73</td>\n",
       "      <td>73</td>\n",
       "      <td>73</td>\n",
       "      <td>73</td>\n",
       "      <td>73</td>\n",
       "      <td>73</td>\n",
       "    </tr>\n",
       "    <tr>\n",
       "      <th>12350</th>\n",
       "      <th>Norway</th>\n",
       "      <td>17</td>\n",
       "      <td>17</td>\n",
       "      <td>17</td>\n",
       "      <td>17</td>\n",
       "      <td>17</td>\n",
       "      <td>17</td>\n",
       "      <td>17</td>\n",
       "      <td>17</td>\n",
       "      <td>17</td>\n",
       "      <td>17</td>\n",
       "      <td>17</td>\n",
       "    </tr>\n",
       "    <tr>\n",
       "      <th>...</th>\n",
       "      <th>...</th>\n",
       "      <td>...</td>\n",
       "      <td>...</td>\n",
       "      <td>...</td>\n",
       "      <td>...</td>\n",
       "      <td>...</td>\n",
       "      <td>...</td>\n",
       "      <td>...</td>\n",
       "      <td>...</td>\n",
       "      <td>...</td>\n",
       "      <td>...</td>\n",
       "      <td>...</td>\n",
       "    </tr>\n",
       "    <tr>\n",
       "      <th>18280</th>\n",
       "      <th>United Kingdom</th>\n",
       "      <td>10</td>\n",
       "      <td>10</td>\n",
       "      <td>10</td>\n",
       "      <td>10</td>\n",
       "      <td>10</td>\n",
       "      <td>10</td>\n",
       "      <td>10</td>\n",
       "      <td>10</td>\n",
       "      <td>10</td>\n",
       "      <td>10</td>\n",
       "      <td>10</td>\n",
       "    </tr>\n",
       "    <tr>\n",
       "      <th>18281</th>\n",
       "      <th>United Kingdom</th>\n",
       "      <td>7</td>\n",
       "      <td>7</td>\n",
       "      <td>7</td>\n",
       "      <td>7</td>\n",
       "      <td>7</td>\n",
       "      <td>7</td>\n",
       "      <td>7</td>\n",
       "      <td>7</td>\n",
       "      <td>7</td>\n",
       "      <td>7</td>\n",
       "      <td>7</td>\n",
       "    </tr>\n",
       "    <tr>\n",
       "      <th>18282</th>\n",
       "      <th>United Kingdom</th>\n",
       "      <td>12</td>\n",
       "      <td>12</td>\n",
       "      <td>12</td>\n",
       "      <td>12</td>\n",
       "      <td>12</td>\n",
       "      <td>12</td>\n",
       "      <td>12</td>\n",
       "      <td>12</td>\n",
       "      <td>12</td>\n",
       "      <td>12</td>\n",
       "      <td>12</td>\n",
       "    </tr>\n",
       "    <tr>\n",
       "      <th>18283</th>\n",
       "      <th>United Kingdom</th>\n",
       "      <td>756</td>\n",
       "      <td>756</td>\n",
       "      <td>756</td>\n",
       "      <td>756</td>\n",
       "      <td>756</td>\n",
       "      <td>756</td>\n",
       "      <td>756</td>\n",
       "      <td>756</td>\n",
       "      <td>756</td>\n",
       "      <td>756</td>\n",
       "      <td>756</td>\n",
       "    </tr>\n",
       "    <tr>\n",
       "      <th>18287</th>\n",
       "      <th>United Kingdom</th>\n",
       "      <td>70</td>\n",
       "      <td>70</td>\n",
       "      <td>70</td>\n",
       "      <td>70</td>\n",
       "      <td>70</td>\n",
       "      <td>70</td>\n",
       "      <td>70</td>\n",
       "      <td>70</td>\n",
       "      <td>70</td>\n",
       "      <td>70</td>\n",
       "      <td>70</td>\n",
       "    </tr>\n",
       "  </tbody>\n",
       "</table>\n",
       "<p>4347 rows × 11 columns</p>\n",
       "</div>"
      ],
      "text/plain": [
       "                        invoice_num  invoice_date  year_month  month  day  \\\n",
       "cust_id country                                                             \n",
       "12346   United Kingdom            1             1           1      1    1   \n",
       "12347   Iceland                 182           182         182    182  182   \n",
       "12348   Finland                  31            31          31     31   31   \n",
       "12349   Italy                    73            73          73     73   73   \n",
       "12350   Norway                   17            17          17     17   17   \n",
       "...                             ...           ...         ...    ...  ...   \n",
       "18280   United Kingdom           10            10          10     10   10   \n",
       "18281   United Kingdom            7             7           7      7    7   \n",
       "18282   United Kingdom           12            12          12     12   12   \n",
       "18283   United Kingdom          756           756         756    756  756   \n",
       "18287   United Kingdom           70            70          70     70   70   \n",
       "\n",
       "                        hour  stock_code  description  quantity  unit_price  \\\n",
       "cust_id country                                                               \n",
       "12346   United Kingdom     1           1            1         1           1   \n",
       "12347   Iceland          182         182          182       182         182   \n",
       "12348   Finland           31          31           31        31          31   \n",
       "12349   Italy             73          73           73        73          73   \n",
       "12350   Norway            17          17           17        17          17   \n",
       "...                      ...         ...          ...       ...         ...   \n",
       "18280   United Kingdom    10          10           10        10          10   \n",
       "18281   United Kingdom     7           7            7         7           7   \n",
       "18282   United Kingdom    12          12           12        12          12   \n",
       "18283   United Kingdom   756         756          756       756         756   \n",
       "18287   United Kingdom    70          70           70        70          70   \n",
       "\n",
       "                        amount_spent  \n",
       "cust_id country                       \n",
       "12346   United Kingdom             1  \n",
       "12347   Iceland                  182  \n",
       "12348   Finland                   31  \n",
       "12349   Italy                     73  \n",
       "12350   Norway                    17  \n",
       "...                              ...  \n",
       "18280   United Kingdom            10  \n",
       "18281   United Kingdom             7  \n",
       "18282   United Kingdom            12  \n",
       "18283   United Kingdom           756  \n",
       "18287   United Kingdom            70  \n",
       "\n",
       "[4347 rows x 11 columns]"
      ]
     },
     "execution_count": 108,
     "metadata": {},
     "output_type": "execute_result"
    }
   ],
   "source": [
    "df_new.groupby(by = ['cust_id','country']).count()"
   ]
  },
  {
   "cell_type": "code",
   "execution_count": 117,
   "id": "1cde085c-aaf0-4ae3-9ffc-c1b3380f8357",
   "metadata": {},
   "outputs": [
    {
     "data": {
      "text/plain": [
       "cust_id  country       \n",
       "12346    United Kingdom      1\n",
       "12347    Iceland           182\n",
       "12348    Finland            31\n",
       "12349    Italy              73\n",
       "12350    Norway             17\n",
       "                          ... \n",
       "18280    United Kingdom     10\n",
       "18281    United Kingdom      7\n",
       "18282    United Kingdom     12\n",
       "18283    United Kingdom    756\n",
       "18287    United Kingdom     70\n",
       "Name: invoice_num, Length: 4347, dtype: int64"
      ]
     },
     "execution_count": 117,
     "metadata": {},
     "output_type": "execute_result"
    }
   ],
   "source": [
    "df_new.groupby(by = ['cust_id','country'])['invoice_num'].count()"
   ]
  },
  {
   "cell_type": "code",
   "execution_count": 118,
   "id": "746363b2-9428-4a30-8d5b-508cebbfc8b9",
   "metadata": {},
   "outputs": [
    {
     "data": {
      "text/html": [
       "<div>\n",
       "<style scoped>\n",
       "    .dataframe tbody tr th:only-of-type {\n",
       "        vertical-align: middle;\n",
       "    }\n",
       "\n",
       "    .dataframe tbody tr th {\n",
       "        vertical-align: top;\n",
       "    }\n",
       "\n",
       "    .dataframe thead th {\n",
       "        text-align: right;\n",
       "    }\n",
       "</style>\n",
       "<table border=\"1\" class=\"dataframe\">\n",
       "  <thead>\n",
       "    <tr style=\"text-align: right;\">\n",
       "      <th></th>\n",
       "      <th>cust_id</th>\n",
       "      <th>country</th>\n",
       "      <th>invoice_num</th>\n",
       "    </tr>\n",
       "  </thead>\n",
       "  <tbody>\n",
       "    <tr>\n",
       "      <th>0</th>\n",
       "      <td>12346</td>\n",
       "      <td>United Kingdom</td>\n",
       "      <td>1</td>\n",
       "    </tr>\n",
       "    <tr>\n",
       "      <th>1</th>\n",
       "      <td>12347</td>\n",
       "      <td>Iceland</td>\n",
       "      <td>182</td>\n",
       "    </tr>\n",
       "    <tr>\n",
       "      <th>2</th>\n",
       "      <td>12348</td>\n",
       "      <td>Finland</td>\n",
       "      <td>31</td>\n",
       "    </tr>\n",
       "    <tr>\n",
       "      <th>3</th>\n",
       "      <td>12349</td>\n",
       "      <td>Italy</td>\n",
       "      <td>73</td>\n",
       "    </tr>\n",
       "    <tr>\n",
       "      <th>4</th>\n",
       "      <td>12350</td>\n",
       "      <td>Norway</td>\n",
       "      <td>17</td>\n",
       "    </tr>\n",
       "    <tr>\n",
       "      <th>...</th>\n",
       "      <td>...</td>\n",
       "      <td>...</td>\n",
       "      <td>...</td>\n",
       "    </tr>\n",
       "    <tr>\n",
       "      <th>4342</th>\n",
       "      <td>18280</td>\n",
       "      <td>United Kingdom</td>\n",
       "      <td>10</td>\n",
       "    </tr>\n",
       "    <tr>\n",
       "      <th>4343</th>\n",
       "      <td>18281</td>\n",
       "      <td>United Kingdom</td>\n",
       "      <td>7</td>\n",
       "    </tr>\n",
       "    <tr>\n",
       "      <th>4344</th>\n",
       "      <td>18282</td>\n",
       "      <td>United Kingdom</td>\n",
       "      <td>12</td>\n",
       "    </tr>\n",
       "    <tr>\n",
       "      <th>4345</th>\n",
       "      <td>18283</td>\n",
       "      <td>United Kingdom</td>\n",
       "      <td>756</td>\n",
       "    </tr>\n",
       "    <tr>\n",
       "      <th>4346</th>\n",
       "      <td>18287</td>\n",
       "      <td>United Kingdom</td>\n",
       "      <td>70</td>\n",
       "    </tr>\n",
       "  </tbody>\n",
       "</table>\n",
       "<p>4347 rows × 3 columns</p>\n",
       "</div>"
      ],
      "text/plain": [
       "      cust_id         country  invoice_num\n",
       "0       12346  United Kingdom            1\n",
       "1       12347         Iceland          182\n",
       "2       12348         Finland           31\n",
       "3       12349           Italy           73\n",
       "4       12350          Norway           17\n",
       "...       ...             ...          ...\n",
       "4342    18280  United Kingdom           10\n",
       "4343    18281  United Kingdom            7\n",
       "4344    18282  United Kingdom           12\n",
       "4345    18283  United Kingdom          756\n",
       "4346    18287  United Kingdom           70\n",
       "\n",
       "[4347 rows x 3 columns]"
      ]
     },
     "execution_count": 118,
     "metadata": {},
     "output_type": "execute_result"
    }
   ],
   "source": [
    "df_new.groupby(by = ['cust_id','country'], as_index = False)['invoice_num'].count()"
   ]
  },
  {
   "cell_type": "code",
   "execution_count": 119,
   "id": "78dda0a3-62f2-466e-913b-fb861794f1ec",
   "metadata": {},
   "outputs": [
    {
     "data": {
      "text/html": [
       "<div>\n",
       "<style scoped>\n",
       "    .dataframe tbody tr th:only-of-type {\n",
       "        vertical-align: middle;\n",
       "    }\n",
       "\n",
       "    .dataframe tbody tr th {\n",
       "        vertical-align: top;\n",
       "    }\n",
       "\n",
       "    .dataframe thead th {\n",
       "        text-align: right;\n",
       "    }\n",
       "</style>\n",
       "<table border=\"1\" class=\"dataframe\">\n",
       "  <thead>\n",
       "    <tr style=\"text-align: right;\">\n",
       "      <th></th>\n",
       "      <th>cust_id</th>\n",
       "      <th>country</th>\n",
       "      <th>invoice_num</th>\n",
       "    </tr>\n",
       "  </thead>\n",
       "  <tbody>\n",
       "    <tr>\n",
       "      <th>0</th>\n",
       "      <td>12346</td>\n",
       "      <td>United Kingdom</td>\n",
       "      <td>1</td>\n",
       "    </tr>\n",
       "    <tr>\n",
       "      <th>1</th>\n",
       "      <td>12347</td>\n",
       "      <td>Iceland</td>\n",
       "      <td>182</td>\n",
       "    </tr>\n",
       "    <tr>\n",
       "      <th>2</th>\n",
       "      <td>12348</td>\n",
       "      <td>Finland</td>\n",
       "      <td>31</td>\n",
       "    </tr>\n",
       "    <tr>\n",
       "      <th>3</th>\n",
       "      <td>12349</td>\n",
       "      <td>Italy</td>\n",
       "      <td>73</td>\n",
       "    </tr>\n",
       "    <tr>\n",
       "      <th>4</th>\n",
       "      <td>12350</td>\n",
       "      <td>Norway</td>\n",
       "      <td>17</td>\n",
       "    </tr>\n",
       "  </tbody>\n",
       "</table>\n",
       "</div>"
      ],
      "text/plain": [
       "   cust_id         country  invoice_num\n",
       "0    12346  United Kingdom            1\n",
       "1    12347         Iceland          182\n",
       "2    12348         Finland           31\n",
       "3    12349           Italy           73\n",
       "4    12350          Norway           17"
      ]
     },
     "execution_count": 119,
     "metadata": {},
     "output_type": "execute_result"
    }
   ],
   "source": [
    "df_new.groupby(by=['cust_id','country'], as_index=False)['invoice_num'].count().head()"
   ]
  },
  {
   "cell_type": "markdown",
   "id": "cdd1d702-d747-4585-bafe-c2b31ca8207f",
   "metadata": {},
   "source": [
    "- # Data Visaulization libraries"
   ]
  },
  {
   "cell_type": "markdown",
   "id": "9907cc49-7a5b-411c-b287-3ea56491c0bc",
   "metadata": {},
   "source": [
    "- ### accessing initial five rows"
   ]
  },
  {
   "cell_type": "code",
   "execution_count": 122,
   "id": "d61f115b-9678-4a8b-93a7-e2cadb5681ee",
   "metadata": {},
   "outputs": [
    {
     "data": {
      "text/html": [
       "<div>\n",
       "<style scoped>\n",
       "    .dataframe tbody tr th:only-of-type {\n",
       "        vertical-align: middle;\n",
       "    }\n",
       "\n",
       "    .dataframe tbody tr th {\n",
       "        vertical-align: top;\n",
       "    }\n",
       "\n",
       "    .dataframe thead th {\n",
       "        text-align: right;\n",
       "    }\n",
       "</style>\n",
       "<table border=\"1\" class=\"dataframe\">\n",
       "  <thead>\n",
       "    <tr style=\"text-align: right;\">\n",
       "      <th></th>\n",
       "      <th>invoice_num</th>\n",
       "      <th>invoice_date</th>\n",
       "      <th>year_month</th>\n",
       "      <th>month</th>\n",
       "      <th>day</th>\n",
       "      <th>hour</th>\n",
       "      <th>stock_code</th>\n",
       "      <th>description</th>\n",
       "      <th>quantity</th>\n",
       "      <th>unit_price</th>\n",
       "      <th>amount_spent</th>\n",
       "      <th>cust_id</th>\n",
       "      <th>country</th>\n",
       "    </tr>\n",
       "  </thead>\n",
       "  <tbody>\n",
       "    <tr>\n",
       "      <th>0</th>\n",
       "      <td>536365</td>\n",
       "      <td>2010-12-01 08:26:00</td>\n",
       "      <td>201012</td>\n",
       "      <td>12</td>\n",
       "      <td>1</td>\n",
       "      <td>8</td>\n",
       "      <td>85123A</td>\n",
       "      <td>white hanging heart t-light holder</td>\n",
       "      <td>6</td>\n",
       "      <td>2.55</td>\n",
       "      <td>15.30</td>\n",
       "      <td>17850</td>\n",
       "      <td>United Kingdom</td>\n",
       "    </tr>\n",
       "    <tr>\n",
       "      <th>1</th>\n",
       "      <td>536365</td>\n",
       "      <td>2010-12-01 08:26:00</td>\n",
       "      <td>201012</td>\n",
       "      <td>12</td>\n",
       "      <td>1</td>\n",
       "      <td>8</td>\n",
       "      <td>71053</td>\n",
       "      <td>white metal lantern</td>\n",
       "      <td>6</td>\n",
       "      <td>3.39</td>\n",
       "      <td>20.34</td>\n",
       "      <td>17850</td>\n",
       "      <td>United Kingdom</td>\n",
       "    </tr>\n",
       "    <tr>\n",
       "      <th>2</th>\n",
       "      <td>536365</td>\n",
       "      <td>2010-12-01 08:26:00</td>\n",
       "      <td>201012</td>\n",
       "      <td>12</td>\n",
       "      <td>1</td>\n",
       "      <td>8</td>\n",
       "      <td>84406B</td>\n",
       "      <td>cream cupid hearts coat hanger</td>\n",
       "      <td>8</td>\n",
       "      <td>2.75</td>\n",
       "      <td>22.00</td>\n",
       "      <td>17850</td>\n",
       "      <td>United Kingdom</td>\n",
       "    </tr>\n",
       "    <tr>\n",
       "      <th>3</th>\n",
       "      <td>536365</td>\n",
       "      <td>2010-12-01 08:26:00</td>\n",
       "      <td>201012</td>\n",
       "      <td>12</td>\n",
       "      <td>1</td>\n",
       "      <td>8</td>\n",
       "      <td>84029G</td>\n",
       "      <td>knitted union flag hot water bottle</td>\n",
       "      <td>6</td>\n",
       "      <td>3.39</td>\n",
       "      <td>20.34</td>\n",
       "      <td>17850</td>\n",
       "      <td>United Kingdom</td>\n",
       "    </tr>\n",
       "    <tr>\n",
       "      <th>4</th>\n",
       "      <td>536365</td>\n",
       "      <td>2010-12-01 08:26:00</td>\n",
       "      <td>201012</td>\n",
       "      <td>12</td>\n",
       "      <td>1</td>\n",
       "      <td>8</td>\n",
       "      <td>84029E</td>\n",
       "      <td>red woolly hottie white heart.</td>\n",
       "      <td>6</td>\n",
       "      <td>3.39</td>\n",
       "      <td>20.34</td>\n",
       "      <td>17850</td>\n",
       "      <td>United Kingdom</td>\n",
       "    </tr>\n",
       "  </tbody>\n",
       "</table>\n",
       "</div>"
      ],
      "text/plain": [
       "  invoice_num        invoice_date  year_month  month  day  hour stock_code  \\\n",
       "0      536365 2010-12-01 08:26:00      201012     12    1     8     85123A   \n",
       "1      536365 2010-12-01 08:26:00      201012     12    1     8      71053   \n",
       "2      536365 2010-12-01 08:26:00      201012     12    1     8     84406B   \n",
       "3      536365 2010-12-01 08:26:00      201012     12    1     8     84029G   \n",
       "4      536365 2010-12-01 08:26:00      201012     12    1     8     84029E   \n",
       "\n",
       "                           description  quantity  unit_price  amount_spent  \\\n",
       "0   white hanging heart t-light holder         6        2.55         15.30   \n",
       "1                  white metal lantern         6        3.39         20.34   \n",
       "2       cream cupid hearts coat hanger         8        2.75         22.00   \n",
       "3  knitted union flag hot water bottle         6        3.39         20.34   \n",
       "4       red woolly hottie white heart.         6        3.39         20.34   \n",
       "\n",
       "   cust_id         country  \n",
       "0    17850  United Kingdom  \n",
       "1    17850  United Kingdom  \n",
       "2    17850  United Kingdom  \n",
       "3    17850  United Kingdom  \n",
       "4    17850  United Kingdom  "
      ]
     },
     "execution_count": 122,
     "metadata": {},
     "output_type": "execute_result"
    }
   ],
   "source": [
    "df_new.head()"
   ]
  },
  {
   "cell_type": "markdown",
   "id": "85e8c2d1-c4cb-4a03-b78b-7a1a01ac8782",
   "metadata": {},
   "source": [
    "### 58. import some libraries"
   ]
  },
  {
   "cell_type": "code",
   "execution_count": 121,
   "id": "2311f591-d306-4df6-b53a-3e54a99cf2ef",
   "metadata": {
    "scrolled": true
   },
   "outputs": [],
   "source": [
    "import matplotlib.pyplot as plt\n",
    "import seaborn as sns "
   ]
  },
  {
   "cell_type": "code",
   "execution_count": 124,
   "id": "bc33de26-b3b1-4408-9f92-f644ef69f05b",
   "metadata": {},
   "outputs": [
    {
     "data": {
      "text/html": [
       "<div>\n",
       "<style scoped>\n",
       "    .dataframe tbody tr th:only-of-type {\n",
       "        vertical-align: middle;\n",
       "    }\n",
       "\n",
       "    .dataframe tbody tr th {\n",
       "        vertical-align: top;\n",
       "    }\n",
       "\n",
       "    .dataframe thead th {\n",
       "        text-align: right;\n",
       "    }\n",
       "</style>\n",
       "<table border=\"1\" class=\"dataframe\">\n",
       "  <thead>\n",
       "    <tr style=\"text-align: right;\">\n",
       "      <th></th>\n",
       "      <th>cust_id</th>\n",
       "      <th>country</th>\n",
       "      <th>invoice_num</th>\n",
       "    </tr>\n",
       "  </thead>\n",
       "  <tbody>\n",
       "    <tr>\n",
       "      <th>0</th>\n",
       "      <td>12346</td>\n",
       "      <td>United Kingdom</td>\n",
       "      <td>1</td>\n",
       "    </tr>\n",
       "    <tr>\n",
       "      <th>1</th>\n",
       "      <td>12347</td>\n",
       "      <td>Iceland</td>\n",
       "      <td>182</td>\n",
       "    </tr>\n",
       "    <tr>\n",
       "      <th>2</th>\n",
       "      <td>12348</td>\n",
       "      <td>Finland</td>\n",
       "      <td>31</td>\n",
       "    </tr>\n",
       "    <tr>\n",
       "      <th>3</th>\n",
       "      <td>12349</td>\n",
       "      <td>Italy</td>\n",
       "      <td>73</td>\n",
       "    </tr>\n",
       "    <tr>\n",
       "      <th>4</th>\n",
       "      <td>12350</td>\n",
       "      <td>Norway</td>\n",
       "      <td>17</td>\n",
       "    </tr>\n",
       "  </tbody>\n",
       "</table>\n",
       "</div>"
      ],
      "text/plain": [
       "   cust_id         country  invoice_num\n",
       "0    12346  United Kingdom            1\n",
       "1    12347         Iceland          182\n",
       "2    12348         Finland           31\n",
       "3    12349           Italy           73\n",
       "4    12350          Norway           17"
      ]
     },
     "execution_count": 124,
     "metadata": {},
     "output_type": "execute_result"
    }
   ],
   "source": [
    "df_new.groupby(by=['cust_id','country'], as_index=False)['invoice_num'].count().head()"
   ]
  },
  {
   "cell_type": "code",
   "execution_count": 141,
   "id": "1963b328-34b5-4316-b5ed-f4d901666c15",
   "metadata": {},
   "outputs": [],
   "source": [
    "orders = df_new.groupby(by=['cust_id','country'], as_index=False)['invoice_num'].count()"
   ]
  },
  {
   "cell_type": "code",
   "execution_count": 142,
   "id": "7f2ab6e9-1cb6-4da8-a127-f8218eb3bad3",
   "metadata": {},
   "outputs": [
    {
     "data": {
      "text/html": [
       "<div>\n",
       "<style scoped>\n",
       "    .dataframe tbody tr th:only-of-type {\n",
       "        vertical-align: middle;\n",
       "    }\n",
       "\n",
       "    .dataframe tbody tr th {\n",
       "        vertical-align: top;\n",
       "    }\n",
       "\n",
       "    .dataframe thead th {\n",
       "        text-align: right;\n",
       "    }\n",
       "</style>\n",
       "<table border=\"1\" class=\"dataframe\">\n",
       "  <thead>\n",
       "    <tr style=\"text-align: right;\">\n",
       "      <th></th>\n",
       "      <th>cust_id</th>\n",
       "      <th>country</th>\n",
       "      <th>invoice_num</th>\n",
       "    </tr>\n",
       "  </thead>\n",
       "  <tbody>\n",
       "    <tr>\n",
       "      <th>0</th>\n",
       "      <td>12346</td>\n",
       "      <td>United Kingdom</td>\n",
       "      <td>1</td>\n",
       "    </tr>\n",
       "    <tr>\n",
       "      <th>1</th>\n",
       "      <td>12347</td>\n",
       "      <td>Iceland</td>\n",
       "      <td>182</td>\n",
       "    </tr>\n",
       "    <tr>\n",
       "      <th>2</th>\n",
       "      <td>12348</td>\n",
       "      <td>Finland</td>\n",
       "      <td>31</td>\n",
       "    </tr>\n",
       "    <tr>\n",
       "      <th>3</th>\n",
       "      <td>12349</td>\n",
       "      <td>Italy</td>\n",
       "      <td>73</td>\n",
       "    </tr>\n",
       "    <tr>\n",
       "      <th>4</th>\n",
       "      <td>12350</td>\n",
       "      <td>Norway</td>\n",
       "      <td>17</td>\n",
       "    </tr>\n",
       "    <tr>\n",
       "      <th>...</th>\n",
       "      <td>...</td>\n",
       "      <td>...</td>\n",
       "      <td>...</td>\n",
       "    </tr>\n",
       "    <tr>\n",
       "      <th>4342</th>\n",
       "      <td>18280</td>\n",
       "      <td>United Kingdom</td>\n",
       "      <td>10</td>\n",
       "    </tr>\n",
       "    <tr>\n",
       "      <th>4343</th>\n",
       "      <td>18281</td>\n",
       "      <td>United Kingdom</td>\n",
       "      <td>7</td>\n",
       "    </tr>\n",
       "    <tr>\n",
       "      <th>4344</th>\n",
       "      <td>18282</td>\n",
       "      <td>United Kingdom</td>\n",
       "      <td>12</td>\n",
       "    </tr>\n",
       "    <tr>\n",
       "      <th>4345</th>\n",
       "      <td>18283</td>\n",
       "      <td>United Kingdom</td>\n",
       "      <td>756</td>\n",
       "    </tr>\n",
       "    <tr>\n",
       "      <th>4346</th>\n",
       "      <td>18287</td>\n",
       "      <td>United Kingdom</td>\n",
       "      <td>70</td>\n",
       "    </tr>\n",
       "  </tbody>\n",
       "</table>\n",
       "<p>4347 rows × 3 columns</p>\n",
       "</div>"
      ],
      "text/plain": [
       "      cust_id         country  invoice_num\n",
       "0       12346  United Kingdom            1\n",
       "1       12347         Iceland          182\n",
       "2       12348         Finland           31\n",
       "3       12349           Italy           73\n",
       "4       12350          Norway           17\n",
       "...       ...             ...          ...\n",
       "4342    18280  United Kingdom           10\n",
       "4343    18281  United Kingdom            7\n",
       "4344    18282  United Kingdom           12\n",
       "4345    18283  United Kingdom          756\n",
       "4346    18287  United Kingdom           70\n",
       "\n",
       "[4347 rows x 3 columns]"
      ]
     },
     "execution_count": 142,
     "metadata": {},
     "output_type": "execute_result"
    }
   ],
   "source": [
    "orders"
   ]
  },
  {
   "cell_type": "code",
   "execution_count": 144,
   "id": "62243244-a701-4d6b-81fa-deea2d328e9f",
   "metadata": {},
   "outputs": [],
   "source": [
    "#orders = df_new.groupby(by=['cust_id','country'], as_index=False)['invoice_num'].value_counts()"
   ]
  },
  {
   "cell_type": "code",
   "execution_count": 145,
   "id": "7d003b0d-67c8-45ee-b07d-205f8267dccf",
   "metadata": {},
   "outputs": [],
   "source": [
    "#orders"
   ]
  },
  {
   "cell_type": "markdown",
   "id": "c26d88d9-4097-4de1-9ab8-3c076e6a3e53",
   "metadata": {},
   "source": [
    "### 59. Check TOP 5 most number of orders"
   ]
  },
  {
   "cell_type": "code",
   "execution_count": 146,
   "id": "0e5cd6eb-ba2c-48f3-be5c-bfc31cfc9a3a",
   "metadata": {},
   "outputs": [
    {
     "data": {
      "text/html": [
       "<div>\n",
       "<style scoped>\n",
       "    .dataframe tbody tr th:only-of-type {\n",
       "        vertical-align: middle;\n",
       "    }\n",
       "\n",
       "    .dataframe tbody tr th {\n",
       "        vertical-align: top;\n",
       "    }\n",
       "\n",
       "    .dataframe thead th {\n",
       "        text-align: right;\n",
       "    }\n",
       "</style>\n",
       "<table border=\"1\" class=\"dataframe\">\n",
       "  <thead>\n",
       "    <tr style=\"text-align: right;\">\n",
       "      <th></th>\n",
       "      <th>cust_id</th>\n",
       "      <th>country</th>\n",
       "      <th>invoice_num</th>\n",
       "    </tr>\n",
       "  </thead>\n",
       "  <tbody>\n",
       "    <tr>\n",
       "      <th>4019</th>\n",
       "      <td>17841</td>\n",
       "      <td>United Kingdom</td>\n",
       "      <td>7847</td>\n",
       "    </tr>\n",
       "    <tr>\n",
       "      <th>1888</th>\n",
       "      <td>14911</td>\n",
       "      <td>EIRE</td>\n",
       "      <td>5677</td>\n",
       "    </tr>\n",
       "    <tr>\n",
       "      <th>1298</th>\n",
       "      <td>14096</td>\n",
       "      <td>United Kingdom</td>\n",
       "      <td>5111</td>\n",
       "    </tr>\n",
       "    <tr>\n",
       "      <th>334</th>\n",
       "      <td>12748</td>\n",
       "      <td>United Kingdom</td>\n",
       "      <td>4596</td>\n",
       "    </tr>\n",
       "    <tr>\n",
       "      <th>1670</th>\n",
       "      <td>14606</td>\n",
       "      <td>United Kingdom</td>\n",
       "      <td>2700</td>\n",
       "    </tr>\n",
       "  </tbody>\n",
       "</table>\n",
       "</div>"
      ],
      "text/plain": [
       "      cust_id         country  invoice_num\n",
       "4019    17841  United Kingdom         7847\n",
       "1888    14911            EIRE         5677\n",
       "1298    14096  United Kingdom         5111\n",
       "334     12748  United Kingdom         4596\n",
       "1670    14606  United Kingdom         2700"
      ]
     },
     "execution_count": 146,
     "metadata": {},
     "output_type": "execute_result"
    }
   ],
   "source": [
    "orders.sort_values(by = 'invoice_num', ascending = False).head()"
   ]
  },
  {
   "cell_type": "markdown",
   "id": "8112b295-620e-4822-8f83-7cca0ef2b400",
   "metadata": {},
   "source": [
    "### 60. Visualizing - Number of Orders for different Customers"
   ]
  },
  {
   "cell_type": "code",
   "execution_count": 158,
   "id": "227d9f71-ccb4-4d06-be17-1159ba74573e",
   "metadata": {},
   "outputs": [
    {
     "data": {
      "image/png": "[encoded data removed]",
      "text/plain": [
       "<Figure size 1500x600 with 1 Axes>"
      ]
     },
     "metadata": {},
     "output_type": "display_data"
    }
   ],
   "source": [
    "orders = df_new.groupby(by=['cust_id','country'], as_index=False)['invoice_num'].count()\n",
    "\n",
    "plt.subplots(figsize=(15,6))\n",
    "\n",
    "plt.plot(orders.cust_id, orders.invoice_num,color= \"b\")\n",
    "\n",
    "plt.xlabel('Customers ID')\n",
    "plt.ylabel('Number of Orders')\n",
    "plt.title('Number of Orders for different Customers',color = \"g\")\n",
    "\n",
    "plt.show()"
   ]
  },
  {
   "cell_type": "markdown",
   "id": "69b728c9-2971-459b-9fcd-8c860ed778ab",
   "metadata": {},
   "source": [
    "### 61. How much money spent by each customers?"
   ]
  },
  {
   "cell_type": "code",
   "execution_count": 163,
   "id": "55cfe5cb-8c6d-4d72-9bd6-1ee1bed9eb7d",
   "metadata": {},
   "outputs": [],
   "source": [
    "# df_new.groupby(by = ['cust_id', 'country']).sum()"
   ]
  },
  {
   "cell_type": "code",
   "execution_count": 164,
   "id": "e9f476c1-bdfa-4ffb-8e66-d998f297b557",
   "metadata": {},
   "outputs": [
    {
     "data": {
      "text/plain": [
       "cust_id  country       \n",
       "12346    United Kingdom    77183.60\n",
       "12347    Iceland            4310.00\n",
       "12348    Finland            1797.24\n",
       "12349    Italy              1757.55\n",
       "12350    Norway              334.40\n",
       "                             ...   \n",
       "18280    United Kingdom      180.60\n",
       "18281    United Kingdom       80.82\n",
       "18282    United Kingdom      178.05\n",
       "18283    United Kingdom     2094.88\n",
       "18287    United Kingdom     1837.28\n",
       "Name: amount_spent, Length: 4347, dtype: float64"
      ]
     },
     "execution_count": 164,
     "metadata": {},
     "output_type": "execute_result"
    }
   ],
   "source": [
    "df_new.groupby(by = ['cust_id', 'country'])['amount_spent'].sum()"
   ]
  },
  {
   "cell_type": "code",
   "execution_count": 165,
   "id": "1ef59f90-fb32-4091-a7af-d10b59f916a7",
   "metadata": {},
   "outputs": [
    {
     "data": {
      "text/html": [
       "<div>\n",
       "<style scoped>\n",
       "    .dataframe tbody tr th:only-of-type {\n",
       "        vertical-align: middle;\n",
       "    }\n",
       "\n",
       "    .dataframe tbody tr th {\n",
       "        vertical-align: top;\n",
       "    }\n",
       "\n",
       "    .dataframe thead th {\n",
       "        text-align: right;\n",
       "    }\n",
       "</style>\n",
       "<table border=\"1\" class=\"dataframe\">\n",
       "  <thead>\n",
       "    <tr style=\"text-align: right;\">\n",
       "      <th></th>\n",
       "      <th>cust_id</th>\n",
       "      <th>country</th>\n",
       "      <th>amount_spent</th>\n",
       "    </tr>\n",
       "  </thead>\n",
       "  <tbody>\n",
       "    <tr>\n",
       "      <th>0</th>\n",
       "      <td>12346</td>\n",
       "      <td>United Kingdom</td>\n",
       "      <td>77183.60</td>\n",
       "    </tr>\n",
       "    <tr>\n",
       "      <th>1</th>\n",
       "      <td>12347</td>\n",
       "      <td>Iceland</td>\n",
       "      <td>4310.00</td>\n",
       "    </tr>\n",
       "    <tr>\n",
       "      <th>2</th>\n",
       "      <td>12348</td>\n",
       "      <td>Finland</td>\n",
       "      <td>1797.24</td>\n",
       "    </tr>\n",
       "    <tr>\n",
       "      <th>3</th>\n",
       "      <td>12349</td>\n",
       "      <td>Italy</td>\n",
       "      <td>1757.55</td>\n",
       "    </tr>\n",
       "    <tr>\n",
       "      <th>4</th>\n",
       "      <td>12350</td>\n",
       "      <td>Norway</td>\n",
       "      <td>334.40</td>\n",
       "    </tr>\n",
       "    <tr>\n",
       "      <th>...</th>\n",
       "      <td>...</td>\n",
       "      <td>...</td>\n",
       "      <td>...</td>\n",
       "    </tr>\n",
       "    <tr>\n",
       "      <th>4342</th>\n",
       "      <td>18280</td>\n",
       "      <td>United Kingdom</td>\n",
       "      <td>180.60</td>\n",
       "    </tr>\n",
       "    <tr>\n",
       "      <th>4343</th>\n",
       "      <td>18281</td>\n",
       "      <td>United Kingdom</td>\n",
       "      <td>80.82</td>\n",
       "    </tr>\n",
       "    <tr>\n",
       "      <th>4344</th>\n",
       "      <td>18282</td>\n",
       "      <td>United Kingdom</td>\n",
       "      <td>178.05</td>\n",
       "    </tr>\n",
       "    <tr>\n",
       "      <th>4345</th>\n",
       "      <td>18283</td>\n",
       "      <td>United Kingdom</td>\n",
       "      <td>2094.88</td>\n",
       "    </tr>\n",
       "    <tr>\n",
       "      <th>4346</th>\n",
       "      <td>18287</td>\n",
       "      <td>United Kingdom</td>\n",
       "      <td>1837.28</td>\n",
       "    </tr>\n",
       "  </tbody>\n",
       "</table>\n",
       "<p>4347 rows × 3 columns</p>\n",
       "</div>"
      ],
      "text/plain": [
       "      cust_id         country  amount_spent\n",
       "0       12346  United Kingdom      77183.60\n",
       "1       12347         Iceland       4310.00\n",
       "2       12348         Finland       1797.24\n",
       "3       12349           Italy       1757.55\n",
       "4       12350          Norway        334.40\n",
       "...       ...             ...           ...\n",
       "4342    18280  United Kingdom        180.60\n",
       "4343    18281  United Kingdom         80.82\n",
       "4344    18282  United Kingdom        178.05\n",
       "4345    18283  United Kingdom       2094.88\n",
       "4346    18287  United Kingdom       1837.28\n",
       "\n",
       "[4347 rows x 3 columns]"
      ]
     },
     "execution_count": 165,
     "metadata": {},
     "output_type": "execute_result"
    }
   ],
   "source": [
    "df_new.groupby(by = ['cust_id', 'country'], as_index = False)['amount_spent'].sum()"
   ]
  },
  {
   "cell_type": "code",
   "execution_count": 166,
   "id": "144bc425-91e5-48a3-a2b8-d70984059b8e",
   "metadata": {},
   "outputs": [],
   "source": [
    "money_spent = df_new.groupby(by = ['cust_id', 'country'], as_index = False)['amount_spent'].sum()"
   ]
  },
  {
   "cell_type": "code",
   "execution_count": 167,
   "id": "4afb9e11-2026-4b78-87ec-8aaae09bf2f7",
   "metadata": {},
   "outputs": [
    {
     "data": {
      "text/html": [
       "<div>\n",
       "<style scoped>\n",
       "    .dataframe tbody tr th:only-of-type {\n",
       "        vertical-align: middle;\n",
       "    }\n",
       "\n",
       "    .dataframe tbody tr th {\n",
       "        vertical-align: top;\n",
       "    }\n",
       "\n",
       "    .dataframe thead th {\n",
       "        text-align: right;\n",
       "    }\n",
       "</style>\n",
       "<table border=\"1\" class=\"dataframe\">\n",
       "  <thead>\n",
       "    <tr style=\"text-align: right;\">\n",
       "      <th></th>\n",
       "      <th>cust_id</th>\n",
       "      <th>country</th>\n",
       "      <th>amount_spent</th>\n",
       "    </tr>\n",
       "  </thead>\n",
       "  <tbody>\n",
       "    <tr>\n",
       "      <th>0</th>\n",
       "      <td>12346</td>\n",
       "      <td>United Kingdom</td>\n",
       "      <td>77183.60</td>\n",
       "    </tr>\n",
       "    <tr>\n",
       "      <th>1</th>\n",
       "      <td>12347</td>\n",
       "      <td>Iceland</td>\n",
       "      <td>4310.00</td>\n",
       "    </tr>\n",
       "    <tr>\n",
       "      <th>2</th>\n",
       "      <td>12348</td>\n",
       "      <td>Finland</td>\n",
       "      <td>1797.24</td>\n",
       "    </tr>\n",
       "    <tr>\n",
       "      <th>3</th>\n",
       "      <td>12349</td>\n",
       "      <td>Italy</td>\n",
       "      <td>1757.55</td>\n",
       "    </tr>\n",
       "    <tr>\n",
       "      <th>4</th>\n",
       "      <td>12350</td>\n",
       "      <td>Norway</td>\n",
       "      <td>334.40</td>\n",
       "    </tr>\n",
       "    <tr>\n",
       "      <th>...</th>\n",
       "      <td>...</td>\n",
       "      <td>...</td>\n",
       "      <td>...</td>\n",
       "    </tr>\n",
       "    <tr>\n",
       "      <th>4342</th>\n",
       "      <td>18280</td>\n",
       "      <td>United Kingdom</td>\n",
       "      <td>180.60</td>\n",
       "    </tr>\n",
       "    <tr>\n",
       "      <th>4343</th>\n",
       "      <td>18281</td>\n",
       "      <td>United Kingdom</td>\n",
       "      <td>80.82</td>\n",
       "    </tr>\n",
       "    <tr>\n",
       "      <th>4344</th>\n",
       "      <td>18282</td>\n",
       "      <td>United Kingdom</td>\n",
       "      <td>178.05</td>\n",
       "    </tr>\n",
       "    <tr>\n",
       "      <th>4345</th>\n",
       "      <td>18283</td>\n",
       "      <td>United Kingdom</td>\n",
       "      <td>2094.88</td>\n",
       "    </tr>\n",
       "    <tr>\n",
       "      <th>4346</th>\n",
       "      <td>18287</td>\n",
       "      <td>United Kingdom</td>\n",
       "      <td>1837.28</td>\n",
       "    </tr>\n",
       "  </tbody>\n",
       "</table>\n",
       "<p>4347 rows × 3 columns</p>\n",
       "</div>"
      ],
      "text/plain": [
       "      cust_id         country  amount_spent\n",
       "0       12346  United Kingdom      77183.60\n",
       "1       12347         Iceland       4310.00\n",
       "2       12348         Finland       1797.24\n",
       "3       12349           Italy       1757.55\n",
       "4       12350          Norway        334.40\n",
       "...       ...             ...           ...\n",
       "4342    18280  United Kingdom        180.60\n",
       "4343    18281  United Kingdom         80.82\n",
       "4344    18282  United Kingdom        178.05\n",
       "4345    18283  United Kingdom       2094.88\n",
       "4346    18287  United Kingdom       1837.28\n",
       "\n",
       "[4347 rows x 3 columns]"
      ]
     },
     "execution_count": 167,
     "metadata": {},
     "output_type": "execute_result"
    }
   ],
   "source": [
    "money_spent"
   ]
  },
  {
   "cell_type": "markdown",
   "id": "3175f5c7-03ff-49cb-868b-26d1a328eb67",
   "metadata": {},
   "source": [
    "### 62. Top FIVE customers who spend highest money"
   ]
  },
  {
   "cell_type": "code",
   "execution_count": 168,
   "id": "8717e94a-7aae-41e2-864e-7ff858d4a7b1",
   "metadata": {},
   "outputs": [
    {
     "data": {
      "text/html": [
       "<div>\n",
       "<style scoped>\n",
       "    .dataframe tbody tr th:only-of-type {\n",
       "        vertical-align: middle;\n",
       "    }\n",
       "\n",
       "    .dataframe tbody tr th {\n",
       "        vertical-align: top;\n",
       "    }\n",
       "\n",
       "    .dataframe thead th {\n",
       "        text-align: right;\n",
       "    }\n",
       "</style>\n",
       "<table border=\"1\" class=\"dataframe\">\n",
       "  <thead>\n",
       "    <tr style=\"text-align: right;\">\n",
       "      <th></th>\n",
       "      <th>cust_id</th>\n",
       "      <th>country</th>\n",
       "      <th>amount_spent</th>\n",
       "    </tr>\n",
       "  </thead>\n",
       "  <tbody>\n",
       "    <tr>\n",
       "      <th>1698</th>\n",
       "      <td>14646</td>\n",
       "      <td>Netherlands</td>\n",
       "      <td>280206.02</td>\n",
       "    </tr>\n",
       "    <tr>\n",
       "      <th>4210</th>\n",
       "      <td>18102</td>\n",
       "      <td>United Kingdom</td>\n",
       "      <td>259657.30</td>\n",
       "    </tr>\n",
       "    <tr>\n",
       "      <th>3737</th>\n",
       "      <td>17450</td>\n",
       "      <td>United Kingdom</td>\n",
       "      <td>194550.79</td>\n",
       "    </tr>\n",
       "    <tr>\n",
       "      <th>3017</th>\n",
       "      <td>16446</td>\n",
       "      <td>United Kingdom</td>\n",
       "      <td>168472.50</td>\n",
       "    </tr>\n",
       "    <tr>\n",
       "      <th>1888</th>\n",
       "      <td>14911</td>\n",
       "      <td>EIRE</td>\n",
       "      <td>143825.06</td>\n",
       "    </tr>\n",
       "  </tbody>\n",
       "</table>\n",
       "</div>"
      ],
      "text/plain": [
       "      cust_id         country  amount_spent\n",
       "1698    14646     Netherlands     280206.02\n",
       "4210    18102  United Kingdom     259657.30\n",
       "3737    17450  United Kingdom     194550.79\n",
       "3017    16446  United Kingdom     168472.50\n",
       "1888    14911            EIRE     143825.06"
      ]
     },
     "execution_count": 168,
     "metadata": {},
     "output_type": "execute_result"
    }
   ],
   "source": [
    "money_spent.sort_values(by='amount_spent', ascending = False).head()"
   ]
  },
  {
   "cell_type": "markdown",
   "id": "a1087e92-0418-4588-a6d5-56a2395ab1a2",
   "metadata": {},
   "source": [
    "### 63. Top TEN customers who spend highest money"
   ]
  },
  {
   "cell_type": "code",
   "execution_count": 171,
   "id": "48893226-478b-437b-b6d9-4a27ac9ab241",
   "metadata": {},
   "outputs": [
    {
     "data": {
      "text/html": [
       "<div>\n",
       "<style scoped>\n",
       "    .dataframe tbody tr th:only-of-type {\n",
       "        vertical-align: middle;\n",
       "    }\n",
       "\n",
       "    .dataframe tbody tr th {\n",
       "        vertical-align: top;\n",
       "    }\n",
       "\n",
       "    .dataframe thead th {\n",
       "        text-align: right;\n",
       "    }\n",
       "</style>\n",
       "<table border=\"1\" class=\"dataframe\">\n",
       "  <thead>\n",
       "    <tr style=\"text-align: right;\">\n",
       "      <th></th>\n",
       "      <th>cust_id</th>\n",
       "      <th>country</th>\n",
       "      <th>amount_spent</th>\n",
       "    </tr>\n",
       "  </thead>\n",
       "  <tbody>\n",
       "    <tr>\n",
       "      <th>1698</th>\n",
       "      <td>14646</td>\n",
       "      <td>Netherlands</td>\n",
       "      <td>280206.02</td>\n",
       "    </tr>\n",
       "    <tr>\n",
       "      <th>4210</th>\n",
       "      <td>18102</td>\n",
       "      <td>United Kingdom</td>\n",
       "      <td>259657.30</td>\n",
       "    </tr>\n",
       "    <tr>\n",
       "      <th>3737</th>\n",
       "      <td>17450</td>\n",
       "      <td>United Kingdom</td>\n",
       "      <td>194550.79</td>\n",
       "    </tr>\n",
       "    <tr>\n",
       "      <th>3017</th>\n",
       "      <td>16446</td>\n",
       "      <td>United Kingdom</td>\n",
       "      <td>168472.50</td>\n",
       "    </tr>\n",
       "    <tr>\n",
       "      <th>1888</th>\n",
       "      <td>14911</td>\n",
       "      <td>EIRE</td>\n",
       "      <td>143825.06</td>\n",
       "    </tr>\n",
       "    <tr>\n",
       "      <th>57</th>\n",
       "      <td>12415</td>\n",
       "      <td>Australia</td>\n",
       "      <td>124914.53</td>\n",
       "    </tr>\n",
       "    <tr>\n",
       "      <th>1342</th>\n",
       "      <td>14156</td>\n",
       "      <td>EIRE</td>\n",
       "      <td>117379.63</td>\n",
       "    </tr>\n",
       "    <tr>\n",
       "      <th>3780</th>\n",
       "      <td>17511</td>\n",
       "      <td>United Kingdom</td>\n",
       "      <td>91062.38</td>\n",
       "    </tr>\n",
       "    <tr>\n",
       "      <th>2711</th>\n",
       "      <td>16029</td>\n",
       "      <td>United Kingdom</td>\n",
       "      <td>81024.84</td>\n",
       "    </tr>\n",
       "    <tr>\n",
       "      <th>0</th>\n",
       "      <td>12346</td>\n",
       "      <td>United Kingdom</td>\n",
       "      <td>77183.60</td>\n",
       "    </tr>\n",
       "  </tbody>\n",
       "</table>\n",
       "</div>"
      ],
      "text/plain": [
       "      cust_id         country  amount_spent\n",
       "1698    14646     Netherlands     280206.02\n",
       "4210    18102  United Kingdom     259657.30\n",
       "3737    17450  United Kingdom     194550.79\n",
       "3017    16446  United Kingdom     168472.50\n",
       "1888    14911            EIRE     143825.06\n",
       "57      12415       Australia     124914.53\n",
       "1342    14156            EIRE     117379.63\n",
       "3780    17511  United Kingdom      91062.38\n",
       "2711    16029  United Kingdom      81024.84\n",
       "0       12346  United Kingdom      77183.60"
      ]
     },
     "execution_count": 171,
     "metadata": {},
     "output_type": "execute_result"
    }
   ],
   "source": [
    "money_spent.sort_values(by='amount_spent', ascending = False).head(10)"
   ]
  },
  {
   "cell_type": "markdown",
   "id": "131cbd1b-84b8-4a8c-a0f6-5a600cc64e80",
   "metadata": {},
   "source": [
    "### 64. Visualizing - Money spent for different customers"
   ]
  },
  {
   "cell_type": "code",
   "execution_count": 181,
   "id": "40205129-ca00-411d-af8c-56b7ce29a457",
   "metadata": {},
   "outputs": [
    {
     "data": {
      "image/png": "[encoded data removed]",
      "text/plain": [
       "<Figure size 1500x600 with 1 Axes>"
      ]
     },
     "metadata": {},
     "output_type": "display_data"
    }
   ],
   "source": [
    "money_spent = df_new.groupby(by=['cust_id','country'], as_index=False)['amount_spent'].sum()\n",
    "\n",
    "plt.subplots(figsize=(15,6))\n",
    "\n",
    "plt.plot(money_spent.cust_id, money_spent.amount_spent,color = \"b\")\n",
    "\n",
    "plt.xlabel('Customers ID')\n",
    "plt.ylabel('Money spent (Dollar)')\n",
    "plt.title('Money Spent for different Customers',color = \"g\")\n",
    "\n",
    "plt.show()"
   ]
  },
  {
   "cell_type": "markdown",
   "id": "7b830652-76a9-4ff9-9972-ccc98a744d37",
   "metadata": {},
   "source": [
    "### 65. Number of order for different months"
   ]
  },
  {
   "cell_type": "markdown",
   "id": "a8e15e62-b46e-48b0-8e48-f7e401ae354b",
   "metadata": {},
   "source": [
    "- #### Accessing initial five values"
   ]
  },
  {
   "cell_type": "code",
   "execution_count": 185,
   "id": "22f0443b-2e6e-4334-85e3-e2b2ee367f72",
   "metadata": {},
   "outputs": [
    {
     "data": {
      "text/html": [
       "<div>\n",
       "<style scoped>\n",
       "    .dataframe tbody tr th:only-of-type {\n",
       "        vertical-align: middle;\n",
       "    }\n",
       "\n",
       "    .dataframe tbody tr th {\n",
       "        vertical-align: top;\n",
       "    }\n",
       "\n",
       "    .dataframe thead th {\n",
       "        text-align: right;\n",
       "    }\n",
       "</style>\n",
       "<table border=\"1\" class=\"dataframe\">\n",
       "  <thead>\n",
       "    <tr style=\"text-align: right;\">\n",
       "      <th></th>\n",
       "      <th>invoice_num</th>\n",
       "      <th>invoice_date</th>\n",
       "      <th>year_month</th>\n",
       "      <th>month</th>\n",
       "      <th>day</th>\n",
       "      <th>hour</th>\n",
       "      <th>stock_code</th>\n",
       "      <th>description</th>\n",
       "      <th>quantity</th>\n",
       "      <th>unit_price</th>\n",
       "      <th>amount_spent</th>\n",
       "      <th>cust_id</th>\n",
       "      <th>country</th>\n",
       "    </tr>\n",
       "  </thead>\n",
       "  <tbody>\n",
       "    <tr>\n",
       "      <th>0</th>\n",
       "      <td>536365</td>\n",
       "      <td>2010-12-01 08:26:00</td>\n",
       "      <td>201012</td>\n",
       "      <td>12</td>\n",
       "      <td>1</td>\n",
       "      <td>8</td>\n",
       "      <td>85123A</td>\n",
       "      <td>white hanging heart t-light holder</td>\n",
       "      <td>6</td>\n",
       "      <td>2.55</td>\n",
       "      <td>15.30</td>\n",
       "      <td>17850</td>\n",
       "      <td>United Kingdom</td>\n",
       "    </tr>\n",
       "    <tr>\n",
       "      <th>1</th>\n",
       "      <td>536365</td>\n",
       "      <td>2010-12-01 08:26:00</td>\n",
       "      <td>201012</td>\n",
       "      <td>12</td>\n",
       "      <td>1</td>\n",
       "      <td>8</td>\n",
       "      <td>71053</td>\n",
       "      <td>white metal lantern</td>\n",
       "      <td>6</td>\n",
       "      <td>3.39</td>\n",
       "      <td>20.34</td>\n",
       "      <td>17850</td>\n",
       "      <td>United Kingdom</td>\n",
       "    </tr>\n",
       "    <tr>\n",
       "      <th>2</th>\n",
       "      <td>536365</td>\n",
       "      <td>2010-12-01 08:26:00</td>\n",
       "      <td>201012</td>\n",
       "      <td>12</td>\n",
       "      <td>1</td>\n",
       "      <td>8</td>\n",
       "      <td>84406B</td>\n",
       "      <td>cream cupid hearts coat hanger</td>\n",
       "      <td>8</td>\n",
       "      <td>2.75</td>\n",
       "      <td>22.00</td>\n",
       "      <td>17850</td>\n",
       "      <td>United Kingdom</td>\n",
       "    </tr>\n",
       "    <tr>\n",
       "      <th>3</th>\n",
       "      <td>536365</td>\n",
       "      <td>2010-12-01 08:26:00</td>\n",
       "      <td>201012</td>\n",
       "      <td>12</td>\n",
       "      <td>1</td>\n",
       "      <td>8</td>\n",
       "      <td>84029G</td>\n",
       "      <td>knitted union flag hot water bottle</td>\n",
       "      <td>6</td>\n",
       "      <td>3.39</td>\n",
       "      <td>20.34</td>\n",
       "      <td>17850</td>\n",
       "      <td>United Kingdom</td>\n",
       "    </tr>\n",
       "    <tr>\n",
       "      <th>4</th>\n",
       "      <td>536365</td>\n",
       "      <td>2010-12-01 08:26:00</td>\n",
       "      <td>201012</td>\n",
       "      <td>12</td>\n",
       "      <td>1</td>\n",
       "      <td>8</td>\n",
       "      <td>84029E</td>\n",
       "      <td>red woolly hottie white heart.</td>\n",
       "      <td>6</td>\n",
       "      <td>3.39</td>\n",
       "      <td>20.34</td>\n",
       "      <td>17850</td>\n",
       "      <td>United Kingdom</td>\n",
       "    </tr>\n",
       "  </tbody>\n",
       "</table>\n",
       "</div>"
      ],
      "text/plain": [
       "  invoice_num        invoice_date  year_month  month  day  hour stock_code  \\\n",
       "0      536365 2010-12-01 08:26:00      201012     12    1     8     85123A   \n",
       "1      536365 2010-12-01 08:26:00      201012     12    1     8      71053   \n",
       "2      536365 2010-12-01 08:26:00      201012     12    1     8     84406B   \n",
       "3      536365 2010-12-01 08:26:00      201012     12    1     8     84029G   \n",
       "4      536365 2010-12-01 08:26:00      201012     12    1     8     84029E   \n",
       "\n",
       "                           description  quantity  unit_price  amount_spent  \\\n",
       "0   white hanging heart t-light holder         6        2.55         15.30   \n",
       "1                  white metal lantern         6        3.39         20.34   \n",
       "2       cream cupid hearts coat hanger         8        2.75         22.00   \n",
       "3  knitted union flag hot water bottle         6        3.39         20.34   \n",
       "4       red woolly hottie white heart.         6        3.39         20.34   \n",
       "\n",
       "   cust_id         country  \n",
       "0    17850  United Kingdom  \n",
       "1    17850  United Kingdom  \n",
       "2    17850  United Kingdom  \n",
       "3    17850  United Kingdom  \n",
       "4    17850  United Kingdom  "
      ]
     },
     "execution_count": 185,
     "metadata": {},
     "output_type": "execute_result"
    }
   ],
   "source": [
    "df_new.head()"
   ]
  },
  {
   "cell_type": "code",
   "execution_count": 187,
   "id": "df42f986-9495-481f-a7dc-031cf9f88213",
   "metadata": {},
   "outputs": [],
   "source": [
    "color = sns.color_palette()"
   ]
  },
  {
   "cell_type": "markdown",
   "id": "959f97f8-8095-48b7-9c97-4d09832ceaf7",
   "metadata": {},
   "source": [
    "### 66. Accessing column"
   ]
  },
  {
   "cell_type": "code",
   "execution_count": 188,
   "id": "4f69f13b-1afe-4cf4-a3b8-f25cc1dae819",
   "metadata": {},
   "outputs": [
    {
     "data": {
      "text/plain": [
       "<pandas.core.groupby.generic.DataFrameGroupBy object at 0x0000029CEEE90110>"
      ]
     },
     "execution_count": 188,
     "metadata": {},
     "output_type": "execute_result"
    }
   ],
   "source": [
    "df_new.groupby('invoice_num')"
   ]
  },
  {
   "cell_type": "markdown",
   "id": "db8555a0-1e0c-4f21-b949-6c44ed034ccc",
   "metadata": {},
   "source": [
    "### 67.Convert DataFrame into Series"
   ]
  },
  {
   "cell_type": "code",
   "execution_count": 190,
   "id": "cd77c20b-8653-4ff7-86a5-484a4791bfba",
   "metadata": {},
   "outputs": [
    {
     "data": {
      "text/plain": [
       "<pandas.core.groupby.generic.SeriesGroupBy object at 0x0000029CEEE91DD0>"
      ]
     },
     "execution_count": 190,
     "metadata": {},
     "output_type": "execute_result"
    }
   ],
   "source": [
    " df_new.groupby('invoice_num')['year_month']"
   ]
  },
  {
   "cell_type": "code",
   "execution_count": 191,
   "id": "59c25e7f-a6ca-4626-8baa-c6981317f6f6",
   "metadata": {},
   "outputs": [
    {
     "data": {
      "text/plain": [
       "invoice_num\n",
       "536365    [201012]\n",
       "536366    [201012]\n",
       "536367    [201012]\n",
       "536368    [201012]\n",
       "536369    [201012]\n",
       "            ...   \n",
       "581583    [201112]\n",
       "581584    [201112]\n",
       "581585    [201112]\n",
       "581586    [201112]\n",
       "581587    [201112]\n",
       "Name: year_month, Length: 18536, dtype: object"
      ]
     },
     "execution_count": 191,
     "metadata": {},
     "output_type": "execute_result"
    }
   ],
   "source": [
    "df_new.groupby('invoice_num')['year_month'].unique()"
   ]
  },
  {
   "cell_type": "code",
   "execution_count": 192,
   "id": "2a03a26f-1592-43d7-8123-16cd391c5290",
   "metadata": {},
   "outputs": [
    {
     "data": {
      "text/plain": [
       "year_month\n",
       "[201111]    2658\n",
       "[201110]    1929\n",
       "[201109]    1756\n",
       "[201105]    1555\n",
       "[201012]    1400\n",
       "[201106]    1393\n",
       "[201107]    1331\n",
       "[201103]    1321\n",
       "[201108]    1281\n",
       "[201104]    1149\n",
       "[201102]     998\n",
       "[201101]     987\n",
       "[201112]     778\n",
       "Name: count, dtype: int64"
      ]
     },
     "execution_count": 192,
     "metadata": {},
     "output_type": "execute_result"
    }
   ],
   "source": [
    "df_new.groupby('invoice_num')['year_month'].unique().value_counts()"
   ]
  },
  {
   "cell_type": "code",
   "execution_count": 193,
   "id": "f1e5b7f3-2cf1-4df5-ac10-c843677624e8",
   "metadata": {},
   "outputs": [
    {
     "data": {
      "text/plain": [
       "year_month\n",
       "[201012]    1400\n",
       "[201101]     987\n",
       "[201102]     998\n",
       "[201103]    1321\n",
       "[201104]    1149\n",
       "[201105]    1555\n",
       "[201106]    1393\n",
       "[201107]    1331\n",
       "[201108]    1281\n",
       "[201109]    1756\n",
       "[201110]    1929\n",
       "[201111]    2658\n",
       "[201112]     778\n",
       "Name: count, dtype: int64"
      ]
     },
     "execution_count": 193,
     "metadata": {},
     "output_type": "execute_result"
    }
   ],
   "source": [
    "df_new.groupby('invoice_num')['year_month'].unique().value_counts().sort_index()"
   ]
  },
  {
   "cell_type": "markdown",
   "id": "27b79bec-82fa-4d04-b9fc-e26e86a1560f",
   "metadata": {},
   "source": [
    "### 68. Number of orders for different Months"
   ]
  },
  {
   "cell_type": "code",
   "execution_count": 194,
   "id": "6ceda151-e912-4391-8286-5e6513c5dc9f",
   "metadata": {},
   "outputs": [
    {
     "data": {
      "image/png": "[encoded data removed]",
      "text/plain": [
       "<Figure size 1500x600 with 1 Axes>"
      ]
     },
     "metadata": {},
     "output_type": "display_data"
    }
   ],
   "source": [
    "ax = df_new.groupby('invoice_num')['year_month'].unique().value_counts().sort_index().plot(kind = 'bar',color = color[0],figsize = (15,6))\n",
    "\n",
    "ax.set_xlabel('Month and Year',fontsize=15)\n",
    "ax.set_ylabel('Number of Orders',fontsize=15)\n",
    "ax.set_title('Number of orders for different Months (1st Dec 2010 - 9th Dec 2011)', fontsize = 15)\n",
    "\n",
    "t = ('Dec_10','Jan_11','Feb_11','Mar_11','Apr_11','May_11','Jun_11','July_11','Aug_11','Sep_11','Oct_11','Nov_11','Dec_11')\n",
    "\n",
    "ax.set_xticklabels(t, rotation='horizontal', fontsize=13)\n",
    "\n",
    "plt.show()"
   ]
  },
  {
   "cell_type": "markdown",
   "id": "3fb5d540-20fb-4643-922c-d665f5543a4f",
   "metadata": {},
   "source": [
    "## 69. How many orders (per day)?"
   ]
  },
  {
   "cell_type": "code",
   "execution_count": null,
   "id": "fa9b5bee-8b5b-4ade-b331-44fa3b001443",
   "metadata": {},
   "outputs": [],
   "source": []
  },
  {
   "cell_type": "code",
   "execution_count": null,
   "id": "aa18158f-c7cb-44a0-a8a2-2c3e5a0dabd4",
   "metadata": {},
   "outputs": [],
   "source": []
  },
  {
   "cell_type": "code",
   "execution_count": null,
   "id": "4bdc07c7-cb88-4ee6-a85d-684c61a8eb0a",
   "metadata": {},
   "outputs": [],
   "source": []
  }
 ],
 "metadata": {
  "kernelspec": {
   "display_name": "Python 3 (ipykernel)",
   "language": "python",
   "name": "python3"
  },
  "language_info": {
   "codemirror_mode": {
    "name": "ipython",
    "version": 3
   },
   "file_extension": ".py",
   "mimetype": "text/x-python",
   "name": "python",
   "nbconvert_exporter": "python",
   "pygments_lexer": "ipython3",
   "version": "3.11.4"
  }
 },
 "nbformat": 4,
 "nbformat_minor": 5
}
